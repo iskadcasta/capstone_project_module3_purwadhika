{
  "nbformat": 4,
  "nbformat_minor": 0,
  "metadata": {
    "colab": {
      "provenance": [],
      "collapsed_sections": [],
      "toc_visible": true
    },
    "kernelspec": {
      "name": "python3",
      "display_name": "Python 3"
    },
    "language_info": {
      "name": "python"
    }
  },
  "cells": [
    {
      "cell_type": "markdown",
      "source": [
        "# **Capstone Module 3 - Ecommerce Customer Churn**"
      ],
      "metadata": {
        "id": "P5DOPX0GzfEo"
      }
    },
    {
      "cell_type": "markdown",
      "source": [
        "## **Business Problem Understanding**"
      ],
      "metadata": {
        "id": "6zZuMBUszpIL"
      }
    },
    {
      "cell_type": "markdown",
      "source": [
        "**Context** <br>\n",
        "Divisi Big Data yang ada pada suatu perusahaan e-commerce sedang diminta untuk melakukan identifikasi pelanggan yang akan hilang atau tidak lagi menggunakan layanan perusahaan. Salah satu fungsinya melakukan identifikasi pelanggan tersebut adalah untuk menawarkan penawaran-penawaran khusus yang dapat membuat pelanggan tersebut tidak hilang dan tetap menggunakan layanan perusahaan. Fenomena pelanggan yang berpotensi hilang atau tidak lagi menggunakan layanan perusahaan dapat disebut sebagai Customer Churn. Dengan adanya aktivitas ini diharapkan pelanggan-pelanggan tetap loyal terhadap layanan yang diberikan oleh perusahaan."
      ],
      "metadata": {
        "id": "P0-Lbfck5N1N"
      }
    },
    {
      "cell_type": "markdown",
      "source": [
        "**Problem Statement** <br>\n",
        "Hal yang diperlukan untuk melakukan aktivitas ini adalah dengan membuat problem statement. Fenomena Customer Churn ini dapat disebabkan oleh banyak faktor seperti munculnya pesaing-pesaing baru perusahaan yang memiliki layanan sejenis, layanan perusahaan yang kurang memuaskan dan lain sebagainya. Hal ini memiliki sedikit ambiguitas karena ketidaktahuan secara pasti penyebab dari Customer Churn.\n",
        "\n",
        "Oleh sebab itu tugas dari Divisi Big Data akan memprediksi fenomena Customer Churn ini. Dengan adanya aktivitas ini membuat perusahaan dapat mengantisipasi fenomena Customer Churn yang akan terjadi nantinya."
      ],
      "metadata": {
        "id": "QhrPXbux7Q1q"
      }
    },
    {
      "cell_type": "markdown",
      "source": [
        "**Goals** <br>\n",
        "Maka berdasarkan context dan permasalahan tersebut, perusahaan membutuhkan kemampuan memprediksi kemungkinan pelanggan yang dapat churn dikemudian hari. Hal tersebut bertujuan agar pendapatan perusahaan tidak akan berkurang dikemudian hari kare terjadinya Customer Churn. \n",
        "\n",
        "Selain itu, perusahaan juga ingin mengetahui faktor dan variabel apa saja yang menyebabkan terjadinya Customer Churn. Dengan mengetahui hal tersebut perusahaan dapat membuat rencana yang lebih baik untuk mendekati pelanggan agar tetap loyal terhadap layanan yang diberikan oleh perusahaan."
      ],
      "metadata": {
        "id": "k5PmqHpg9WTI"
      }
    },
    {
      "cell_type": "markdown",
      "source": [
        "**Analytic Approach** <br>\n",
        "Jadi kita akan melakukan analisis data untuk menemukan pelanggan yang akan Churn dan pelanggan yang tetap loyal pada layanan yang diberikan oleh perusahaan.kemudian hasil analisis tersebut dapat kita gunakan untuk membuat program atau promosi atau kegiatan lainnya yang bertujuan untuk tetap mempertahankan pelanggan yang memiliki kemungkinan Churn."
      ],
      "metadata": {
        "id": "8WOfMRiPQ-kj"
      }
    },
    {
      "cell_type": "markdown",
      "source": [
        "**Metric Evaluation** <br>\n",
        "Type 1 error : False Positive  \n",
        "Konsekuensi: Biaya penawaran khusus yang dikeluarkan oleh perusahaan menjadi sia-sia. <br><br>\n",
        "Type 2 error : False Negative  \n",
        "Konsekuensi: Pelanggan melakukan Churn dan tidak lagi menggunakan layanan perusahaan. <br><br>\n",
        "Berdasarkan konsekuensinya, maka sebisa mungkin yang akan kita lakukan adalah dengan mengoptimalkan biaya pengeluaran yang dikeluarkan oleh perusahaan untuk membuat penawaran maupun promo khusus untuk pelanggan dan tidak membuat pelanggan menjadi Churn. <br>\n",
        "Jadi, matric yang cocok untuk digunakan dalam kasus ini adalah roc_auc. Karena kita akan memaksimalkan nilai **Recall/True Positive Rate** dan meminimalkan **False Positive Rate**."
      ],
      "metadata": {
        "id": "OhZUBJZGTbtQ"
      }
    },
    {
      "cell_type": "markdown",
      "source": [
        "## **Data Understanding**"
      ],
      "metadata": {
        "id": "YTAE5lcXzzzo"
      }
    },
    {
      "cell_type": "markdown",
      "source": [
        "### **Attribute Information**"
      ],
      "metadata": {
        "id": "9q5aiZwa0Bqb"
      }
    },
    {
      "cell_type": "markdown",
      "source": [
        "| Attribute | Data Type, Length | Description |\n",
        "| --- | --- | --- |\n",
        "| tenure | Float | Tenure of customer in organization |\n",
        "| WarehouseToHome | Float | Distance in between warehouse to home of customer |\n",
        "| NumberOfDeviceRegistered | Integer | Total number of deceives is registered on particular customer |\n",
        "| PreferedOrderCat | Text | Preferred order category of customer in last month |\n",
        "| SatisfactionScore | Integer | Satisfactory score of customer on service |\n",
        "| MaritalStatus | Text | Marital status of customer |\n",
        "| NumberOfAddress | Integer | Total number of added added on particular customer |\n",
        "| Complain | Integer | Any complaint has been raised in last month |\n",
        "| DaySinceLastOrder | Float | Day Since last order by customer |\n",
        "| CashbackAmount | Float | Average cashback in last month |\n",
        "| Churn | Integer | Churn Flag |"
      ],
      "metadata": {
        "id": "YQ3LEtwCz4WJ"
      }
    },
    {
      "cell_type": "markdown",
      "source": [
        "### **Library**"
      ],
      "metadata": {
        "id": "jEX8JNP6YnCK"
      }
    },
    {
      "cell_type": "markdown",
      "source": [
        "Sebelum dimulai proses kegiatan analisis kali ini, yang pertama yang harus dilakukan adalah menyiapkan library-library yang dibutuhkan. Apabila ada library yang belum diinstall maka kita harus menginstall libarary tersebut. "
      ],
      "metadata": {
        "id": "lCEAmgqYlD5y"
      }
    },
    {
      "cell_type": "code",
      "source": [
        "!pip install catboost"
      ],
      "metadata": {
        "colab": {
          "base_uri": "https://localhost:8080/"
        },
        "id": "2va0Byl-ZZMj",
        "outputId": "171313cc-dc68-461d-f438-12f8535345a3"
      },
      "execution_count": null,
      "outputs": [
        {
          "output_type": "stream",
          "name": "stdout",
          "text": [
            "Looking in indexes: https://pypi.org/simple, https://us-python.pkg.dev/colab-wheels/public/simple/\n",
            "Collecting catboost\n",
            "  Downloading catboost-1.1.1-cp37-none-manylinux1_x86_64.whl (76.6 MB)\n",
            "\u001b[K     |████████████████████████████████| 76.6 MB 1.2 MB/s \n",
            "\u001b[?25hRequirement already satisfied: numpy>=1.16.0 in /usr/local/lib/python3.7/dist-packages (from catboost) (1.21.6)\n",
            "Requirement already satisfied: plotly in /usr/local/lib/python3.7/dist-packages (from catboost) (5.5.0)\n",
            "Requirement already satisfied: six in /usr/local/lib/python3.7/dist-packages (from catboost) (1.15.0)\n",
            "Requirement already satisfied: matplotlib in /usr/local/lib/python3.7/dist-packages (from catboost) (3.2.2)\n",
            "Requirement already satisfied: pandas>=0.24.0 in /usr/local/lib/python3.7/dist-packages (from catboost) (1.3.5)\n",
            "Requirement already satisfied: graphviz in /usr/local/lib/python3.7/dist-packages (from catboost) (0.10.1)\n",
            "Requirement already satisfied: scipy in /usr/local/lib/python3.7/dist-packages (from catboost) (1.7.3)\n",
            "Requirement already satisfied: python-dateutil>=2.7.3 in /usr/local/lib/python3.7/dist-packages (from pandas>=0.24.0->catboost) (2.8.2)\n",
            "Requirement already satisfied: pytz>=2017.3 in /usr/local/lib/python3.7/dist-packages (from pandas>=0.24.0->catboost) (2022.6)\n",
            "Requirement already satisfied: kiwisolver>=1.0.1 in /usr/local/lib/python3.7/dist-packages (from matplotlib->catboost) (1.4.4)\n",
            "Requirement already satisfied: pyparsing!=2.0.4,!=2.1.2,!=2.1.6,>=2.0.1 in /usr/local/lib/python3.7/dist-packages (from matplotlib->catboost) (3.0.9)\n",
            "Requirement already satisfied: cycler>=0.10 in /usr/local/lib/python3.7/dist-packages (from matplotlib->catboost) (0.11.0)\n",
            "Requirement already satisfied: typing-extensions in /usr/local/lib/python3.7/dist-packages (from kiwisolver>=1.0.1->matplotlib->catboost) (4.1.1)\n",
            "Requirement already satisfied: tenacity>=6.2.0 in /usr/local/lib/python3.7/dist-packages (from plotly->catboost) (8.1.0)\n",
            "Installing collected packages: catboost\n",
            "Successfully installed catboost-1.1.1\n"
          ]
        }
      ]
    },
    {
      "cell_type": "code",
      "source": [
        "!pip install shap"
      ],
      "metadata": {
        "colab": {
          "base_uri": "https://localhost:8080/"
        },
        "id": "mB1HTYeZZ3Hi",
        "outputId": "9d6a17e3-7815-4a76-9645-4b25e54821bd"
      },
      "execution_count": null,
      "outputs": [
        {
          "output_type": "stream",
          "name": "stdout",
          "text": [
            "Looking in indexes: https://pypi.org/simple, https://us-python.pkg.dev/colab-wheels/public/simple/\n",
            "Collecting shap\n",
            "  Downloading shap-0.41.0-cp37-cp37m-manylinux_2_12_x86_64.manylinux2010_x86_64.whl (569 kB)\n",
            "\u001b[K     |████████████████████████████████| 569 kB 5.3 MB/s \n",
            "\u001b[?25hRequirement already satisfied: numpy in /usr/local/lib/python3.7/dist-packages (from shap) (1.21.6)\n",
            "Requirement already satisfied: numba in /usr/local/lib/python3.7/dist-packages (from shap) (0.56.4)\n",
            "Requirement already satisfied: pandas in /usr/local/lib/python3.7/dist-packages (from shap) (1.3.5)\n",
            "Requirement already satisfied: scikit-learn in /usr/local/lib/python3.7/dist-packages (from shap) (1.0.2)\n",
            "Collecting slicer==0.0.7\n",
            "  Downloading slicer-0.0.7-py3-none-any.whl (14 kB)\n",
            "Requirement already satisfied: tqdm>4.25.0 in /usr/local/lib/python3.7/dist-packages (from shap) (4.64.1)\n",
            "Requirement already satisfied: cloudpickle in /usr/local/lib/python3.7/dist-packages (from shap) (1.5.0)\n",
            "Requirement already satisfied: scipy in /usr/local/lib/python3.7/dist-packages (from shap) (1.7.3)\n",
            "Requirement already satisfied: packaging>20.9 in /usr/local/lib/python3.7/dist-packages (from shap) (21.3)\n",
            "Requirement already satisfied: pyparsing!=3.0.5,>=2.0.2 in /usr/local/lib/python3.7/dist-packages (from packaging>20.9->shap) (3.0.9)\n",
            "Requirement already satisfied: setuptools in /usr/local/lib/python3.7/dist-packages (from numba->shap) (57.4.0)\n",
            "Requirement already satisfied: importlib-metadata in /usr/local/lib/python3.7/dist-packages (from numba->shap) (4.13.0)\n",
            "Requirement already satisfied: llvmlite<0.40,>=0.39.0dev0 in /usr/local/lib/python3.7/dist-packages (from numba->shap) (0.39.1)\n",
            "Requirement already satisfied: zipp>=0.5 in /usr/local/lib/python3.7/dist-packages (from importlib-metadata->numba->shap) (3.10.0)\n",
            "Requirement already satisfied: typing-extensions>=3.6.4 in /usr/local/lib/python3.7/dist-packages (from importlib-metadata->numba->shap) (4.1.1)\n",
            "Requirement already satisfied: pytz>=2017.3 in /usr/local/lib/python3.7/dist-packages (from pandas->shap) (2022.6)\n",
            "Requirement already satisfied: python-dateutil>=2.7.3 in /usr/local/lib/python3.7/dist-packages (from pandas->shap) (2.8.2)\n",
            "Requirement already satisfied: six>=1.5 in /usr/local/lib/python3.7/dist-packages (from python-dateutil>=2.7.3->pandas->shap) (1.15.0)\n",
            "Requirement already satisfied: threadpoolctl>=2.0.0 in /usr/local/lib/python3.7/dist-packages (from scikit-learn->shap) (3.1.0)\n",
            "Requirement already satisfied: joblib>=0.11 in /usr/local/lib/python3.7/dist-packages (from scikit-learn->shap) (1.2.0)\n",
            "Installing collected packages: slicer, shap\n",
            "Successfully installed shap-0.41.0 slicer-0.0.7\n"
          ]
        }
      ]
    },
    {
      "cell_type": "code",
      "source": [
        "# Data Frame Library\n",
        "import numpy as np\n",
        "import pandas as pd\n",
        "\n",
        "# Visualization Library\n",
        "import matplotlib.pyplot as plt\n",
        "import seaborn as sns\n",
        "import missingno as msno\n",
        "from IPython.display import Image\n",
        "\n",
        "# Feature Engineering Library\n",
        "from sklearn.pipeline import Pipeline\n",
        "from sklearn.compose import ColumnTransformer\n",
        "from sklearn.experimental import enable_iterative_imputer\n",
        "from sklearn.impute import KNNImputer, SimpleImputer, IterativeImputer\n",
        "from sklearn.preprocessing import LabelEncoder, OneHotEncoder, PolynomialFeatures\n",
        "from imblearn.over_sampling import RandomOverSampler\n",
        "from imblearn.under_sampling import RandomUnderSampler\n",
        "from imblearn.over_sampling import SMOTENC\n",
        "\n",
        "# Model Selection Library\n",
        "from statsmodels.stats.outliers_influence import variance_inflation_factor as vif\n",
        "from sklearn.linear_model import LogisticRegression\n",
        "from sklearn.tree import DecisionTreeClassifier\n",
        "from sklearn.neighbors import KNeighborsClassifier\n",
        "from sklearn.ensemble import RandomForestClassifier\n",
        "from xgboost import XGBClassifier\n",
        "from catboost import CatBoostClassifier\n",
        "from sklearn.ensemble import AdaBoostClassifier\n",
        "import lightgbm as lgb\n",
        "\n",
        "# Evaluation\n",
        "import shap \n",
        "from sklearn.model_selection import train_test_split, cross_val_score, StratifiedKFold, cross_val_score, GridSearchCV\n",
        "from sklearn.metrics import f1_score, accuracy_score, precision_score, recall_score\n",
        "from sklearn.metrics import confusion_matrix, roc_curve, roc_auc_score, classification_report\n",
        "\n",
        "# Addition\n",
        "import pickle\n",
        "import sys\n",
        "import warnings\n",
        "warnings.filterwarnings(\"ignore\")\n",
        "if not sys.warnoptions:\n",
        "    warnings.simplefilter(\"ignore\")"
      ],
      "metadata": {
        "id": "HuTf_ZNJYtnx"
      },
      "execution_count": null,
      "outputs": []
    },
    {
      "cell_type": "markdown",
      "source": [
        "### **Import Data**"
      ],
      "metadata": {
        "id": "3VuiDO2ZbiNg"
      }
    },
    {
      "cell_type": "markdown",
      "source": [
        "Selanjutnya dilakukan loading dataset yang sudah ada dan menyimpannya pada variabel baru."
      ],
      "metadata": {
        "id": "yqjZ29aRlgis"
      }
    },
    {
      "cell_type": "code",
      "source": [
        "# Load dataset yang sudah ada\n",
        "df_raw = pd.read_csv('data_ecommerce_customer_churn.csv')\n",
        "\n",
        "df = df_raw.copy()\n",
        "df.head()"
      ],
      "metadata": {
        "id": "b9UcZy3vbz7T",
        "colab": {
          "base_uri": "https://localhost:8080/",
          "height": 270
        },
        "outputId": "4a821b63-ec79-4777-fb9d-90472e2e30bb"
      },
      "execution_count": null,
      "outputs": [
        {
          "output_type": "execute_result",
          "data": {
            "text/plain": [
              "   Tenure  WarehouseToHome  NumberOfDeviceRegistered    PreferedOrderCat  \\\n",
              "0    15.0             29.0                         4  Laptop & Accessory   \n",
              "1     7.0             25.0                         4              Mobile   \n",
              "2    27.0             13.0                         3  Laptop & Accessory   \n",
              "3    20.0             25.0                         4             Fashion   \n",
              "4    30.0             15.0                         4              Others   \n",
              "\n",
              "   SatisfactionScore MaritalStatus  NumberOfAddress  Complain  \\\n",
              "0                  3        Single                2         0   \n",
              "1                  1       Married                2         0   \n",
              "2                  1       Married                5         0   \n",
              "3                  3      Divorced                7         0   \n",
              "4                  4        Single                8         0   \n",
              "\n",
              "   DaySinceLastOrder  CashbackAmount  Churn  \n",
              "0                7.0          143.32      0  \n",
              "1                7.0          129.29      0  \n",
              "2                7.0          168.54      0  \n",
              "3                NaN          230.27      0  \n",
              "4                8.0          322.17      0  "
            ],
            "text/html": [
              "\n",
              "  <div id=\"df-870f8417-67b1-4bff-bae6-48503268236b\">\n",
              "    <div class=\"colab-df-container\">\n",
              "      <div>\n",
              "<style scoped>\n",
              "    .dataframe tbody tr th:only-of-type {\n",
              "        vertical-align: middle;\n",
              "    }\n",
              "\n",
              "    .dataframe tbody tr th {\n",
              "        vertical-align: top;\n",
              "    }\n",
              "\n",
              "    .dataframe thead th {\n",
              "        text-align: right;\n",
              "    }\n",
              "</style>\n",
              "<table border=\"1\" class=\"dataframe\">\n",
              "  <thead>\n",
              "    <tr style=\"text-align: right;\">\n",
              "      <th></th>\n",
              "      <th>Tenure</th>\n",
              "      <th>WarehouseToHome</th>\n",
              "      <th>NumberOfDeviceRegistered</th>\n",
              "      <th>PreferedOrderCat</th>\n",
              "      <th>SatisfactionScore</th>\n",
              "      <th>MaritalStatus</th>\n",
              "      <th>NumberOfAddress</th>\n",
              "      <th>Complain</th>\n",
              "      <th>DaySinceLastOrder</th>\n",
              "      <th>CashbackAmount</th>\n",
              "      <th>Churn</th>\n",
              "    </tr>\n",
              "  </thead>\n",
              "  <tbody>\n",
              "    <tr>\n",
              "      <th>0</th>\n",
              "      <td>15.0</td>\n",
              "      <td>29.0</td>\n",
              "      <td>4</td>\n",
              "      <td>Laptop &amp; Accessory</td>\n",
              "      <td>3</td>\n",
              "      <td>Single</td>\n",
              "      <td>2</td>\n",
              "      <td>0</td>\n",
              "      <td>7.0</td>\n",
              "      <td>143.32</td>\n",
              "      <td>0</td>\n",
              "    </tr>\n",
              "    <tr>\n",
              "      <th>1</th>\n",
              "      <td>7.0</td>\n",
              "      <td>25.0</td>\n",
              "      <td>4</td>\n",
              "      <td>Mobile</td>\n",
              "      <td>1</td>\n",
              "      <td>Married</td>\n",
              "      <td>2</td>\n",
              "      <td>0</td>\n",
              "      <td>7.0</td>\n",
              "      <td>129.29</td>\n",
              "      <td>0</td>\n",
              "    </tr>\n",
              "    <tr>\n",
              "      <th>2</th>\n",
              "      <td>27.0</td>\n",
              "      <td>13.0</td>\n",
              "      <td>3</td>\n",
              "      <td>Laptop &amp; Accessory</td>\n",
              "      <td>1</td>\n",
              "      <td>Married</td>\n",
              "      <td>5</td>\n",
              "      <td>0</td>\n",
              "      <td>7.0</td>\n",
              "      <td>168.54</td>\n",
              "      <td>0</td>\n",
              "    </tr>\n",
              "    <tr>\n",
              "      <th>3</th>\n",
              "      <td>20.0</td>\n",
              "      <td>25.0</td>\n",
              "      <td>4</td>\n",
              "      <td>Fashion</td>\n",
              "      <td>3</td>\n",
              "      <td>Divorced</td>\n",
              "      <td>7</td>\n",
              "      <td>0</td>\n",
              "      <td>NaN</td>\n",
              "      <td>230.27</td>\n",
              "      <td>0</td>\n",
              "    </tr>\n",
              "    <tr>\n",
              "      <th>4</th>\n",
              "      <td>30.0</td>\n",
              "      <td>15.0</td>\n",
              "      <td>4</td>\n",
              "      <td>Others</td>\n",
              "      <td>4</td>\n",
              "      <td>Single</td>\n",
              "      <td>8</td>\n",
              "      <td>0</td>\n",
              "      <td>8.0</td>\n",
              "      <td>322.17</td>\n",
              "      <td>0</td>\n",
              "    </tr>\n",
              "  </tbody>\n",
              "</table>\n",
              "</div>\n",
              "      <button class=\"colab-df-convert\" onclick=\"convertToInteractive('df-870f8417-67b1-4bff-bae6-48503268236b')\"\n",
              "              title=\"Convert this dataframe to an interactive table.\"\n",
              "              style=\"display:none;\">\n",
              "        \n",
              "  <svg xmlns=\"http://www.w3.org/2000/svg\" height=\"24px\"viewBox=\"0 0 24 24\"\n",
              "       width=\"24px\">\n",
              "    <path d=\"M0 0h24v24H0V0z\" fill=\"none\"/>\n",
              "    <path d=\"M18.56 5.44l.94 2.06.94-2.06 2.06-.94-2.06-.94-.94-2.06-.94 2.06-2.06.94zm-11 1L8.5 8.5l.94-2.06 2.06-.94-2.06-.94L8.5 2.5l-.94 2.06-2.06.94zm10 10l.94 2.06.94-2.06 2.06-.94-2.06-.94-.94-2.06-.94 2.06-2.06.94z\"/><path d=\"M17.41 7.96l-1.37-1.37c-.4-.4-.92-.59-1.43-.59-.52 0-1.04.2-1.43.59L10.3 9.45l-7.72 7.72c-.78.78-.78 2.05 0 2.83L4 21.41c.39.39.9.59 1.41.59.51 0 1.02-.2 1.41-.59l7.78-7.78 2.81-2.81c.8-.78.8-2.07 0-2.86zM5.41 20L4 18.59l7.72-7.72 1.47 1.35L5.41 20z\"/>\n",
              "  </svg>\n",
              "      </button>\n",
              "      \n",
              "  <style>\n",
              "    .colab-df-container {\n",
              "      display:flex;\n",
              "      flex-wrap:wrap;\n",
              "      gap: 12px;\n",
              "    }\n",
              "\n",
              "    .colab-df-convert {\n",
              "      background-color: #E8F0FE;\n",
              "      border: none;\n",
              "      border-radius: 50%;\n",
              "      cursor: pointer;\n",
              "      display: none;\n",
              "      fill: #1967D2;\n",
              "      height: 32px;\n",
              "      padding: 0 0 0 0;\n",
              "      width: 32px;\n",
              "    }\n",
              "\n",
              "    .colab-df-convert:hover {\n",
              "      background-color: #E2EBFA;\n",
              "      box-shadow: 0px 1px 2px rgba(60, 64, 67, 0.3), 0px 1px 3px 1px rgba(60, 64, 67, 0.15);\n",
              "      fill: #174EA6;\n",
              "    }\n",
              "\n",
              "    [theme=dark] .colab-df-convert {\n",
              "      background-color: #3B4455;\n",
              "      fill: #D2E3FC;\n",
              "    }\n",
              "\n",
              "    [theme=dark] .colab-df-convert:hover {\n",
              "      background-color: #434B5C;\n",
              "      box-shadow: 0px 1px 3px 1px rgba(0, 0, 0, 0.15);\n",
              "      filter: drop-shadow(0px 1px 2px rgba(0, 0, 0, 0.3));\n",
              "      fill: #FFFFFF;\n",
              "    }\n",
              "  </style>\n",
              "\n",
              "      <script>\n",
              "        const buttonEl =\n",
              "          document.querySelector('#df-870f8417-67b1-4bff-bae6-48503268236b button.colab-df-convert');\n",
              "        buttonEl.style.display =\n",
              "          google.colab.kernel.accessAllowed ? 'block' : 'none';\n",
              "\n",
              "        async function convertToInteractive(key) {\n",
              "          const element = document.querySelector('#df-870f8417-67b1-4bff-bae6-48503268236b');\n",
              "          const dataTable =\n",
              "            await google.colab.kernel.invokeFunction('convertToInteractive',\n",
              "                                                     [key], {});\n",
              "          if (!dataTable) return;\n",
              "\n",
              "          const docLinkHtml = 'Like what you see? Visit the ' +\n",
              "            '<a target=\"_blank\" href=https://colab.research.google.com/notebooks/data_table.ipynb>data table notebook</a>'\n",
              "            + ' to learn more about interactive tables.';\n",
              "          element.innerHTML = '';\n",
              "          dataTable['output_type'] = 'display_data';\n",
              "          await google.colab.output.renderOutput(dataTable, element);\n",
              "          const docLink = document.createElement('div');\n",
              "          docLink.innerHTML = docLinkHtml;\n",
              "          element.appendChild(docLink);\n",
              "        }\n",
              "      </script>\n",
              "    </div>\n",
              "  </div>\n",
              "  "
            ]
          },
          "metadata": {},
          "execution_count": 4
        }
      ]
    },
    {
      "cell_type": "markdown",
      "source": [
        "###  **Data Exploration 1**"
      ],
      "metadata": {
        "id": "fU91bXVigrpD"
      }
    },
    {
      "cell_type": "markdown",
      "source": [
        "Setelah itu langkah selanjutnya adalah melihat informasi dari dataset tersebut, kali ini akan dilakukan beberpa proses yaitu:\n",
        "1. menampilkan informasi yang ada di dataset berupa **jumlah kolom, jumlah baris dan datatype** dari dataset tersebut. \n",
        "1. melihat pada datset apakah ada data yang kosong (null/NaN).\n",
        "1. melihat apakah ada data yang memiliki duplikat di dataset tersebut.\n",
        "1. melihat nilai yang paling banyak muncul di kolom **PreferedOrderCat** dan **MaritalSatus**.\n",
        "1. melihat dekripsi dari dataset yang kita miliki (standard deviasi, mean, median, modus, dll)"
      ],
      "metadata": {
        "id": "OF15VUDhlsYl"
      }
    },
    {
      "cell_type": "markdown",
      "source": [
        "#### **Dataset Information**"
      ],
      "metadata": {
        "id": "uJ2HYcBy_hKR"
      }
    },
    {
      "cell_type": "code",
      "source": [
        "# Melihat informasi yang ada di dataset (jumlah kolom dan baris, datatype)\n",
        "df.info()"
      ],
      "metadata": {
        "colab": {
          "base_uri": "https://localhost:8080/"
        },
        "id": "TPwC-pO5ibNh",
        "outputId": "aa38973f-211a-4a15-c2b0-76fdb8325963"
      },
      "execution_count": null,
      "outputs": [
        {
          "output_type": "stream",
          "name": "stdout",
          "text": [
            "<class 'pandas.core.frame.DataFrame'>\n",
            "RangeIndex: 3941 entries, 0 to 3940\n",
            "Data columns (total 11 columns):\n",
            " #   Column                    Non-Null Count  Dtype  \n",
            "---  ------                    --------------  -----  \n",
            " 0   Tenure                    3747 non-null   float64\n",
            " 1   WarehouseToHome           3772 non-null   float64\n",
            " 2   NumberOfDeviceRegistered  3941 non-null   int64  \n",
            " 3   PreferedOrderCat          3941 non-null   object \n",
            " 4   SatisfactionScore         3941 non-null   int64  \n",
            " 5   MaritalStatus             3941 non-null   object \n",
            " 6   NumberOfAddress           3941 non-null   int64  \n",
            " 7   Complain                  3941 non-null   int64  \n",
            " 8   DaySinceLastOrder         3728 non-null   float64\n",
            " 9   CashbackAmount            3941 non-null   float64\n",
            " 10  Churn                     3941 non-null   int64  \n",
            "dtypes: float64(4), int64(5), object(2)\n",
            "memory usage: 338.8+ KB\n"
          ]
        }
      ]
    },
    {
      "cell_type": "markdown",
      "source": [
        "#### **Missing Value Data**"
      ],
      "metadata": {
        "id": "Tvi6r-OB_ukc"
      }
    },
    {
      "cell_type": "code",
      "source": [
        "# melihat data kosong pada dataset\n",
        "msno.bar(df,color='dodgerblue', sort='ascending', figsize=(10,5), fontsize=12);"
      ],
      "metadata": {
        "colab": {
          "base_uri": "https://localhost:8080/",
          "height": 475
        },
        "id": "3BC3CMiD17BH",
        "outputId": "df905b01-7d4d-477b-96a4-79cca7e9911b"
      },
      "execution_count": null,
      "outputs": [
        {
          "output_type": "display_data",
          "data": {
            "text/plain": [
              "<Figure size 720x360 with 3 Axes>"
            ],
            "image/png": "[encoded data removed]"
          },
          "metadata": {
            "needs_background": "light"
          }
        }
      ]
    },
    {
      "cell_type": "markdown",
      "source": [
        "#### **Duplicate Data**"
      ],
      "metadata": {
        "id": "DMfTCelO_7TR"
      }
    },
    {
      "cell_type": "code",
      "source": [
        "# Melihat data yang memiliki duplikat\n",
        "display(df[df.duplicated(subset=None)].count())"
      ],
      "metadata": {
        "colab": {
          "base_uri": "https://localhost:8080/",
          "height": 225
        },
        "id": "8ka4za_Vu5P5",
        "outputId": "e244b8db-56b6-4522-8b35-962b38c53875"
      },
      "execution_count": null,
      "outputs": [
        {
          "output_type": "display_data",
          "data": {
            "text/plain": [
              "Tenure                      637\n",
              "WarehouseToHome             637\n",
              "NumberOfDeviceRegistered    671\n",
              "PreferedOrderCat            671\n",
              "SatisfactionScore           671\n",
              "MaritalStatus               671\n",
              "NumberOfAddress             671\n",
              "Complain                    671\n",
              "DaySinceLastOrder           639\n",
              "CashbackAmount              671\n",
              "Churn                       671\n",
              "dtype: int64"
            ]
          },
          "metadata": {}
        }
      ]
    },
    {
      "cell_type": "markdown",
      "source": [
        "#### **Most Value**"
      ],
      "metadata": {
        "id": "xB68qWSrADi8"
      }
    },
    {
      "cell_type": "code",
      "source": [
        "# Melihat nilai yang paling banyak muncul di kolom PreferedOrderCat dan MaritalSatus\n",
        "df.describe(include='object').T"
      ],
      "metadata": {
        "colab": {
          "base_uri": "https://localhost:8080/",
          "height": 112
        },
        "id": "5wc2iLsV0Rs6",
        "outputId": "c8f862b0-c200-4c95-f7f2-4c89ca9dee88"
      },
      "execution_count": null,
      "outputs": [
        {
          "output_type": "execute_result",
          "data": {
            "text/plain": [
              "                 count unique                 top  freq\n",
              "PreferedOrderCat  3941      6  Laptop & Accessory  1458\n",
              "MaritalStatus     3941      3             Married  2055"
            ],
            "text/html": [
              "\n",
              "  <div id=\"df-8c41b67b-3e23-4ee6-9d9a-7af4398166d7\">\n",
              "    <div class=\"colab-df-container\">\n",
              "      <div>\n",
              "<style scoped>\n",
              "    .dataframe tbody tr th:only-of-type {\n",
              "        vertical-align: middle;\n",
              "    }\n",
              "\n",
              "    .dataframe tbody tr th {\n",
              "        vertical-align: top;\n",
              "    }\n",
              "\n",
              "    .dataframe thead th {\n",
              "        text-align: right;\n",
              "    }\n",
              "</style>\n",
              "<table border=\"1\" class=\"dataframe\">\n",
              "  <thead>\n",
              "    <tr style=\"text-align: right;\">\n",
              "      <th></th>\n",
              "      <th>count</th>\n",
              "      <th>unique</th>\n",
              "      <th>top</th>\n",
              "      <th>freq</th>\n",
              "    </tr>\n",
              "  </thead>\n",
              "  <tbody>\n",
              "    <tr>\n",
              "      <th>PreferedOrderCat</th>\n",
              "      <td>3941</td>\n",
              "      <td>6</td>\n",
              "      <td>Laptop &amp; Accessory</td>\n",
              "      <td>1458</td>\n",
              "    </tr>\n",
              "    <tr>\n",
              "      <th>MaritalStatus</th>\n",
              "      <td>3941</td>\n",
              "      <td>3</td>\n",
              "      <td>Married</td>\n",
              "      <td>2055</td>\n",
              "    </tr>\n",
              "  </tbody>\n",
              "</table>\n",
              "</div>\n",
              "      <button class=\"colab-df-convert\" onclick=\"convertToInteractive('df-8c41b67b-3e23-4ee6-9d9a-7af4398166d7')\"\n",
              "              title=\"Convert this dataframe to an interactive table.\"\n",
              "              style=\"display:none;\">\n",
              "        \n",
              "  <svg xmlns=\"http://www.w3.org/2000/svg\" height=\"24px\"viewBox=\"0 0 24 24\"\n",
              "       width=\"24px\">\n",
              "    <path d=\"M0 0h24v24H0V0z\" fill=\"none\"/>\n",
              "    <path d=\"M18.56 5.44l.94 2.06.94-2.06 2.06-.94-2.06-.94-.94-2.06-.94 2.06-2.06.94zm-11 1L8.5 8.5l.94-2.06 2.06-.94-2.06-.94L8.5 2.5l-.94 2.06-2.06.94zm10 10l.94 2.06.94-2.06 2.06-.94-2.06-.94-.94-2.06-.94 2.06-2.06.94z\"/><path d=\"M17.41 7.96l-1.37-1.37c-.4-.4-.92-.59-1.43-.59-.52 0-1.04.2-1.43.59L10.3 9.45l-7.72 7.72c-.78.78-.78 2.05 0 2.83L4 21.41c.39.39.9.59 1.41.59.51 0 1.02-.2 1.41-.59l7.78-7.78 2.81-2.81c.8-.78.8-2.07 0-2.86zM5.41 20L4 18.59l7.72-7.72 1.47 1.35L5.41 20z\"/>\n",
              "  </svg>\n",
              "      </button>\n",
              "      \n",
              "  <style>\n",
              "    .colab-df-container {\n",
              "      display:flex;\n",
              "      flex-wrap:wrap;\n",
              "      gap: 12px;\n",
              "    }\n",
              "\n",
              "    .colab-df-convert {\n",
              "      background-color: #E8F0FE;\n",
              "      border: none;\n",
              "      border-radius: 50%;\n",
              "      cursor: pointer;\n",
              "      display: none;\n",
              "      fill: #1967D2;\n",
              "      height: 32px;\n",
              "      padding: 0 0 0 0;\n",
              "      width: 32px;\n",
              "    }\n",
              "\n",
              "    .colab-df-convert:hover {\n",
              "      background-color: #E2EBFA;\n",
              "      box-shadow: 0px 1px 2px rgba(60, 64, 67, 0.3), 0px 1px 3px 1px rgba(60, 64, 67, 0.15);\n",
              "      fill: #174EA6;\n",
              "    }\n",
              "\n",
              "    [theme=dark] .colab-df-convert {\n",
              "      background-color: #3B4455;\n",
              "      fill: #D2E3FC;\n",
              "    }\n",
              "\n",
              "    [theme=dark] .colab-df-convert:hover {\n",
              "      background-color: #434B5C;\n",
              "      box-shadow: 0px 1px 3px 1px rgba(0, 0, 0, 0.15);\n",
              "      filter: drop-shadow(0px 1px 2px rgba(0, 0, 0, 0.3));\n",
              "      fill: #FFFFFF;\n",
              "    }\n",
              "  </style>\n",
              "\n",
              "      <script>\n",
              "        const buttonEl =\n",
              "          document.querySelector('#df-8c41b67b-3e23-4ee6-9d9a-7af4398166d7 button.colab-df-convert');\n",
              "        buttonEl.style.display =\n",
              "          google.colab.kernel.accessAllowed ? 'block' : 'none';\n",
              "\n",
              "        async function convertToInteractive(key) {\n",
              "          const element = document.querySelector('#df-8c41b67b-3e23-4ee6-9d9a-7af4398166d7');\n",
              "          const dataTable =\n",
              "            await google.colab.kernel.invokeFunction('convertToInteractive',\n",
              "                                                     [key], {});\n",
              "          if (!dataTable) return;\n",
              "\n",
              "          const docLinkHtml = 'Like what you see? Visit the ' +\n",
              "            '<a target=\"_blank\" href=https://colab.research.google.com/notebooks/data_table.ipynb>data table notebook</a>'\n",
              "            + ' to learn more about interactive tables.';\n",
              "          element.innerHTML = '';\n",
              "          dataTable['output_type'] = 'display_data';\n",
              "          await google.colab.output.renderOutput(dataTable, element);\n",
              "          const docLink = document.createElement('div');\n",
              "          docLink.innerHTML = docLinkHtml;\n",
              "          element.appendChild(docLink);\n",
              "        }\n",
              "      </script>\n",
              "    </div>\n",
              "  </div>\n",
              "  "
            ]
          },
          "metadata": {},
          "execution_count": 8
        }
      ]
    },
    {
      "cell_type": "markdown",
      "source": [
        "#### **Description Dataset**"
      ],
      "metadata": {
        "id": "5uAdsO2jAMoH"
      }
    },
    {
      "cell_type": "code",
      "source": [
        "# melihat dekripsi dari dataset yang kita miliki\n",
        "df.describe(exclude='object').T"
      ],
      "metadata": {
        "colab": {
          "base_uri": "https://localhost:8080/",
          "height": 332
        },
        "id": "xWQK_S2G0ik0",
        "outputId": "0c72e3de-d407-4ea0-c83b-4b506f071a9e"
      },
      "execution_count": null,
      "outputs": [
        {
          "output_type": "execute_result",
          "data": {
            "text/plain": [
              "                           count        mean        std  min    25%     50%  \\\n",
              "Tenure                    3747.0   10.081398   8.498864  0.0    2.0    9.00   \n",
              "WarehouseToHome           3772.0   15.650583   8.452301  5.0    9.0   14.00   \n",
              "NumberOfDeviceRegistered  3941.0    3.679269   1.013938  1.0    3.0    4.00   \n",
              "SatisfactionScore         3941.0    3.088302   1.381832  1.0    2.0    3.00   \n",
              "NumberOfAddress           3941.0    4.237757   2.626699  1.0    2.0    3.00   \n",
              "Complain                  3941.0    0.282416   0.450232  0.0    0.0    0.00   \n",
              "DaySinceLastOrder         3728.0    4.531652   3.667648  0.0    2.0    3.00   \n",
              "CashbackAmount            3941.0  176.707419  48.791784  0.0  145.7  163.34   \n",
              "Churn                     3941.0    0.171023   0.376576  0.0    0.0    0.00   \n",
              "\n",
              "                             75%     max  \n",
              "Tenure                     16.00   61.00  \n",
              "WarehouseToHome            21.00  127.00  \n",
              "NumberOfDeviceRegistered    4.00    6.00  \n",
              "SatisfactionScore           4.00    5.00  \n",
              "NumberOfAddress             6.00   22.00  \n",
              "Complain                    1.00    1.00  \n",
              "DaySinceLastOrder           7.00   46.00  \n",
              "CashbackAmount            195.25  324.99  \n",
              "Churn                       0.00    1.00  "
            ],
            "text/html": [
              "\n",
              "  <div id=\"df-c4763624-6cda-4edc-a257-b5381e871950\">\n",
              "    <div class=\"colab-df-container\">\n",
              "      <div>\n",
              "<style scoped>\n",
              "    .dataframe tbody tr th:only-of-type {\n",
              "        vertical-align: middle;\n",
              "    }\n",
              "\n",
              "    .dataframe tbody tr th {\n",
              "        vertical-align: top;\n",
              "    }\n",
              "\n",
              "    .dataframe thead th {\n",
              "        text-align: right;\n",
              "    }\n",
              "</style>\n",
              "<table border=\"1\" class=\"dataframe\">\n",
              "  <thead>\n",
              "    <tr style=\"text-align: right;\">\n",
              "      <th></th>\n",
              "      <th>count</th>\n",
              "      <th>mean</th>\n",
              "      <th>std</th>\n",
              "      <th>min</th>\n",
              "      <th>25%</th>\n",
              "      <th>50%</th>\n",
              "      <th>75%</th>\n",
              "      <th>max</th>\n",
              "    </tr>\n",
              "  </thead>\n",
              "  <tbody>\n",
              "    <tr>\n",
              "      <th>Tenure</th>\n",
              "      <td>3747.0</td>\n",
              "      <td>10.081398</td>\n",
              "      <td>8.498864</td>\n",
              "      <td>0.0</td>\n",
              "      <td>2.0</td>\n",
              "      <td>9.00</td>\n",
              "      <td>16.00</td>\n",
              "      <td>61.00</td>\n",
              "    </tr>\n",
              "    <tr>\n",
              "      <th>WarehouseToHome</th>\n",
              "      <td>3772.0</td>\n",
              "      <td>15.650583</td>\n",
              "      <td>8.452301</td>\n",
              "      <td>5.0</td>\n",
              "      <td>9.0</td>\n",
              "      <td>14.00</td>\n",
              "      <td>21.00</td>\n",
              "      <td>127.00</td>\n",
              "    </tr>\n",
              "    <tr>\n",
              "      <th>NumberOfDeviceRegistered</th>\n",
              "      <td>3941.0</td>\n",
              "      <td>3.679269</td>\n",
              "      <td>1.013938</td>\n",
              "      <td>1.0</td>\n",
              "      <td>3.0</td>\n",
              "      <td>4.00</td>\n",
              "      <td>4.00</td>\n",
              "      <td>6.00</td>\n",
              "    </tr>\n",
              "    <tr>\n",
              "      <th>SatisfactionScore</th>\n",
              "      <td>3941.0</td>\n",
              "      <td>3.088302</td>\n",
              "      <td>1.381832</td>\n",
              "      <td>1.0</td>\n",
              "      <td>2.0</td>\n",
              "      <td>3.00</td>\n",
              "      <td>4.00</td>\n",
              "      <td>5.00</td>\n",
              "    </tr>\n",
              "    <tr>\n",
              "      <th>NumberOfAddress</th>\n",
              "      <td>3941.0</td>\n",
              "      <td>4.237757</td>\n",
              "      <td>2.626699</td>\n",
              "      <td>1.0</td>\n",
              "      <td>2.0</td>\n",
              "      <td>3.00</td>\n",
              "      <td>6.00</td>\n",
              "      <td>22.00</td>\n",
              "    </tr>\n",
              "    <tr>\n",
              "      <th>Complain</th>\n",
              "      <td>3941.0</td>\n",
              "      <td>0.282416</td>\n",
              "      <td>0.450232</td>\n",
              "      <td>0.0</td>\n",
              "      <td>0.0</td>\n",
              "      <td>0.00</td>\n",
              "      <td>1.00</td>\n",
              "      <td>1.00</td>\n",
              "    </tr>\n",
              "    <tr>\n",
              "      <th>DaySinceLastOrder</th>\n",
              "      <td>3728.0</td>\n",
              "      <td>4.531652</td>\n",
              "      <td>3.667648</td>\n",
              "      <td>0.0</td>\n",
              "      <td>2.0</td>\n",
              "      <td>3.00</td>\n",
              "      <td>7.00</td>\n",
              "      <td>46.00</td>\n",
              "    </tr>\n",
              "    <tr>\n",
              "      <th>CashbackAmount</th>\n",
              "      <td>3941.0</td>\n",
              "      <td>176.707419</td>\n",
              "      <td>48.791784</td>\n",
              "      <td>0.0</td>\n",
              "      <td>145.7</td>\n",
              "      <td>163.34</td>\n",
              "      <td>195.25</td>\n",
              "      <td>324.99</td>\n",
              "    </tr>\n",
              "    <tr>\n",
              "      <th>Churn</th>\n",
              "      <td>3941.0</td>\n",
              "      <td>0.171023</td>\n",
              "      <td>0.376576</td>\n",
              "      <td>0.0</td>\n",
              "      <td>0.0</td>\n",
              "      <td>0.00</td>\n",
              "      <td>0.00</td>\n",
              "      <td>1.00</td>\n",
              "    </tr>\n",
              "  </tbody>\n",
              "</table>\n",
              "</div>\n",
              "      <button class=\"colab-df-convert\" onclick=\"convertToInteractive('df-c4763624-6cda-4edc-a257-b5381e871950')\"\n",
              "              title=\"Convert this dataframe to an interactive table.\"\n",
              "              style=\"display:none;\">\n",
              "        \n",
              "  <svg xmlns=\"http://www.w3.org/2000/svg\" height=\"24px\"viewBox=\"0 0 24 24\"\n",
              "       width=\"24px\">\n",
              "    <path d=\"M0 0h24v24H0V0z\" fill=\"none\"/>\n",
              "    <path d=\"M18.56 5.44l.94 2.06.94-2.06 2.06-.94-2.06-.94-.94-2.06-.94 2.06-2.06.94zm-11 1L8.5 8.5l.94-2.06 2.06-.94-2.06-.94L8.5 2.5l-.94 2.06-2.06.94zm10 10l.94 2.06.94-2.06 2.06-.94-2.06-.94-.94-2.06-.94 2.06-2.06.94z\"/><path d=\"M17.41 7.96l-1.37-1.37c-.4-.4-.92-.59-1.43-.59-.52 0-1.04.2-1.43.59L10.3 9.45l-7.72 7.72c-.78.78-.78 2.05 0 2.83L4 21.41c.39.39.9.59 1.41.59.51 0 1.02-.2 1.41-.59l7.78-7.78 2.81-2.81c.8-.78.8-2.07 0-2.86zM5.41 20L4 18.59l7.72-7.72 1.47 1.35L5.41 20z\"/>\n",
              "  </svg>\n",
              "      </button>\n",
              "      \n",
              "  <style>\n",
              "    .colab-df-container {\n",
              "      display:flex;\n",
              "      flex-wrap:wrap;\n",
              "      gap: 12px;\n",
              "    }\n",
              "\n",
              "    .colab-df-convert {\n",
              "      background-color: #E8F0FE;\n",
              "      border: none;\n",
              "      border-radius: 50%;\n",
              "      cursor: pointer;\n",
              "      display: none;\n",
              "      fill: #1967D2;\n",
              "      height: 32px;\n",
              "      padding: 0 0 0 0;\n",
              "      width: 32px;\n",
              "    }\n",
              "\n",
              "    .colab-df-convert:hover {\n",
              "      background-color: #E2EBFA;\n",
              "      box-shadow: 0px 1px 2px rgba(60, 64, 67, 0.3), 0px 1px 3px 1px rgba(60, 64, 67, 0.15);\n",
              "      fill: #174EA6;\n",
              "    }\n",
              "\n",
              "    [theme=dark] .colab-df-convert {\n",
              "      background-color: #3B4455;\n",
              "      fill: #D2E3FC;\n",
              "    }\n",
              "\n",
              "    [theme=dark] .colab-df-convert:hover {\n",
              "      background-color: #434B5C;\n",
              "      box-shadow: 0px 1px 3px 1px rgba(0, 0, 0, 0.15);\n",
              "      filter: drop-shadow(0px 1px 2px rgba(0, 0, 0, 0.3));\n",
              "      fill: #FFFFFF;\n",
              "    }\n",
              "  </style>\n",
              "\n",
              "      <script>\n",
              "        const buttonEl =\n",
              "          document.querySelector('#df-c4763624-6cda-4edc-a257-b5381e871950 button.colab-df-convert');\n",
              "        buttonEl.style.display =\n",
              "          google.colab.kernel.accessAllowed ? 'block' : 'none';\n",
              "\n",
              "        async function convertToInteractive(key) {\n",
              "          const element = document.querySelector('#df-c4763624-6cda-4edc-a257-b5381e871950');\n",
              "          const dataTable =\n",
              "            await google.colab.kernel.invokeFunction('convertToInteractive',\n",
              "                                                     [key], {});\n",
              "          if (!dataTable) return;\n",
              "\n",
              "          const docLinkHtml = 'Like what you see? Visit the ' +\n",
              "            '<a target=\"_blank\" href=https://colab.research.google.com/notebooks/data_table.ipynb>data table notebook</a>'\n",
              "            + ' to learn more about interactive tables.';\n",
              "          element.innerHTML = '';\n",
              "          dataTable['output_type'] = 'display_data';\n",
              "          await google.colab.output.renderOutput(dataTable, element);\n",
              "          const docLink = document.createElement('div');\n",
              "          docLink.innerHTML = docLinkHtml;\n",
              "          element.appendChild(docLink);\n",
              "        }\n",
              "      </script>\n",
              "    </div>\n",
              "  </div>\n",
              "  "
            ]
          },
          "metadata": {},
          "execution_count": 9
        }
      ]
    },
    {
      "cell_type": "markdown",
      "source": [
        "#### **Summary Data Exploration 1**"
      ],
      "metadata": {
        "id": "6vo71SExAT45"
      }
    },
    {
      "cell_type": "markdown",
      "source": [
        "Kita sudah melakukan 3 kegiatan yaitu: \n",
        "1. menampilkan informasi yang ada di dataset berupa **jumlah kolom, jumlah baris dan datatype** dari dataset tersebut. \n",
        "1. melihat pada datset apakah ada data yang kosong (null/NaN).\n",
        "1. melihat apakah ada data yang memiliki duplikat di dataset tersebut.\n",
        "1. melihat nilai yang paling banyak muncul di kolom **PreferedOrderCat** dan **MaritalSatus**.\n",
        "1. melihat dekripsi dari dataset yang kita miliki (standard deviasi, mean, median, modus, dll)\n",
        "\n",
        "Dari kegiatan tersebut juga kita memiliki beberapa insight yaitu:\n",
        "1. Dataset tersebut **tidak memiliki kesalahan atau anomali pada datatype**.\n",
        "1. Dataset tersebut memiliki beberapa fitur yang memiliki missing value yaitu **Tenure, WarehouseToHome, dan DaySinceLastOrder**.\n",
        "1. Data set tersebut **memiliki 671 duplikat data**.\n",
        "1. Kolom **PreferedOrderCat** pada dataset memiliki nilai terbanyak yaitu **Laptop & Accessory**.\n",
        "1. Kolom **MaritalStatus** pada dataset memiliki nilai terbanyak yaitu **Married**."
      ],
      "metadata": {
        "id": "g63vaN1Wv4JH"
      }
    },
    {
      "cell_type": "markdown",
      "source": [
        "### **Data Exploration 2**"
      ],
      "metadata": {
        "id": "T0Umh8P_g4dI"
      }
    },
    {
      "cell_type": "markdown",
      "source": [
        "Langkah selanjutnya adalah kembali melakukan Data Exploration namun dengan tujuan untuk mencari informasi yang berbeda. Data Exploration kali ini akan berguna untuk menjawab pertanyaan berikut:\n",
        "1. Apakah dataset (kolom churn) imbalanced atau tidak?\n",
        "1. Pelanggan seperti apa yang paling banyak Churn? (dilihat dari fitur kategorikal)\n",
        "1. Karena pada tahap Data Exploration 1 kita mengetahui adanya data yang duplikat, maka kita akan membandingkan distribusi data antara data dengan duplikasi dan tidak memiliki perbedaan?\n",
        "1. Apakah ada fitur yang memiliki data outlier? \n",
        "1. Fitur apa saja yang kemungkinan menjadi prediktor yang baik?\n",
        "1. Fitur apa saja yang memiliki korelasi paling tinggi pada target?"
      ],
      "metadata": {
        "id": "dQCi_8HTg7e7"
      }
    },
    {
      "cell_type": "markdown",
      "source": [
        "#### **Imbalanced or Not**"
      ],
      "metadata": {
        "id": "JMbfqsJ_2_eZ"
      }
    },
    {
      "cell_type": "code",
      "source": [
        "# Mencari apakah dataset (kolom churn) imbalanced atau tidak\n",
        "sns.countplot(x='Churn',data=df)\n",
        "plt.show()\n",
        "\n",
        "persentase = df['Churn'].value_counts()/df.shape[0]\n",
        "print(persentase)"
      ],
      "metadata": {
        "colab": {
          "base_uri": "https://localhost:8080/",
          "height": 331
        },
        "id": "jy1AVZFmlCZP",
        "outputId": "498521e2-c871-402c-f71e-5408f796549a"
      },
      "execution_count": null,
      "outputs": [
        {
          "output_type": "display_data",
          "data": {
            "text/plain": [
              "<Figure size 432x288 with 1 Axes>"
            ],
            "image/png": "[encoded data removed]"
          },
          "metadata": {
            "needs_background": "light"
          }
        },
        {
          "output_type": "stream",
          "name": "stdout",
          "text": [
            "0    0.828977\n",
            "1    0.171023\n",
            "Name: Churn, dtype: float64\n"
          ]
        }
      ]
    },
    {
      "cell_type": "markdown",
      "source": [
        "> **1. Apakah dataset (kolom churn) imbalanced atau tidak?**\n",
        "\n",
        "Ya, setelah analisa, dari hasil plot diatas menunjukkan bahwa dataset (kolom churn) tersebut memiliki persentase sebesar 83,9% : 17,1% sehingga data tersebut memiliki indikasi Imbalanced"
      ],
      "metadata": {
        "id": "-kgsHTtv9-Hr"
      }
    },
    {
      "cell_type": "markdown",
      "source": [
        "#### **Most Churn Customer**"
      ],
      "metadata": {
        "id": "vhB52iOA4-cC"
      }
    },
    {
      "cell_type": "code",
      "source": [
        "# pelanggan seperti apa yang paling banyak terjadinya Churn\n",
        "for a in df.describe(include='object').columns:\n",
        "    plt.figure(figsize=(7,6))\n",
        "    sns.countplot(x=a,data=df,hue='Churn')\n",
        "    plt.title(a, fontsize=20)\n",
        "    plt.xticks(rotation=30)\n",
        "    plt.show()"
      ],
      "metadata": {
        "colab": {
          "base_uri": "https://localhost:8080/",
          "height": 870
        },
        "id": "iX7doFDElqDS",
        "outputId": "50cccdb7-f968-42df-d5f3-2991ebaecce6"
      },
      "execution_count": null,
      "outputs": [
        {
          "output_type": "display_data",
          "data": {
            "text/plain": [
              "<Figure size 504x432 with 1 Axes>"
            ],
            "image/png": "[encoded data removed]"
          },
          "metadata": {
            "needs_background": "light"
          }
        },
        {
          "output_type": "display_data",
          "data": {
            "text/plain": [
              "<Figure size 504x432 with 1 Axes>"
            ],
            "image/png": "[encoded data removed]"
          },
          "metadata": {
            "needs_background": "light"
          }
        }
      ]
    },
    {
      "cell_type": "markdown",
      "source": [
        "> **2. Pelanggan seperti apa yang paling banyak Churn? (dilihat dari fitur kategorikal)**\n",
        "\n",
        "Dari hasil plot diatas dapat dilihat bahwa pelanggan yang paling banyak Churn adalah pelanggan yang kategori pesanan pilihannya pada bulan sebelumnya (PreferedOrderCat) adalah  **Mobile Phone** dan juga pelanggan yang statusnya (MaritalStatus) masih single.\n",
        "\n",
        "Kita juga bisa melihat bahwa 2 kolom kategorikal ini bukan sebagai data kategori ordinal sehingga untuk melakukan encoding dapat menggunakan **one hot encoding dan juga binary encoding**"
      ],
      "metadata": {
        "id": "96_N24jU-LJ3"
      }
    },
    {
      "cell_type": "markdown",
      "source": [
        "#### **Data Distribution**"
      ],
      "metadata": {
        "id": "Y_3gSCcG7dce"
      }
    },
    {
      "cell_type": "code",
      "source": [
        "# mencari perbedaan distribusi antara data dengan duplikat atau tidak\n",
        "for a in df.describe(exclude='object').columns[:-1]:\n",
        "  fig, axes = plt.subplots(1, 2, figsize=(15,5))\n",
        "  plt.text(.5, 1, 'Kiri = Duplikasi, Kanan =  Tanpa Duplikasi', transform=fig.transFigure, horizontalalignment='center',fontsize=20)\n",
        "  plt.suptitle(a, fontsize=20)\n",
        "  sns.histplot(data=df, x=a, hue='Churn', ax=axes[0])\n",
        "  sns.histplot(data=df.drop_duplicates(subset=None, keep='first'),x=a,hue='Churn',ax=axes[1])\n",
        "  plt.show()"
      ],
      "metadata": {
        "colab": {
          "base_uri": "https://localhost:8080/",
          "height": 1000
        },
        "id": "8pTiSqE5-6Gl",
        "outputId": "05dd20ce-0595-473b-c7f9-a33eec88c9d8"
      },
      "execution_count": null,
      "outputs": [
        {
          "output_type": "display_data",
          "data": {
            "text/plain": [
              "<Figure size 1080x360 with 2 Axes>"
            ],
            "image/png": "[encoded data removed]"
          },
          "metadata": {
            "needs_background": "light"
          }
        },
        {
          "output_type": "display_data",
          "data": {
            "text/plain": [
              "<Figure size 1080x360 with 2 Axes>"
            ],
            "image/png": "[encoded data removed]"
          },
          "metadata": {
            "needs_background": "light"
          }
        },
        {
          "output_type": "display_data",
          "data": {
            "text/plain": [
              "<Figure size 1080x360 with 2 Axes>"
            ],
            "image/png": "[encoded data removed]"
          },
          "metadata": {
            "needs_background": "light"
          }
        },
        {
          "output_type": "display_data",
          "data": {
            "text/plain": [
              "<Figure size 1080x360 with 2 Axes>"
            ],
            "image/png": "[encoded data removed]"
          },
          "metadata": {
            "needs_background": "light"
          }
        },
        {
          "output_type": "display_data",
          "data": {
            "text/plain": [
              "<Figure size 1080x360 with 2 Axes>"
            ],
            "image/png": "[encoded data removed]"
          },
          "metadata": {
            "needs_background": "light"
          }
        },
        {
          "output_type": "display_data",
          "data": {
            "text/plain": [
              "<Figure size 1080x360 with 2 Axes>"
            ],
            "image/png": "[encoded data removed]"
          },
          "metadata": {
            "needs_background": "light"
          }
        },
        {
          "output_type": "display_data",
          "data": {
            "text/plain": [
              "<Figure size 1080x360 with 2 Axes>"
            ],
            "image/png": "[encoded data removed]"
          },
          "metadata": {
            "needs_background": "light"
          }
        },
        {
          "output_type": "display_data",
          "data": {
            "text/plain": [
              "<Figure size 1080x360 with 2 Axes>"
            ],
            "image/png": "[encoded data removed]"
          },
          "metadata": {
            "needs_background": "light"
          }
        }
      ]
    },
    {
      "cell_type": "markdown",
      "source": [
        "> **3. Karena pada tahap Data Exploration 1 kita mengetahui adanya data yang duplikat, maka kita akan membandingkan distribusi data antara data dengan duplikasi dan tidak memiliki perbedaan?**\n",
        "\n",
        "* Kita melihat dari plot-plot diatas bahwa distribusi dataset setelah data duplikat dihapus mengalami sedikit perubahan.\n",
        "* kemudian kita juga bisa melihat data yang memiliki distribusi roght skewed yaitu:\n",
        "  * NumberOfAddress\n",
        "  * DaySinceLastOrder\n",
        "  * CashbackAmount\n",
        "  * Tenure\n",
        "  * WarehouseToHome"
      ],
      "metadata": {
        "id": "7sZ5Com8-kkh"
      }
    },
    {
      "cell_type": "markdown",
      "source": [
        "#### **Outlier**"
      ],
      "metadata": {
        "id": "VgqdeB1SCaaz"
      }
    },
    {
      "cell_type": "code",
      "source": [
        "# mencari Kolom yang memiliki outlier\n",
        "for a in df.describe(exclude='object').columns[:-1]:\n",
        "  plt.suptitle(a, fontsize=20)\n",
        "  sns.boxplot(data=df.drop_duplicates(subset=None, keep='first'),x=a,hue='Churn')\n",
        "  plt.show()"
      ],
      "metadata": {
        "colab": {
          "base_uri": "https://localhost:8080/",
          "height": 1000
        },
        "id": "m2aEPihonmGm",
        "outputId": "975dfd08-6915-4d9d-8fc9-7a3d127634b5"
      },
      "execution_count": null,
      "outputs": [
        {
          "output_type": "display_data",
          "data": {
            "text/plain": [
              "<Figure size 432x288 with 1 Axes>"
            ],
            "image/png": "[encoded data removed]"
          },
          "metadata": {
            "needs_background": "light"
          }
        },
        {
          "output_type": "display_data",
          "data": {
            "text/plain": [
              "<Figure size 432x288 with 1 Axes>"
            ],
            "image/png": "[encoded data removed]"
          },
          "metadata": {
            "needs_background": "light"
          }
        },
        {
          "output_type": "display_data",
          "data": {
            "text/plain": [
              "<Figure size 432x288 with 1 Axes>"
            ],
            "image/png": "[encoded data removed]"
          },
          "metadata": {
            "needs_background": "light"
          }
        },
        {
          "output_type": "display_data",
          "data": {
            "text/plain": [
              "<Figure size 432x288 with 1 Axes>"
            ],
            "image/png": "[encoded data removed]"
          },
          "metadata": {
            "needs_background": "light"
          }
        },
        {
          "output_type": "display_data",
          "data": {
            "text/plain": [
              "<Figure size 432x288 with 1 Axes>"
            ],
            "image/png": "[encoded data removed]"
          },
          "metadata": {
            "needs_background": "light"
          }
        },
        {
          "output_type": "display_data",
          "data": {
            "text/plain": [
              "<Figure size 432x288 with 1 Axes>"
            ],
            "image/png": "[encoded data removed]"
          },
          "metadata": {
            "needs_background": "light"
          }
        },
        {
          "output_type": "display_data",
          "data": {
            "text/plain": [
              "<Figure size 432x288 with 1 Axes>"
            ],
            "image/png": "[encoded data removed]"
          },
          "metadata": {
            "needs_background": "light"
          }
        },
        {
          "output_type": "display_data",
          "data": {
            "text/plain": [
              "<Figure size 432x288 with 1 Axes>"
            ],
            "image/png": "[encoded data removed]"
          },
          "metadata": {
            "needs_background": "light"
          }
        }
      ]
    },
    {
      "cell_type": "markdown",
      "source": [
        "> **4. Apakah ada fitur yang memiliki data outlier?**\n",
        "\n",
        "Setelah kita lakukan analisa, plot-plot diatas menunjukkan ada beberapa fitur yang memiliki data outlier, yaitu:\n",
        "  * Tenure\n",
        "  * WarehouseToHome\n",
        "  * NumberOfDeviceRegistered\n",
        "  * NumberOfAddress\n",
        "  * DaySinceLastOrder\n",
        "  * CashbackAmount"
      ],
      "metadata": {
        "id": "fE9s0RatCd0N"
      }
    },
    {
      "cell_type": "markdown",
      "source": [
        "#### **Predictor Feature**"
      ],
      "metadata": {
        "id": "bfh4WUeDC6ai"
      }
    },
    {
      "cell_type": "code",
      "source": [
        "# Mencari fitur apa saja yang kemungkinan menjadi prediktor yang baik\n",
        "for a in df.describe(exclude='object').columns[:-1]:\n",
        "    plt.suptitle(a, fontsize=20)\n",
        "    sns.boxplot(data=df, y=a, x='Churn')\n",
        "    plt.show()"
      ],
      "metadata": {
        "colab": {
          "base_uri": "https://localhost:8080/",
          "height": 1000
        },
        "id": "JyHIeeESvrOV",
        "outputId": "8a89893d-f086-4a3c-b47f-1c476e2099ac"
      },
      "execution_count": null,
      "outputs": [
        {
          "output_type": "display_data",
          "data": {
            "text/plain": [
              "<Figure size 432x288 with 1 Axes>"
            ],
            "image/png": "[encoded data removed]"
          },
          "metadata": {
            "needs_background": "light"
          }
        },
        {
          "output_type": "display_data",
          "data": {
            "text/plain": [
              "<Figure size 432x288 with 1 Axes>"
            ],
            "image/png": "[encoded data removed]"
          },
          "metadata": {
            "needs_background": "light"
          }
        },
        {
          "output_type": "display_data",
          "data": {
            "text/plain": [
              "<Figure size 432x288 with 1 Axes>"
            ],
            "image/png": "[encoded data removed]"
          },
          "metadata": {
            "needs_background": "light"
          }
        },
        {
          "output_type": "display_data",
          "data": {
            "text/plain": [
              "<Figure size 432x288 with 1 Axes>"
            ],
            "image/png": "[encoded data removed]"
          },
          "metadata": {
            "needs_background": "light"
          }
        },
        {
          "output_type": "display_data",
          "data": {
            "text/plain": [
              "<Figure size 432x288 with 1 Axes>"
            ],
            "image/png": "[encoded data removed]"
          },
          "metadata": {
            "needs_background": "light"
          }
        },
        {
          "output_type": "display_data",
          "data": {
            "text/plain": [
              "<Figure size 432x288 with 1 Axes>"
            ],
            "image/png": "[encoded data removed]"
          },
          "metadata": {
            "needs_background": "light"
          }
        },
        {
          "output_type": "display_data",
          "data": {
            "text/plain": [
              "<Figure size 432x288 with 1 Axes>"
            ],
            "image/png": "[encoded data removed]"
          },
          "metadata": {
            "needs_background": "light"
          }
        },
        {
          "output_type": "display_data",
          "data": {
            "text/plain": [
              "<Figure size 432x288 with 1 Axes>"
            ],
            "image/png": "[encoded data removed]"
          },
          "metadata": {
            "needs_background": "light"
          }
        }
      ]
    },
    {
      "cell_type": "markdown",
      "source": [
        "> **5. Fitur apa saja yang kemungkinan menjadi prediktor yang baik?**\n",
        "\n",
        "Bisa dilihat, ada beberapa fitur yang kemungkinan dapat menjadi prediktor yang baik, yaitu:\n",
        "* Tenure\n",
        "* NumberOfDeciveRegistered\n",
        "* SatisfactionScore\n",
        "* Complain\n",
        "* CashbackAmount"
      ],
      "metadata": {
        "id": "EmZf5bc9DGfi"
      }
    },
    {
      "cell_type": "markdown",
      "source": [
        "#### **Correlation**"
      ],
      "metadata": {
        "id": "VH4TZqA4ERlO"
      }
    },
    {
      "cell_type": "code",
      "source": [
        "# Melihat korelasi dataset\n",
        "df_dengan_dup = df.corr(method='pearson')\n",
        "df_tanpa_dup = df.drop_duplicates(subset=None, keep='first').corr(method='pearson')\n",
        "\n",
        "plt.figure(figsize=(15,9))\n",
        "sns.heatmap(data=df_dengan_dup, annot=True, fmt='.2f',cmap='BuPu_r')\n",
        "plt.title('Korelasi Dengan Data Duplikat', fontsize=20)\n",
        "plt.show()\n",
        "\n",
        "plt.figure(figsize=(15,9))\n",
        "sns.heatmap(data=df_tanpa_dup, annot=True, fmt='.2f', cmap='BuPu_r')\n",
        "plt.title('Korelasi Tanpa Data Duplikat', fontsize=20)\n",
        "plt.show()"
      ],
      "metadata": {
        "colab": {
          "base_uri": "https://localhost:8080/",
          "height": 1000
        },
        "id": "hOpKtrSU6QIk",
        "outputId": "b2841dfe-7249-46f7-847e-fb207f90291a"
      },
      "execution_count": null,
      "outputs": [
        {
          "output_type": "display_data",
          "data": {
            "text/plain": [
              "<Figure size 1080x648 with 2 Axes>"
            ],
            "image/png": "[encoded data removed]"
          },
          "metadata": {
            "needs_background": "light"
          }
        },
        {
          "output_type": "display_data",
          "data": {
            "text/plain": [
              "<Figure size 1080x648 with 2 Axes>"
            ],
            "image/png": "[encoded data removed]"
          },
          "metadata": {
            "needs_background": "light"
          }
        }
      ]
    },
    {
      "cell_type": "markdown",
      "source": [
        "> **6. Fitur apa saja yang memiliki korelasi paling tinggi pada target?** \n",
        "\n",
        "Kita bisa melihat bahwa korelasi tertinggi terdapat pada fitur **Tenure** sehingga fitur tersebut menjadi prediktor terbaik. Selain itu pada korelasi data dengan duplikat atau tanpa duplikat tidak adanya perubahan yang signifikan."
      ],
      "metadata": {
        "id": "zCBRgwSjEbJO"
      }
    },
    {
      "cell_type": "markdown",
      "source": [
        "#### **Summary Data Exploration 2**\n",
        "\n",
        "1. Dari hasil plot menunjukkan bahwa dataset (kolom churn) memiliki persentase sebesar 83,9% : 17,1% sehingga data tersebut memiliki indikasi Imbalanced.\n",
        "1. Dari hasil plot dapat dilihat bahwa \n",
        "  * pelanggan yang paling banyak Churn adalah pelanggan yang kategori pesanan pilihannya pada bulan sebelumnya (PreferedOrderCat) adalah Mobile Phone dan juga pelanggan yang statusnya (MaritalStatus) masih single.\n",
        "  * Kita juga bisa melihat bahwa 2 kolom kategorikal ini bukan sebagai data kategori ordinal sehingga untuk melakukan encoding dapat menggunakan one hot encoding dan juga binary encoding\n",
        "1. Kita melihat dari plot-plot bahwa\n",
        "  * Distribusi dataset setelah data duplikat dihapus mengalami sedikit perubahan.\n",
        "  * kemudian kita juga bisa melihat data yang memiliki distribusi roght skewed yaitu:\n",
        "    * NumberOfAddress\n",
        "    * DaySinceLastOrder\n",
        "    * CashbackAmount\n",
        "    * Tenure\n",
        "    * WarehouseToHome\n",
        "1. Setelah kita lakukan analisa, menunjukkan ada beberapa fitur yang memiliki data outlier, yaitu:\n",
        "  * Tenure\n",
        "  * WarehouseToHome\n",
        "  * NumberOfDeviceRegistered\n",
        "  * NumberOfAddress\n",
        "  * DaySinceLastOrder\n",
        "  * CashbackAmount\n",
        "1. Ada beberapa fitur yang kemungkinan dapat menjadi prediktor yang baik, yaitu:\n",
        "  * Tenure\n",
        "  * NumberOfDeciveRegistered\n",
        "  * SatisfactionScore\n",
        "  * Complain\n",
        "  * CashbackAmount\n",
        "1. Korelasi tertinggi terdapat pada fitur **Tenure** sehingga fitur tersebut menjadi prediktor terbaik. Selain itu pada korelasi data dengan duplikat atau tanpa duplikat tidak adanya perubahan yang signifikan."
      ],
      "metadata": {
        "id": "E3dCqTiKFT0k"
      }
    },
    {
      "cell_type": "markdown",
      "source": [
        "## **Data Cleaning**"
      ],
      "metadata": {
        "id": "1PTl-vZG4J_O"
      }
    },
    {
      "cell_type": "markdown",
      "source": [
        "### **Drop Duplicate Data**"
      ],
      "metadata": {
        "id": "CrumkxZ6MoWb"
      }
    },
    {
      "cell_type": "markdown",
      "source": [
        "Sebelumnya pada **Data Exploration 1** kita mengetahui bahwa ada **671 data duplikat**. Data-data tersebut akan kita hapus terlebih dahulu agar dataset yang kita miliki menjadi lebih baik."
      ],
      "metadata": {
        "id": "EltJm7w3MwRo"
      }
    },
    {
      "cell_type": "code",
      "source": [
        "df.shape"
      ],
      "metadata": {
        "colab": {
          "base_uri": "https://localhost:8080/"
        },
        "id": "9QArR0cqNhdi",
        "outputId": "90031f4b-d165-4159-92a3-434a311db957"
      },
      "execution_count": null,
      "outputs": [
        {
          "output_type": "execute_result",
          "data": {
            "text/plain": [
              "(3941, 11)"
            ]
          },
          "metadata": {},
          "execution_count": 16
        }
      ]
    },
    {
      "cell_type": "code",
      "source": [
        "df = df.drop_duplicates(subset=None, keep='first').reset_index(drop=True)\n",
        "df.shape"
      ],
      "metadata": {
        "colab": {
          "base_uri": "https://localhost:8080/"
        },
        "id": "zRDngBqONQ02",
        "outputId": "7145afe3-fe55-4a51-f03f-5b02b484f90e"
      },
      "execution_count": null,
      "outputs": [
        {
          "output_type": "execute_result",
          "data": {
            "text/plain": [
              "(3270, 11)"
            ]
          },
          "metadata": {},
          "execution_count": 17
        }
      ]
    },
    {
      "cell_type": "markdown",
      "source": [
        "### **Missing Value**"
      ],
      "metadata": {
        "id": "yvWBEmqK3aSw"
      }
    },
    {
      "cell_type": "markdown",
      "source": [
        "Sebelumnya kita sudah melakukan kegiatan **Data Understanding** selanjutnya kita akan melakukan pembersihan dataset terhadap missing value. Namun, sebelum itu kita harus mengetahui karakteristik dari missing value yang ada pada dataset."
      ],
      "metadata": {
        "id": "6gACj6we4MS_"
      }
    },
    {
      "cell_type": "code",
      "source": [
        "# melihat jumlah data kosong pada dataset\n",
        "listItem = []\n",
        "for col in df.columns :\n",
        "    listItem.append([col, df[col].dtype, df[col].isna().sum(), round((df[col].isna().sum()/len(df[col])) * 100,2),\n",
        "                    df[col].nunique()]);\n",
        "\n",
        "dfDesc = pd.DataFrame(columns=['Fitur', 'Tipe Data', 'Data NaN', '% Data kosong', 'Jumlah Unik'],\n",
        "                     data=listItem)\n",
        "dfDesc"
      ],
      "metadata": {
        "id": "4JeVwbZRjX67",
        "colab": {
          "base_uri": "https://localhost:8080/",
          "height": 394
        },
        "outputId": "6a0f8cf3-d2eb-429f-8aed-e163d7413a20"
      },
      "execution_count": null,
      "outputs": [
        {
          "output_type": "execute_result",
          "data": {
            "text/plain": [
              "                       Fitur Tipe Data  Data NaN  % Data kosong  Jumlah Unik\n",
              "0                     Tenure   float64       160           4.89           36\n",
              "1            WarehouseToHome   float64       135           4.13           33\n",
              "2   NumberOfDeviceRegistered     int64         0           0.00            6\n",
              "3           PreferedOrderCat    object         0           0.00            6\n",
              "4          SatisfactionScore     int64         0           0.00            5\n",
              "5              MaritalStatus    object         0           0.00            3\n",
              "6            NumberOfAddress     int64         0           0.00           14\n",
              "7                   Complain     int64         0           0.00            2\n",
              "8          DaySinceLastOrder   float64       181           5.54           22\n",
              "9             CashbackAmount   float64         0           0.00         2335\n",
              "10                     Churn     int64         0           0.00            2"
            ],
            "text/html": [
              "\n",
              "  <div id=\"df-d5f31b88-697f-414e-9b7b-19f16b2dc6d2\">\n",
              "    <div class=\"colab-df-container\">\n",
              "      <div>\n",
              "<style scoped>\n",
              "    .dataframe tbody tr th:only-of-type {\n",
              "        vertical-align: middle;\n",
              "    }\n",
              "\n",
              "    .dataframe tbody tr th {\n",
              "        vertical-align: top;\n",
              "    }\n",
              "\n",
              "    .dataframe thead th {\n",
              "        text-align: right;\n",
              "    }\n",
              "</style>\n",
              "<table border=\"1\" class=\"dataframe\">\n",
              "  <thead>\n",
              "    <tr style=\"text-align: right;\">\n",
              "      <th></th>\n",
              "      <th>Fitur</th>\n",
              "      <th>Tipe Data</th>\n",
              "      <th>Data NaN</th>\n",
              "      <th>% Data kosong</th>\n",
              "      <th>Jumlah Unik</th>\n",
              "    </tr>\n",
              "  </thead>\n",
              "  <tbody>\n",
              "    <tr>\n",
              "      <th>0</th>\n",
              "      <td>Tenure</td>\n",
              "      <td>float64</td>\n",
              "      <td>160</td>\n",
              "      <td>4.89</td>\n",
              "      <td>36</td>\n",
              "    </tr>\n",
              "    <tr>\n",
              "      <th>1</th>\n",
              "      <td>WarehouseToHome</td>\n",
              "      <td>float64</td>\n",
              "      <td>135</td>\n",
              "      <td>4.13</td>\n",
              "      <td>33</td>\n",
              "    </tr>\n",
              "    <tr>\n",
              "      <th>2</th>\n",
              "      <td>NumberOfDeviceRegistered</td>\n",
              "      <td>int64</td>\n",
              "      <td>0</td>\n",
              "      <td>0.00</td>\n",
              "      <td>6</td>\n",
              "    </tr>\n",
              "    <tr>\n",
              "      <th>3</th>\n",
              "      <td>PreferedOrderCat</td>\n",
              "      <td>object</td>\n",
              "      <td>0</td>\n",
              "      <td>0.00</td>\n",
              "      <td>6</td>\n",
              "    </tr>\n",
              "    <tr>\n",
              "      <th>4</th>\n",
              "      <td>SatisfactionScore</td>\n",
              "      <td>int64</td>\n",
              "      <td>0</td>\n",
              "      <td>0.00</td>\n",
              "      <td>5</td>\n",
              "    </tr>\n",
              "    <tr>\n",
              "      <th>5</th>\n",
              "      <td>MaritalStatus</td>\n",
              "      <td>object</td>\n",
              "      <td>0</td>\n",
              "      <td>0.00</td>\n",
              "      <td>3</td>\n",
              "    </tr>\n",
              "    <tr>\n",
              "      <th>6</th>\n",
              "      <td>NumberOfAddress</td>\n",
              "      <td>int64</td>\n",
              "      <td>0</td>\n",
              "      <td>0.00</td>\n",
              "      <td>14</td>\n",
              "    </tr>\n",
              "    <tr>\n",
              "      <th>7</th>\n",
              "      <td>Complain</td>\n",
              "      <td>int64</td>\n",
              "      <td>0</td>\n",
              "      <td>0.00</td>\n",
              "      <td>2</td>\n",
              "    </tr>\n",
              "    <tr>\n",
              "      <th>8</th>\n",
              "      <td>DaySinceLastOrder</td>\n",
              "      <td>float64</td>\n",
              "      <td>181</td>\n",
              "      <td>5.54</td>\n",
              "      <td>22</td>\n",
              "    </tr>\n",
              "    <tr>\n",
              "      <th>9</th>\n",
              "      <td>CashbackAmount</td>\n",
              "      <td>float64</td>\n",
              "      <td>0</td>\n",
              "      <td>0.00</td>\n",
              "      <td>2335</td>\n",
              "    </tr>\n",
              "    <tr>\n",
              "      <th>10</th>\n",
              "      <td>Churn</td>\n",
              "      <td>int64</td>\n",
              "      <td>0</td>\n",
              "      <td>0.00</td>\n",
              "      <td>2</td>\n",
              "    </tr>\n",
              "  </tbody>\n",
              "</table>\n",
              "</div>\n",
              "      <button class=\"colab-df-convert\" onclick=\"convertToInteractive('df-d5f31b88-697f-414e-9b7b-19f16b2dc6d2')\"\n",
              "              title=\"Convert this dataframe to an interactive table.\"\n",
              "              style=\"display:none;\">\n",
              "        \n",
              "  <svg xmlns=\"http://www.w3.org/2000/svg\" height=\"24px\"viewBox=\"0 0 24 24\"\n",
              "       width=\"24px\">\n",
              "    <path d=\"M0 0h24v24H0V0z\" fill=\"none\"/>\n",
              "    <path d=\"M18.56 5.44l.94 2.06.94-2.06 2.06-.94-2.06-.94-.94-2.06-.94 2.06-2.06.94zm-11 1L8.5 8.5l.94-2.06 2.06-.94-2.06-.94L8.5 2.5l-.94 2.06-2.06.94zm10 10l.94 2.06.94-2.06 2.06-.94-2.06-.94-.94-2.06-.94 2.06-2.06.94z\"/><path d=\"M17.41 7.96l-1.37-1.37c-.4-.4-.92-.59-1.43-.59-.52 0-1.04.2-1.43.59L10.3 9.45l-7.72 7.72c-.78.78-.78 2.05 0 2.83L4 21.41c.39.39.9.59 1.41.59.51 0 1.02-.2 1.41-.59l7.78-7.78 2.81-2.81c.8-.78.8-2.07 0-2.86zM5.41 20L4 18.59l7.72-7.72 1.47 1.35L5.41 20z\"/>\n",
              "  </svg>\n",
              "      </button>\n",
              "      \n",
              "  <style>\n",
              "    .colab-df-container {\n",
              "      display:flex;\n",
              "      flex-wrap:wrap;\n",
              "      gap: 12px;\n",
              "    }\n",
              "\n",
              "    .colab-df-convert {\n",
              "      background-color: #E8F0FE;\n",
              "      border: none;\n",
              "      border-radius: 50%;\n",
              "      cursor: pointer;\n",
              "      display: none;\n",
              "      fill: #1967D2;\n",
              "      height: 32px;\n",
              "      padding: 0 0 0 0;\n",
              "      width: 32px;\n",
              "    }\n",
              "\n",
              "    .colab-df-convert:hover {\n",
              "      background-color: #E2EBFA;\n",
              "      box-shadow: 0px 1px 2px rgba(60, 64, 67, 0.3), 0px 1px 3px 1px rgba(60, 64, 67, 0.15);\n",
              "      fill: #174EA6;\n",
              "    }\n",
              "\n",
              "    [theme=dark] .colab-df-convert {\n",
              "      background-color: #3B4455;\n",
              "      fill: #D2E3FC;\n",
              "    }\n",
              "\n",
              "    [theme=dark] .colab-df-convert:hover {\n",
              "      background-color: #434B5C;\n",
              "      box-shadow: 0px 1px 3px 1px rgba(0, 0, 0, 0.15);\n",
              "      filter: drop-shadow(0px 1px 2px rgba(0, 0, 0, 0.3));\n",
              "      fill: #FFFFFF;\n",
              "    }\n",
              "  </style>\n",
              "\n",
              "      <script>\n",
              "        const buttonEl =\n",
              "          document.querySelector('#df-d5f31b88-697f-414e-9b7b-19f16b2dc6d2 button.colab-df-convert');\n",
              "        buttonEl.style.display =\n",
              "          google.colab.kernel.accessAllowed ? 'block' : 'none';\n",
              "\n",
              "        async function convertToInteractive(key) {\n",
              "          const element = document.querySelector('#df-d5f31b88-697f-414e-9b7b-19f16b2dc6d2');\n",
              "          const dataTable =\n",
              "            await google.colab.kernel.invokeFunction('convertToInteractive',\n",
              "                                                     [key], {});\n",
              "          if (!dataTable) return;\n",
              "\n",
              "          const docLinkHtml = 'Like what you see? Visit the ' +\n",
              "            '<a target=\"_blank\" href=https://colab.research.google.com/notebooks/data_table.ipynb>data table notebook</a>'\n",
              "            + ' to learn more about interactive tables.';\n",
              "          element.innerHTML = '';\n",
              "          dataTable['output_type'] = 'display_data';\n",
              "          await google.colab.output.renderOutput(dataTable, element);\n",
              "          const docLink = document.createElement('div');\n",
              "          docLink.innerHTML = docLinkHtml;\n",
              "          element.appendChild(docLink);\n",
              "        }\n",
              "      </script>\n",
              "    </div>\n",
              "  </div>\n",
              "  "
            ]
          },
          "metadata": {},
          "execution_count": 18
        }
      ]
    },
    {
      "cell_type": "markdown",
      "source": [
        "Sebenarnya kita sudah mengetahui adanya missing value melalui barplot sebelumnya. Namun, kita masih belum mengetahui secara pasti berapa jumlah missing value yang dimiliki setiap kolom sehingga dengan tabel diatas telah memperjelas jumlah missing value-nya ada berapa. Kolom-kolom yang memiliki missing value yaitu:\n",
        "* 'DaySinceLastOrder'\n",
        "* 'Tenure'\n",
        "* 'WarehouseToHome'\n",
        "\n",
        "Selanjutnya kita akan menggunakan beberapa metode imputer untuk membandingkan nilai mean dan standar deviasi setiap metode imputer. Kemudian metode yang dipilih adalah metode yang nilai mean dan standar deviasinya mendekati populasi sebelum data dilakukan imputer. Metode imputer yang akan kita gunakan ada 3 yaitu: \n",
        "1. Simple imputer (mean)\n",
        "1. KNN Imputer (n_neighbour 3)\n",
        "1. Iterative Imputer (MICE)"
      ],
      "metadata": {
        "id": "kZ1yLaSe4KpF"
      }
    },
    {
      "cell_type": "code",
      "source": [
        "def missing_value(a):\n",
        "    kolom_misval = ['DaySinceLastOrder', 'Tenure', 'WarehouseToHome']\n",
        "    df_new = df.copy()\n",
        "    if a == 'mean':\n",
        "        imputer = SimpleImputer(missing_values = np.nan, strategy ='mean')\n",
        "    elif a == 'knn':\n",
        "        imputer = KNNImputer(n_neighbors=3)\n",
        "    elif a == 'mica':\n",
        "        imputer = IterativeImputer(random_state=0)\n",
        "\n",
        "    # Fit Transform\n",
        "    imputer.fit(df_new[kolom_misval])\n",
        "    imputer = imputer.transform(df_new[kolom_misval])\n",
        "    \n",
        "    df_new_2 = pd.DataFrame(columns = kolom_misval, data = imputer)\n",
        "    df_new[kolom_misval] = imputer\n",
        "    \n",
        "    return df_new"
      ],
      "metadata": {
        "id": "sP0HFEe_QP8G"
      },
      "execution_count": null,
      "outputs": []
    },
    {
      "cell_type": "code",
      "source": [
        "# dataframe\n",
        "missing_kolom = ['DaySinceLastOrder', 'Tenure', 'WarehouseToHome']\n",
        "df_new = df.copy()\n",
        "\n",
        "# SI\n",
        "df_si = missing_value('mean')\n",
        "\n",
        "# KNN\n",
        "df_knn = missing_value('knn')\n",
        "\n",
        "# MICE\n",
        "df_mica = missing_value('mica')"
      ],
      "metadata": {
        "id": "FPd-Hq7CQadd"
      },
      "execution_count": null,
      "outputs": []
    },
    {
      "cell_type": "code",
      "source": [
        "# Recalculate\n",
        "def kalkulasi(df, metrik):\n",
        "    if metrik == 'std':\n",
        "        return round(df['DaySinceLastOrder'].std(), 2), round(df['Tenure'].std(), 2), round(df['WarehouseToHome'].std(), 2)\n",
        "    else:\n",
        "        return round(df['DaySinceLastOrder'].mean(), 2), round(df['Tenure'].mean(), 2), round(df['WarehouseToHome'].mean(), 2)"
      ],
      "metadata": {
        "id": "OF76FUhkVg4H"
      },
      "execution_count": null,
      "outputs": []
    },
    {
      "cell_type": "code",
      "source": [
        "# Calculate standard with missing value\n",
        "day_last_mean = round(df_new['DaySinceLastOrder'].mean(), 2)\n",
        "day_las_std = round(df_new['DaySinceLastOrder'].std(), 2)\n",
        "\n",
        "tenure_mean = round(df_new['Tenure'].mean(), 2)\n",
        "tenure_std = round(df_new['Tenure'].std(), 2)\n",
        "\n",
        "warehouse_mean = round(df_new['WarehouseToHome'].mean(), 2)\n",
        "warehouse_std = round(df_new['WarehouseToHome'].std(), 2)"
      ],
      "metadata": {
        "id": "6oRvolSLWa1C"
      },
      "execution_count": null,
      "outputs": []
    },
    {
      "cell_type": "code",
      "source": [
        "\n",
        "# MEAN\n",
        "day_last_mean_si, tenure_mean_si, warehouse_mean_si = kalkulasi(df_si, 'mean')\n",
        "day_last_std_si, tenure_std_si, warehouse_std_si = kalkulasi(df_si, 'std')\n",
        "\n",
        "# KNN\n",
        "day_last_mean_knn, tenure_mean_knn, warehouse_mean_knn = kalkulasi(df_knn, 'mean')\n",
        "day_las_std_knn, tenure_std_knn, warehouse_std_knn = kalkulasi(df_knn, 'std')\n",
        "\n",
        "# MICA\n",
        "day_last_mean_mica, tenure_mean_mica, warehouse_mean_mica = kalkulasi(df_mica, 'mean')\n",
        "day_last_mean_mica, tenure_mean_mica, warehouse_mean_mica = kalkulasi(df_mica, 'std')"
      ],
      "metadata": {
        "id": "R7VdA2o_8Qlp"
      },
      "execution_count": null,
      "outputs": []
    },
    {
      "cell_type": "code",
      "source": [
        "df_perbandingan = pd.DataFrame(columns = ['Kolom', 'Metode Imputer', 'Nilai Mean Awal', 'Nilai Mean Akhir', 'Nilai Std Awal', 'NIlai Std Akhir'],\n",
        "                       data = [['DaySinceLastOrder', 'Simple Imputer', day_last_mean, day_last_mean_si, day_las_std, day_last_std_si], \n",
        "                               ['Tenure', 'Simple Imputer', tenure_mean, tenure_mean_si, tenure_std, tenure_std_si], \n",
        "                               ['WarehouseToHome', 'Simple Imputer', warehouse_mean, warehouse_mean_si, warehouse_std, warehouse_std_si],\n",
        "                               \n",
        "                               ['DaySinceLastOrder', 'KNN Imputer', day_last_mean, day_last_mean_knn, day_las_std, day_las_std_knn], \n",
        "                               ['Tenure', 'KNN Imputer', tenure_mean, tenure_mean_knn, tenure_std, tenure_std_knn], \n",
        "                               ['WarehouseToHome', 'KNN Imputer', warehouse_mean, warehouse_mean_knn, warehouse_std, warehouse_std_knn],\n",
        "                               \n",
        "                               ['DaySinceLastOrder', 'Iterative Imputer', day_last_mean, day_last_mean_mica, day_las_std, day_last_mean_mica], \n",
        "                               ['Tenure', 'Iterative Imputer', tenure_mean, tenure_mean_mica, tenure_std, tenure_mean_mica], \n",
        "                               ['WarehouseToHome', 'Iterative Imputer', warehouse_mean, warehouse_mean_mica, warehouse_std, warehouse_mean_mica]])\n",
        "\n",
        "display(df_perbandingan.set_index('Metode Imputer'))"
      ],
      "metadata": {
        "colab": {
          "base_uri": "https://localhost:8080/",
          "height": 363
        },
        "id": "rJ698CfT9-G0",
        "outputId": "ebc91836-b462-42e9-edb0-c13794ee72e8"
      },
      "execution_count": null,
      "outputs": [
        {
          "output_type": "display_data",
          "data": {
            "text/plain": [
              "                               Kolom  Nilai Mean Awal  Nilai Mean Akhir  \\\n",
              "Metode Imputer                                                            \n",
              "Simple Imputer     DaySinceLastOrder             4.55              4.55   \n",
              "Simple Imputer                Tenure            10.19             10.19   \n",
              "Simple Imputer       WarehouseToHome            15.51             15.51   \n",
              "KNN Imputer        DaySinceLastOrder             4.55              4.44   \n",
              "KNN Imputer                   Tenure            10.19             10.06   \n",
              "KNN Imputer          WarehouseToHome            15.51             15.40   \n",
              "Iterative Imputer  DaySinceLastOrder             4.55              3.60   \n",
              "Iterative Imputer             Tenure            10.19              8.44   \n",
              "Iterative Imputer    WarehouseToHome            15.51              8.39   \n",
              "\n",
              "                   Nilai Std Awal  NIlai Std Akhir  \n",
              "Metode Imputer                                      \n",
              "Simple Imputer               3.70             3.59  \n",
              "Simple Imputer               8.65             8.44  \n",
              "Simple Imputer               8.57             8.39  \n",
              "KNN Imputer                  3.70             3.64  \n",
              "KNN Imputer                  8.65             8.52  \n",
              "KNN Imputer                  8.57             8.46  \n",
              "Iterative Imputer            3.70             3.60  \n",
              "Iterative Imputer            8.65             8.44  \n",
              "Iterative Imputer            8.57             8.39  "
            ],
            "text/html": [
              "\n",
              "  <div id=\"df-7aa4c131-998a-454e-b0fa-a2e0dc62e920\">\n",
              "    <div class=\"colab-df-container\">\n",
              "      <div>\n",
              "<style scoped>\n",
              "    .dataframe tbody tr th:only-of-type {\n",
              "        vertical-align: middle;\n",
              "    }\n",
              "\n",
              "    .dataframe tbody tr th {\n",
              "        vertical-align: top;\n",
              "    }\n",
              "\n",
              "    .dataframe thead th {\n",
              "        text-align: right;\n",
              "    }\n",
              "</style>\n",
              "<table border=\"1\" class=\"dataframe\">\n",
              "  <thead>\n",
              "    <tr style=\"text-align: right;\">\n",
              "      <th></th>\n",
              "      <th>Kolom</th>\n",
              "      <th>Nilai Mean Awal</th>\n",
              "      <th>Nilai Mean Akhir</th>\n",
              "      <th>Nilai Std Awal</th>\n",
              "      <th>NIlai Std Akhir</th>\n",
              "    </tr>\n",
              "    <tr>\n",
              "      <th>Metode Imputer</th>\n",
              "      <th></th>\n",
              "      <th></th>\n",
              "      <th></th>\n",
              "      <th></th>\n",
              "      <th></th>\n",
              "    </tr>\n",
              "  </thead>\n",
              "  <tbody>\n",
              "    <tr>\n",
              "      <th>Simple Imputer</th>\n",
              "      <td>DaySinceLastOrder</td>\n",
              "      <td>4.55</td>\n",
              "      <td>4.55</td>\n",
              "      <td>3.70</td>\n",
              "      <td>3.59</td>\n",
              "    </tr>\n",
              "    <tr>\n",
              "      <th>Simple Imputer</th>\n",
              "      <td>Tenure</td>\n",
              "      <td>10.19</td>\n",
              "      <td>10.19</td>\n",
              "      <td>8.65</td>\n",
              "      <td>8.44</td>\n",
              "    </tr>\n",
              "    <tr>\n",
              "      <th>Simple Imputer</th>\n",
              "      <td>WarehouseToHome</td>\n",
              "      <td>15.51</td>\n",
              "      <td>15.51</td>\n",
              "      <td>8.57</td>\n",
              "      <td>8.39</td>\n",
              "    </tr>\n",
              "    <tr>\n",
              "      <th>KNN Imputer</th>\n",
              "      <td>DaySinceLastOrder</td>\n",
              "      <td>4.55</td>\n",
              "      <td>4.44</td>\n",
              "      <td>3.70</td>\n",
              "      <td>3.64</td>\n",
              "    </tr>\n",
              "    <tr>\n",
              "      <th>KNN Imputer</th>\n",
              "      <td>Tenure</td>\n",
              "      <td>10.19</td>\n",
              "      <td>10.06</td>\n",
              "      <td>8.65</td>\n",
              "      <td>8.52</td>\n",
              "    </tr>\n",
              "    <tr>\n",
              "      <th>KNN Imputer</th>\n",
              "      <td>WarehouseToHome</td>\n",
              "      <td>15.51</td>\n",
              "      <td>15.40</td>\n",
              "      <td>8.57</td>\n",
              "      <td>8.46</td>\n",
              "    </tr>\n",
              "    <tr>\n",
              "      <th>Iterative Imputer</th>\n",
              "      <td>DaySinceLastOrder</td>\n",
              "      <td>4.55</td>\n",
              "      <td>3.60</td>\n",
              "      <td>3.70</td>\n",
              "      <td>3.60</td>\n",
              "    </tr>\n",
              "    <tr>\n",
              "      <th>Iterative Imputer</th>\n",
              "      <td>Tenure</td>\n",
              "      <td>10.19</td>\n",
              "      <td>8.44</td>\n",
              "      <td>8.65</td>\n",
              "      <td>8.44</td>\n",
              "    </tr>\n",
              "    <tr>\n",
              "      <th>Iterative Imputer</th>\n",
              "      <td>WarehouseToHome</td>\n",
              "      <td>15.51</td>\n",
              "      <td>8.39</td>\n",
              "      <td>8.57</td>\n",
              "      <td>8.39</td>\n",
              "    </tr>\n",
              "  </tbody>\n",
              "</table>\n",
              "</div>\n",
              "      <button class=\"colab-df-convert\" onclick=\"convertToInteractive('df-7aa4c131-998a-454e-b0fa-a2e0dc62e920')\"\n",
              "              title=\"Convert this dataframe to an interactive table.\"\n",
              "              style=\"display:none;\">\n",
              "        \n",
              "  <svg xmlns=\"http://www.w3.org/2000/svg\" height=\"24px\"viewBox=\"0 0 24 24\"\n",
              "       width=\"24px\">\n",
              "    <path d=\"M0 0h24v24H0V0z\" fill=\"none\"/>\n",
              "    <path d=\"M18.56 5.44l.94 2.06.94-2.06 2.06-.94-2.06-.94-.94-2.06-.94 2.06-2.06.94zm-11 1L8.5 8.5l.94-2.06 2.06-.94-2.06-.94L8.5 2.5l-.94 2.06-2.06.94zm10 10l.94 2.06.94-2.06 2.06-.94-2.06-.94-.94-2.06-.94 2.06-2.06.94z\"/><path d=\"M17.41 7.96l-1.37-1.37c-.4-.4-.92-.59-1.43-.59-.52 0-1.04.2-1.43.59L10.3 9.45l-7.72 7.72c-.78.78-.78 2.05 0 2.83L4 21.41c.39.39.9.59 1.41.59.51 0 1.02-.2 1.41-.59l7.78-7.78 2.81-2.81c.8-.78.8-2.07 0-2.86zM5.41 20L4 18.59l7.72-7.72 1.47 1.35L5.41 20z\"/>\n",
              "  </svg>\n",
              "      </button>\n",
              "      \n",
              "  <style>\n",
              "    .colab-df-container {\n",
              "      display:flex;\n",
              "      flex-wrap:wrap;\n",
              "      gap: 12px;\n",
              "    }\n",
              "\n",
              "    .colab-df-convert {\n",
              "      background-color: #E8F0FE;\n",
              "      border: none;\n",
              "      border-radius: 50%;\n",
              "      cursor: pointer;\n",
              "      display: none;\n",
              "      fill: #1967D2;\n",
              "      height: 32px;\n",
              "      padding: 0 0 0 0;\n",
              "      width: 32px;\n",
              "    }\n",
              "\n",
              "    .colab-df-convert:hover {\n",
              "      background-color: #E2EBFA;\n",
              "      box-shadow: 0px 1px 2px rgba(60, 64, 67, 0.3), 0px 1px 3px 1px rgba(60, 64, 67, 0.15);\n",
              "      fill: #174EA6;\n",
              "    }\n",
              "\n",
              "    [theme=dark] .colab-df-convert {\n",
              "      background-color: #3B4455;\n",
              "      fill: #D2E3FC;\n",
              "    }\n",
              "\n",
              "    [theme=dark] .colab-df-convert:hover {\n",
              "      background-color: #434B5C;\n",
              "      box-shadow: 0px 1px 3px 1px rgba(0, 0, 0, 0.15);\n",
              "      filter: drop-shadow(0px 1px 2px rgba(0, 0, 0, 0.3));\n",
              "      fill: #FFFFFF;\n",
              "    }\n",
              "  </style>\n",
              "\n",
              "      <script>\n",
              "        const buttonEl =\n",
              "          document.querySelector('#df-7aa4c131-998a-454e-b0fa-a2e0dc62e920 button.colab-df-convert');\n",
              "        buttonEl.style.display =\n",
              "          google.colab.kernel.accessAllowed ? 'block' : 'none';\n",
              "\n",
              "        async function convertToInteractive(key) {\n",
              "          const element = document.querySelector('#df-7aa4c131-998a-454e-b0fa-a2e0dc62e920');\n",
              "          const dataTable =\n",
              "            await google.colab.kernel.invokeFunction('convertToInteractive',\n",
              "                                                     [key], {});\n",
              "          if (!dataTable) return;\n",
              "\n",
              "          const docLinkHtml = 'Like what you see? Visit the ' +\n",
              "            '<a target=\"_blank\" href=https://colab.research.google.com/notebooks/data_table.ipynb>data table notebook</a>'\n",
              "            + ' to learn more about interactive tables.';\n",
              "          element.innerHTML = '';\n",
              "          dataTable['output_type'] = 'display_data';\n",
              "          await google.colab.output.renderOutput(dataTable, element);\n",
              "          const docLink = document.createElement('div');\n",
              "          docLink.innerHTML = docLinkHtml;\n",
              "          element.appendChild(docLink);\n",
              "        }\n",
              "      </script>\n",
              "    </div>\n",
              "  </div>\n",
              "  "
            ]
          },
          "metadata": {}
        }
      ]
    },
    {
      "cell_type": "markdown",
      "source": [
        "Kita sudah melakukan percobaan dengan beberapa metode imputer dan apabila dlihat dari tabel diatas dapat dilihat metode Simple Imputer adalah metode yang mendekati distribusi asli dataset dengan missing value. Dengan begitu, Simple Imputer adalah metode yang akan digunakan untuk missing value."
      ],
      "metadata": {
        "id": "Vnhf2KQGEuAz"
      }
    },
    {
      "cell_type": "code",
      "source": [
        "display(df_si.shape, df_si.head())"
      ],
      "metadata": {
        "colab": {
          "base_uri": "https://localhost:8080/",
          "height": 288
        },
        "id": "UqeHeBQRSgNX",
        "outputId": "a531254e-8fef-4b8e-d949-3f2e5de2538c"
      },
      "execution_count": null,
      "outputs": [
        {
          "output_type": "display_data",
          "data": {
            "text/plain": [
              "(3270, 11)"
            ]
          },
          "metadata": {}
        },
        {
          "output_type": "display_data",
          "data": {
            "text/plain": [
              "   Tenure  WarehouseToHome  NumberOfDeviceRegistered    PreferedOrderCat  \\\n",
              "0    15.0             29.0                         4  Laptop & Accessory   \n",
              "1     7.0             25.0                         4              Mobile   \n",
              "2    27.0             13.0                         3  Laptop & Accessory   \n",
              "3    20.0             25.0                         4             Fashion   \n",
              "4    30.0             15.0                         4              Others   \n",
              "\n",
              "   SatisfactionScore MaritalStatus  NumberOfAddress  Complain  \\\n",
              "0                  3        Single                2         0   \n",
              "1                  1       Married                2         0   \n",
              "2                  1       Married                5         0   \n",
              "3                  3      Divorced                7         0   \n",
              "4                  4        Single                8         0   \n",
              "\n",
              "   DaySinceLastOrder  CashbackAmount  Churn  \n",
              "0           7.000000          143.32      0  \n",
              "1           7.000000          129.29      0  \n",
              "2           7.000000          168.54      0  \n",
              "3           4.545484          230.27      0  \n",
              "4           8.000000          322.17      0  "
            ],
            "text/html": [
              "\n",
              "  <div id=\"df-1608717e-f247-4987-ac08-f974c508dda5\">\n",
              "    <div class=\"colab-df-container\">\n",
              "      <div>\n",
              "<style scoped>\n",
              "    .dataframe tbody tr th:only-of-type {\n",
              "        vertical-align: middle;\n",
              "    }\n",
              "\n",
              "    .dataframe tbody tr th {\n",
              "        vertical-align: top;\n",
              "    }\n",
              "\n",
              "    .dataframe thead th {\n",
              "        text-align: right;\n",
              "    }\n",
              "</style>\n",
              "<table border=\"1\" class=\"dataframe\">\n",
              "  <thead>\n",
              "    <tr style=\"text-align: right;\">\n",
              "      <th></th>\n",
              "      <th>Tenure</th>\n",
              "      <th>WarehouseToHome</th>\n",
              "      <th>NumberOfDeviceRegistered</th>\n",
              "      <th>PreferedOrderCat</th>\n",
              "      <th>SatisfactionScore</th>\n",
              "      <th>MaritalStatus</th>\n",
              "      <th>NumberOfAddress</th>\n",
              "      <th>Complain</th>\n",
              "      <th>DaySinceLastOrder</th>\n",
              "      <th>CashbackAmount</th>\n",
              "      <th>Churn</th>\n",
              "    </tr>\n",
              "  </thead>\n",
              "  <tbody>\n",
              "    <tr>\n",
              "      <th>0</th>\n",
              "      <td>15.0</td>\n",
              "      <td>29.0</td>\n",
              "      <td>4</td>\n",
              "      <td>Laptop &amp; Accessory</td>\n",
              "      <td>3</td>\n",
              "      <td>Single</td>\n",
              "      <td>2</td>\n",
              "      <td>0</td>\n",
              "      <td>7.000000</td>\n",
              "      <td>143.32</td>\n",
              "      <td>0</td>\n",
              "    </tr>\n",
              "    <tr>\n",
              "      <th>1</th>\n",
              "      <td>7.0</td>\n",
              "      <td>25.0</td>\n",
              "      <td>4</td>\n",
              "      <td>Mobile</td>\n",
              "      <td>1</td>\n",
              "      <td>Married</td>\n",
              "      <td>2</td>\n",
              "      <td>0</td>\n",
              "      <td>7.000000</td>\n",
              "      <td>129.29</td>\n",
              "      <td>0</td>\n",
              "    </tr>\n",
              "    <tr>\n",
              "      <th>2</th>\n",
              "      <td>27.0</td>\n",
              "      <td>13.0</td>\n",
              "      <td>3</td>\n",
              "      <td>Laptop &amp; Accessory</td>\n",
              "      <td>1</td>\n",
              "      <td>Married</td>\n",
              "      <td>5</td>\n",
              "      <td>0</td>\n",
              "      <td>7.000000</td>\n",
              "      <td>168.54</td>\n",
              "      <td>0</td>\n",
              "    </tr>\n",
              "    <tr>\n",
              "      <th>3</th>\n",
              "      <td>20.0</td>\n",
              "      <td>25.0</td>\n",
              "      <td>4</td>\n",
              "      <td>Fashion</td>\n",
              "      <td>3</td>\n",
              "      <td>Divorced</td>\n",
              "      <td>7</td>\n",
              "      <td>0</td>\n",
              "      <td>4.545484</td>\n",
              "      <td>230.27</td>\n",
              "      <td>0</td>\n",
              "    </tr>\n",
              "    <tr>\n",
              "      <th>4</th>\n",
              "      <td>30.0</td>\n",
              "      <td>15.0</td>\n",
              "      <td>4</td>\n",
              "      <td>Others</td>\n",
              "      <td>4</td>\n",
              "      <td>Single</td>\n",
              "      <td>8</td>\n",
              "      <td>0</td>\n",
              "      <td>8.000000</td>\n",
              "      <td>322.17</td>\n",
              "      <td>0</td>\n",
              "    </tr>\n",
              "  </tbody>\n",
              "</table>\n",
              "</div>\n",
              "      <button class=\"colab-df-convert\" onclick=\"convertToInteractive('df-1608717e-f247-4987-ac08-f974c508dda5')\"\n",
              "              title=\"Convert this dataframe to an interactive table.\"\n",
              "              style=\"display:none;\">\n",
              "        \n",
              "  <svg xmlns=\"http://www.w3.org/2000/svg\" height=\"24px\"viewBox=\"0 0 24 24\"\n",
              "       width=\"24px\">\n",
              "    <path d=\"M0 0h24v24H0V0z\" fill=\"none\"/>\n",
              "    <path d=\"M18.56 5.44l.94 2.06.94-2.06 2.06-.94-2.06-.94-.94-2.06-.94 2.06-2.06.94zm-11 1L8.5 8.5l.94-2.06 2.06-.94-2.06-.94L8.5 2.5l-.94 2.06-2.06.94zm10 10l.94 2.06.94-2.06 2.06-.94-2.06-.94-.94-2.06-.94 2.06-2.06.94z\"/><path d=\"M17.41 7.96l-1.37-1.37c-.4-.4-.92-.59-1.43-.59-.52 0-1.04.2-1.43.59L10.3 9.45l-7.72 7.72c-.78.78-.78 2.05 0 2.83L4 21.41c.39.39.9.59 1.41.59.51 0 1.02-.2 1.41-.59l7.78-7.78 2.81-2.81c.8-.78.8-2.07 0-2.86zM5.41 20L4 18.59l7.72-7.72 1.47 1.35L5.41 20z\"/>\n",
              "  </svg>\n",
              "      </button>\n",
              "      \n",
              "  <style>\n",
              "    .colab-df-container {\n",
              "      display:flex;\n",
              "      flex-wrap:wrap;\n",
              "      gap: 12px;\n",
              "    }\n",
              "\n",
              "    .colab-df-convert {\n",
              "      background-color: #E8F0FE;\n",
              "      border: none;\n",
              "      border-radius: 50%;\n",
              "      cursor: pointer;\n",
              "      display: none;\n",
              "      fill: #1967D2;\n",
              "      height: 32px;\n",
              "      padding: 0 0 0 0;\n",
              "      width: 32px;\n",
              "    }\n",
              "\n",
              "    .colab-df-convert:hover {\n",
              "      background-color: #E2EBFA;\n",
              "      box-shadow: 0px 1px 2px rgba(60, 64, 67, 0.3), 0px 1px 3px 1px rgba(60, 64, 67, 0.15);\n",
              "      fill: #174EA6;\n",
              "    }\n",
              "\n",
              "    [theme=dark] .colab-df-convert {\n",
              "      background-color: #3B4455;\n",
              "      fill: #D2E3FC;\n",
              "    }\n",
              "\n",
              "    [theme=dark] .colab-df-convert:hover {\n",
              "      background-color: #434B5C;\n",
              "      box-shadow: 0px 1px 3px 1px rgba(0, 0, 0, 0.15);\n",
              "      filter: drop-shadow(0px 1px 2px rgba(0, 0, 0, 0.3));\n",
              "      fill: #FFFFFF;\n",
              "    }\n",
              "  </style>\n",
              "\n",
              "      <script>\n",
              "        const buttonEl =\n",
              "          document.querySelector('#df-1608717e-f247-4987-ac08-f974c508dda5 button.colab-df-convert');\n",
              "        buttonEl.style.display =\n",
              "          google.colab.kernel.accessAllowed ? 'block' : 'none';\n",
              "\n",
              "        async function convertToInteractive(key) {\n",
              "          const element = document.querySelector('#df-1608717e-f247-4987-ac08-f974c508dda5');\n",
              "          const dataTable =\n",
              "            await google.colab.kernel.invokeFunction('convertToInteractive',\n",
              "                                                     [key], {});\n",
              "          if (!dataTable) return;\n",
              "\n",
              "          const docLinkHtml = 'Like what you see? Visit the ' +\n",
              "            '<a target=\"_blank\" href=https://colab.research.google.com/notebooks/data_table.ipynb>data table notebook</a>'\n",
              "            + ' to learn more about interactive tables.';\n",
              "          element.innerHTML = '';\n",
              "          dataTable['output_type'] = 'display_data';\n",
              "          await google.colab.output.renderOutput(dataTable, element);\n",
              "          const docLink = document.createElement('div');\n",
              "          docLink.innerHTML = docLinkHtml;\n",
              "          element.appendChild(docLink);\n",
              "        }\n",
              "      </script>\n",
              "    </div>\n",
              "  </div>\n",
              "  "
            ]
          },
          "metadata": {}
        }
      ]
    },
    {
      "cell_type": "markdown",
      "source": [
        "### **Outlier**"
      ],
      "metadata": {
        "id": "rEVMJ3W3IJad"
      }
    },
    {
      "cell_type": "markdown",
      "source": [
        "Sebelumnya kita telah mengetahui adanya kolom kolom yang memiliki data outlier. Kolom-kolom tersebut adalah \n",
        "  * Tenure\n",
        "  * WarehouseToHome\n",
        "  * NumberOfDeviceRegistered\n",
        "  * NumberOfAddress\n",
        "  * DaySinceLastOrder\n",
        "  * CashbackAmount\n",
        "\n",
        "Kita akan menangani kolom kolom tersebut dengan menghitung junlah data outlier. Selanjutnya apabila jumlah data outlier sedikit maka kita akan menghapus data tersebut, namun apabila data outlier yang terdeteksi banyak kita tidak akan menghapus data tersebut karena nanti akan membuat data yang digunakan untuk training dan testing akan sedikit."
      ],
      "metadata": {
        "id": "g5TU8FXIIcyu"
      }
    },
    {
      "cell_type": "code",
      "source": [
        "kolom_outlier = ['Tenure', 'WarehouseToHome', 'NumberOfDeviceRegistered',\n",
        "                 'NumberOfAddress', 'DaySinceLastOrder', 'CashbackAmount']\n",
        "\n",
        "def outlier(df, a):\n",
        "    upper = []\n",
        "    lower = []\n",
        "    \n",
        "    # IQR\n",
        "    Q1 = df.describe()[a]['25%']\n",
        "    Q3 = df.describe()[a]['75%']\n",
        "    min = df.describe()[a]['min']\n",
        "    max = df.describe()[a]['max']\n",
        "    IQR = Q3 - Q1\n",
        "    upper_bound = Q3+1.5*IQR\n",
        "    lower_bound = Q1-1.5*IQR\n",
        "\n",
        "    print(f'Data awal: {df.shape}')\n",
        "\n",
        "    if max > upper_bound:\n",
        "        upper = list(np.where(df[a] >= upper_bound)[0])\n",
        "    else:\n",
        "        upper_bound = max\n",
        "    if min < lower_bound:\n",
        "        lower = list(np.where(df[a] <= lower_bound)[0])\n",
        "    else:\n",
        "        lower_bound = min\n",
        "\n",
        "    upper.extend(lower)\n",
        "    df.drop(upper, inplace = True)\n",
        "    \n",
        "    print(f'Data akhir: {df.shape}\\n')\n",
        "    return df.reset_index(drop=True)\n",
        "\n",
        "df_outlier = df.copy()\n",
        "for i, a in enumerate(kolom_outlier):\n",
        "    print(f'Kolom {a}:')\n",
        "    df_outlier = outlier(df_outlier, a)\n",
        "\n",
        "print(f'Jumlah dataset awal : {df_raw.shape}')\n",
        "print(f'Jumlah dataset tanpa data duplikat: {df.shape}')\n",
        "print(f'Jumlah dataset tanpa data duplikat dan outlier: {df_outlier.shape}')"
      ],
      "metadata": {
        "colab": {
          "base_uri": "https://localhost:8080/"
        },
        "id": "pMeiFsv3JrQo",
        "outputId": "2bb90cd0-937b-49d5-846e-383f53734131"
      },
      "execution_count": null,
      "outputs": [
        {
          "output_type": "stream",
          "name": "stdout",
          "text": [
            "Kolom Tenure:\n",
            "Data awal: (3270, 11)\n",
            "Data akhir: (3266, 11)\n",
            "\n",
            "Kolom WarehouseToHome:\n",
            "Data awal: (3266, 11)\n",
            "Data akhir: (3265, 11)\n",
            "\n",
            "Kolom NumberOfDeviceRegistered:\n",
            "Data awal: (3265, 11)\n",
            "Data akhir: (3040, 11)\n",
            "\n",
            "Kolom NumberOfAddress:\n",
            "Data awal: (3040, 11)\n",
            "Data akhir: (3037, 11)\n",
            "\n",
            "Kolom DaySinceLastOrder:\n",
            "Data awal: (3037, 11)\n",
            "Data akhir: (2998, 11)\n",
            "\n",
            "Kolom CashbackAmount:\n",
            "Data awal: (2998, 11)\n",
            "Data akhir: (2771, 11)\n",
            "\n",
            "Jumlah dataset awal : (3941, 11)\n",
            "Jumlah dataset tanpa data duplikat: (3270, 11)\n",
            "Jumlah dataset tanpa data duplikat dan outlier: (2771, 11)\n"
          ]
        }
      ]
    },
    {
      "cell_type": "markdown",
      "source": [
        "Kegiatan kita disebelumnya telah merubah banyak data yang ada didataset, sehingga membuat dataset yang awalnya berjumlah 3.941 data menjadi 2.771 data apabila data duplikat dan data outliernya dihapus. Karena data yang berkurang sangat banyak yang nantinya tidak baik apabila digunakan training dan testing maka **data outlier tidak akan kita hapus**. Sehingga data yang akan kita gunakan adalah dataset yang tidak memiliki data duplikat, yaitu sebanyak **3.270 data**."
      ],
      "metadata": {
        "id": "9-_cCfHiI22k"
      }
    },
    {
      "cell_type": "code",
      "source": [
        "df.describe()"
      ],
      "metadata": {
        "colab": {
          "base_uri": "https://localhost:8080/",
          "height": 364
        },
        "id": "kb54EJNOOhB0",
        "outputId": "fcee486c-9af1-4295-d5f3-2ec23fe23272"
      },
      "execution_count": null,
      "outputs": [
        {
          "output_type": "execute_result",
          "data": {
            "text/plain": [
              "            Tenure  WarehouseToHome  NumberOfDeviceRegistered  \\\n",
              "count  3110.000000      3135.000000               3270.000000   \n",
              "mean     10.190354        15.510367                  3.676453   \n",
              "std       8.650821         8.568382                  1.017390   \n",
              "min       0.000000         5.000000                  1.000000   \n",
              "25%       2.000000         9.000000                  3.000000   \n",
              "50%       9.000000        13.000000                  4.000000   \n",
              "75%      16.000000        20.000000                  4.000000   \n",
              "max      61.000000       127.000000                  6.000000   \n",
              "\n",
              "       SatisfactionScore  NumberOfAddress     Complain  DaySinceLastOrder  \\\n",
              "count        3270.000000      3270.000000  3270.000000        3089.000000   \n",
              "mean            3.020795         4.222936     0.281651           4.545484   \n",
              "std             1.395113         2.623195     0.449873           3.696022   \n",
              "min             1.000000         1.000000     0.000000           0.000000   \n",
              "25%             2.000000         2.000000     0.000000           2.000000   \n",
              "50%             3.000000         3.000000     0.000000           3.000000   \n",
              "75%             4.000000         6.000000     1.000000           7.000000   \n",
              "max             5.000000        22.000000     1.000000          46.000000   \n",
              "\n",
              "       CashbackAmount        Churn  \n",
              "count     3270.000000  3270.000000  \n",
              "mean       177.417670     0.163303  \n",
              "std         49.310647     0.369698  \n",
              "min          0.000000     0.000000  \n",
              "25%        145.892500     0.000000  \n",
              "50%        163.885000     0.000000  \n",
              "75%        197.137500     0.000000  \n",
              "max        324.990000     1.000000  "
            ],
            "text/html": [
              "\n",
              "  <div id=\"df-048f6439-2008-4a6d-ada9-c1ea5608ce56\">\n",
              "    <div class=\"colab-df-container\">\n",
              "      <div>\n",
              "<style scoped>\n",
              "    .dataframe tbody tr th:only-of-type {\n",
              "        vertical-align: middle;\n",
              "    }\n",
              "\n",
              "    .dataframe tbody tr th {\n",
              "        vertical-align: top;\n",
              "    }\n",
              "\n",
              "    .dataframe thead th {\n",
              "        text-align: right;\n",
              "    }\n",
              "</style>\n",
              "<table border=\"1\" class=\"dataframe\">\n",
              "  <thead>\n",
              "    <tr style=\"text-align: right;\">\n",
              "      <th></th>\n",
              "      <th>Tenure</th>\n",
              "      <th>WarehouseToHome</th>\n",
              "      <th>NumberOfDeviceRegistered</th>\n",
              "      <th>SatisfactionScore</th>\n",
              "      <th>NumberOfAddress</th>\n",
              "      <th>Complain</th>\n",
              "      <th>DaySinceLastOrder</th>\n",
              "      <th>CashbackAmount</th>\n",
              "      <th>Churn</th>\n",
              "    </tr>\n",
              "  </thead>\n",
              "  <tbody>\n",
              "    <tr>\n",
              "      <th>count</th>\n",
              "      <td>3110.000000</td>\n",
              "      <td>3135.000000</td>\n",
              "      <td>3270.000000</td>\n",
              "      <td>3270.000000</td>\n",
              "      <td>3270.000000</td>\n",
              "      <td>3270.000000</td>\n",
              "      <td>3089.000000</td>\n",
              "      <td>3270.000000</td>\n",
              "      <td>3270.000000</td>\n",
              "    </tr>\n",
              "    <tr>\n",
              "      <th>mean</th>\n",
              "      <td>10.190354</td>\n",
              "      <td>15.510367</td>\n",
              "      <td>3.676453</td>\n",
              "      <td>3.020795</td>\n",
              "      <td>4.222936</td>\n",
              "      <td>0.281651</td>\n",
              "      <td>4.545484</td>\n",
              "      <td>177.417670</td>\n",
              "      <td>0.163303</td>\n",
              "    </tr>\n",
              "    <tr>\n",
              "      <th>std</th>\n",
              "      <td>8.650821</td>\n",
              "      <td>8.568382</td>\n",
              "      <td>1.017390</td>\n",
              "      <td>1.395113</td>\n",
              "      <td>2.623195</td>\n",
              "      <td>0.449873</td>\n",
              "      <td>3.696022</td>\n",
              "      <td>49.310647</td>\n",
              "      <td>0.369698</td>\n",
              "    </tr>\n",
              "    <tr>\n",
              "      <th>min</th>\n",
              "      <td>0.000000</td>\n",
              "      <td>5.000000</td>\n",
              "      <td>1.000000</td>\n",
              "      <td>1.000000</td>\n",
              "      <td>1.000000</td>\n",
              "      <td>0.000000</td>\n",
              "      <td>0.000000</td>\n",
              "      <td>0.000000</td>\n",
              "      <td>0.000000</td>\n",
              "    </tr>\n",
              "    <tr>\n",
              "      <th>25%</th>\n",
              "      <td>2.000000</td>\n",
              "      <td>9.000000</td>\n",
              "      <td>3.000000</td>\n",
              "      <td>2.000000</td>\n",
              "      <td>2.000000</td>\n",
              "      <td>0.000000</td>\n",
              "      <td>2.000000</td>\n",
              "      <td>145.892500</td>\n",
              "      <td>0.000000</td>\n",
              "    </tr>\n",
              "    <tr>\n",
              "      <th>50%</th>\n",
              "      <td>9.000000</td>\n",
              "      <td>13.000000</td>\n",
              "      <td>4.000000</td>\n",
              "      <td>3.000000</td>\n",
              "      <td>3.000000</td>\n",
              "      <td>0.000000</td>\n",
              "      <td>3.000000</td>\n",
              "      <td>163.885000</td>\n",
              "      <td>0.000000</td>\n",
              "    </tr>\n",
              "    <tr>\n",
              "      <th>75%</th>\n",
              "      <td>16.000000</td>\n",
              "      <td>20.000000</td>\n",
              "      <td>4.000000</td>\n",
              "      <td>4.000000</td>\n",
              "      <td>6.000000</td>\n",
              "      <td>1.000000</td>\n",
              "      <td>7.000000</td>\n",
              "      <td>197.137500</td>\n",
              "      <td>0.000000</td>\n",
              "    </tr>\n",
              "    <tr>\n",
              "      <th>max</th>\n",
              "      <td>61.000000</td>\n",
              "      <td>127.000000</td>\n",
              "      <td>6.000000</td>\n",
              "      <td>5.000000</td>\n",
              "      <td>22.000000</td>\n",
              "      <td>1.000000</td>\n",
              "      <td>46.000000</td>\n",
              "      <td>324.990000</td>\n",
              "      <td>1.000000</td>\n",
              "    </tr>\n",
              "  </tbody>\n",
              "</table>\n",
              "</div>\n",
              "      <button class=\"colab-df-convert\" onclick=\"convertToInteractive('df-048f6439-2008-4a6d-ada9-c1ea5608ce56')\"\n",
              "              title=\"Convert this dataframe to an interactive table.\"\n",
              "              style=\"display:none;\">\n",
              "        \n",
              "  <svg xmlns=\"http://www.w3.org/2000/svg\" height=\"24px\"viewBox=\"0 0 24 24\"\n",
              "       width=\"24px\">\n",
              "    <path d=\"M0 0h24v24H0V0z\" fill=\"none\"/>\n",
              "    <path d=\"M18.56 5.44l.94 2.06.94-2.06 2.06-.94-2.06-.94-.94-2.06-.94 2.06-2.06.94zm-11 1L8.5 8.5l.94-2.06 2.06-.94-2.06-.94L8.5 2.5l-.94 2.06-2.06.94zm10 10l.94 2.06.94-2.06 2.06-.94-2.06-.94-.94-2.06-.94 2.06-2.06.94z\"/><path d=\"M17.41 7.96l-1.37-1.37c-.4-.4-.92-.59-1.43-.59-.52 0-1.04.2-1.43.59L10.3 9.45l-7.72 7.72c-.78.78-.78 2.05 0 2.83L4 21.41c.39.39.9.59 1.41.59.51 0 1.02-.2 1.41-.59l7.78-7.78 2.81-2.81c.8-.78.8-2.07 0-2.86zM5.41 20L4 18.59l7.72-7.72 1.47 1.35L5.41 20z\"/>\n",
              "  </svg>\n",
              "      </button>\n",
              "      \n",
              "  <style>\n",
              "    .colab-df-container {\n",
              "      display:flex;\n",
              "      flex-wrap:wrap;\n",
              "      gap: 12px;\n",
              "    }\n",
              "\n",
              "    .colab-df-convert {\n",
              "      background-color: #E8F0FE;\n",
              "      border: none;\n",
              "      border-radius: 50%;\n",
              "      cursor: pointer;\n",
              "      display: none;\n",
              "      fill: #1967D2;\n",
              "      height: 32px;\n",
              "      padding: 0 0 0 0;\n",
              "      width: 32px;\n",
              "    }\n",
              "\n",
              "    .colab-df-convert:hover {\n",
              "      background-color: #E2EBFA;\n",
              "      box-shadow: 0px 1px 2px rgba(60, 64, 67, 0.3), 0px 1px 3px 1px rgba(60, 64, 67, 0.15);\n",
              "      fill: #174EA6;\n",
              "    }\n",
              "\n",
              "    [theme=dark] .colab-df-convert {\n",
              "      background-color: #3B4455;\n",
              "      fill: #D2E3FC;\n",
              "    }\n",
              "\n",
              "    [theme=dark] .colab-df-convert:hover {\n",
              "      background-color: #434B5C;\n",
              "      box-shadow: 0px 1px 3px 1px rgba(0, 0, 0, 0.15);\n",
              "      filter: drop-shadow(0px 1px 2px rgba(0, 0, 0, 0.3));\n",
              "      fill: #FFFFFF;\n",
              "    }\n",
              "  </style>\n",
              "\n",
              "      <script>\n",
              "        const buttonEl =\n",
              "          document.querySelector('#df-048f6439-2008-4a6d-ada9-c1ea5608ce56 button.colab-df-convert');\n",
              "        buttonEl.style.display =\n",
              "          google.colab.kernel.accessAllowed ? 'block' : 'none';\n",
              "\n",
              "        async function convertToInteractive(key) {\n",
              "          const element = document.querySelector('#df-048f6439-2008-4a6d-ada9-c1ea5608ce56');\n",
              "          const dataTable =\n",
              "            await google.colab.kernel.invokeFunction('convertToInteractive',\n",
              "                                                     [key], {});\n",
              "          if (!dataTable) return;\n",
              "\n",
              "          const docLinkHtml = 'Like what you see? Visit the ' +\n",
              "            '<a target=\"_blank\" href=https://colab.research.google.com/notebooks/data_table.ipynb>data table notebook</a>'\n",
              "            + ' to learn more about interactive tables.';\n",
              "          element.innerHTML = '';\n",
              "          dataTable['output_type'] = 'display_data';\n",
              "          await google.colab.output.renderOutput(dataTable, element);\n",
              "          const docLink = document.createElement('div');\n",
              "          docLink.innerHTML = docLinkHtml;\n",
              "          element.appendChild(docLink);\n",
              "        }\n",
              "      </script>\n",
              "    </div>\n",
              "  </div>\n",
              "  "
            ]
          },
          "metadata": {},
          "execution_count": 27
        }
      ]
    },
    {
      "cell_type": "markdown",
      "source": [
        "## **Data Preparation**"
      ],
      "metadata": {
        "id": "0lO352VT4P21"
      }
    },
    {
      "cell_type": "markdown",
      "source": [
        "### **Data Splitting**"
      ],
      "metadata": {
        "id": "MiXIrdxTSFJw"
      }
    },
    {
      "cell_type": "markdown",
      "source": [
        "Pada proses data splitting ini kita akan membagi dataset menjadi 2 bagian yaitu data untuk training dan data untuk testing. Pembagian data tersebut kita atur sebesar 80% data untuk data training dan 20% data untuk data testing.\n",
        "\n",
        "Namun, sebelum melakukan pembagian data tersebut kita akan mengisi terlebih dahulu data yang kosong pada kolom: \n",
        "* 'Tenure'\n",
        "* 'WarehouseToHome'\n",
        "* 'DaySinceLastOrder'\n",
        "\n",
        "kita juga akan melakukan encoding terhadap 2 kolom kategorikal yaitu: \n",
        "* 'PreferedOrderCat'\n",
        "* 'MaritalStatus'"
      ],
      "metadata": {
        "id": "-7I4elgmTdzU"
      }
    },
    {
      "cell_type": "code",
      "source": [
        "# df_no_misval = df_si.copy()\n",
        "# df = df_new.copy()\n",
        "df_no_misval = df_si.copy()\n",
        "df = df_si.copy()"
      ],
      "metadata": {
        "id": "ttHJut29SJbD"
      },
      "execution_count": null,
      "outputs": []
    },
    {
      "cell_type": "code",
      "source": [
        "encoding_kolom = ['PreferedOrderCat', 'MaritalStatus']\n",
        "misval_kolom = ['Tenure', 'WarehouseToHome', 'DaySinceLastOrder']\n",
        "\n",
        "onehot = OneHotEncoder(drop='first')\n",
        "Imputer = SimpleImputer(missing_values = np.nan, strategy ='mean')\n",
        "\n",
        "preprocessor = ColumnTransformer([\n",
        "    ('misval', Imputer, misval_kolom),\n",
        "    ('encode', onehot, encoding_kolom),], remainder='passthrough')\n",
        "\n",
        "x = df.drop(columns=['Churn'])\n",
        "y = df['Churn']\n",
        "\n",
        "x_train, x_test, y_train, y_test = train_test_split(x, y, stratify=y, test_size=0.2, random_state=2022)"
      ],
      "metadata": {
        "id": "qAYl_OtATQ-q"
      },
      "execution_count": null,
      "outputs": []
    },
    {
      "cell_type": "markdown",
      "source": [
        "## **Modeling & Evaluation**"
      ],
      "metadata": {
        "id": "9XIogGb94TbA"
      }
    },
    {
      "cell_type": "markdown",
      "source": [
        "Selanjutnya kita akan memulai tahap pembuatan model machine learning. Pembuatan model ini kita akan menggunakan beberapa metode dengan parameter defaultnya. Ada 8 metode yang akan kita coba yaitu :\n",
        "1. Logistic Regression\n",
        "1. KNeighbours Classifier\n",
        "1. Decision Tree Classifier\n",
        "1. Random Forest Classifier\n",
        "1. XGB Classifier\n",
        "1. LGBM Classifier\n",
        "1. Cat Boost Classifier\n",
        "1. Ada Boost Classifier"
      ],
      "metadata": {
        "id": "4yDXFd2X9s2G"
      }
    },
    {
      "cell_type": "code",
      "source": [
        "logreg = LogisticRegression()\n",
        "knn = KNeighborsClassifier()\n",
        "dec_tree = DecisionTreeClassifier()\n",
        "rf = RandomForestClassifier()\n",
        "xgb = XGBClassifier(verbosity=0, silent=True)\n",
        "lgbm = lgb.LGBMClassifier()\n",
        "catb = CatBoostClassifier(silent=True)\n",
        "adab = AdaBoostClassifier()\n",
        "\n",
        "model = [logreg, knn, dec_tree, rf, xgb, lgbm, catb, adab]\n",
        "algo = ['Logistic Regression', 'KNN', 'Decision Tree', 'RF', 'XGBoost', 'LightGBM', 'Catboost', 'Adaboost']"
      ],
      "metadata": {
        "id": "4uRQ00wGXAJB"
      },
      "execution_count": null,
      "outputs": []
    },
    {
      "cell_type": "markdown",
      "source": [
        "### **Model Benchmarking : K-Fold**"
      ],
      "metadata": {
        "id": "rbQ3jkvUWpde"
      }
    },
    {
      "cell_type": "code",
      "source": [
        "score = []\n",
        "average = []\n",
        "std_dev = []\n",
        "\n",
        "for a in model:\n",
        "    sk_fold = StratifiedKFold(n_splits=5)\n",
        "    pipeline_model = Pipeline([('preprocess', preprocessor),('model', a)])\n",
        "    \n",
        "    model_cv = cross_val_score(pipeline_model, x_train, y_train,\n",
        "                               cv=sk_fold, scoring='roc_auc')\n",
        "    \n",
        "    score.append([round(i, 2) for i in model_cv])\n",
        "    average.append(model_cv.mean())\n",
        "    std_dev.append(model_cv.std())\n",
        "    \n",
        "# df_default_train = \n",
        "pd.DataFrame(data={'Model': algo,\n",
        "                   'Mean ROC AUC': average,\n",
        "                   'Std ROC AUC': std_dev}).set_index('Model').sort_values(by='Mean ROC AUC',ascending=False)"
      ],
      "metadata": {
        "colab": {
          "base_uri": "https://localhost:8080/",
          "height": 332
        },
        "id": "c5wJ24-_Ya0J",
        "outputId": "0c7c9e77-9169-4a6f-eb09-e935c15addf4"
      },
      "execution_count": null,
      "outputs": [
        {
          "output_type": "execute_result",
          "data": {
            "text/plain": [
              "                     Mean ROC AUC  Std ROC AUC\n",
              "Model                                         \n",
              "Catboost                 0.937393     0.014324\n",
              "LightGBM                 0.932907     0.014116\n",
              "RF                       0.922544     0.018259\n",
              "XGBoost                  0.917281     0.014212\n",
              "Adaboost                 0.898972     0.017686\n",
              "Logistic Regression      0.873508     0.016735\n",
              "KNN                      0.778317     0.032686\n",
              "Decision Tree            0.770497     0.037284"
            ],
            "text/html": [
              "\n",
              "  <div id=\"df-f1699440-b818-489e-9878-24b219ba4d24\">\n",
              "    <div class=\"colab-df-container\">\n",
              "      <div>\n",
              "<style scoped>\n",
              "    .dataframe tbody tr th:only-of-type {\n",
              "        vertical-align: middle;\n",
              "    }\n",
              "\n",
              "    .dataframe tbody tr th {\n",
              "        vertical-align: top;\n",
              "    }\n",
              "\n",
              "    .dataframe thead th {\n",
              "        text-align: right;\n",
              "    }\n",
              "</style>\n",
              "<table border=\"1\" class=\"dataframe\">\n",
              "  <thead>\n",
              "    <tr style=\"text-align: right;\">\n",
              "      <th></th>\n",
              "      <th>Mean ROC AUC</th>\n",
              "      <th>Std ROC AUC</th>\n",
              "    </tr>\n",
              "    <tr>\n",
              "      <th>Model</th>\n",
              "      <th></th>\n",
              "      <th></th>\n",
              "    </tr>\n",
              "  </thead>\n",
              "  <tbody>\n",
              "    <tr>\n",
              "      <th>Catboost</th>\n",
              "      <td>0.937393</td>\n",
              "      <td>0.014324</td>\n",
              "    </tr>\n",
              "    <tr>\n",
              "      <th>LightGBM</th>\n",
              "      <td>0.932907</td>\n",
              "      <td>0.014116</td>\n",
              "    </tr>\n",
              "    <tr>\n",
              "      <th>RF</th>\n",
              "      <td>0.922544</td>\n",
              "      <td>0.018259</td>\n",
              "    </tr>\n",
              "    <tr>\n",
              "      <th>XGBoost</th>\n",
              "      <td>0.917281</td>\n",
              "      <td>0.014212</td>\n",
              "    </tr>\n",
              "    <tr>\n",
              "      <th>Adaboost</th>\n",
              "      <td>0.898972</td>\n",
              "      <td>0.017686</td>\n",
              "    </tr>\n",
              "    <tr>\n",
              "      <th>Logistic Regression</th>\n",
              "      <td>0.873508</td>\n",
              "      <td>0.016735</td>\n",
              "    </tr>\n",
              "    <tr>\n",
              "      <th>KNN</th>\n",
              "      <td>0.778317</td>\n",
              "      <td>0.032686</td>\n",
              "    </tr>\n",
              "    <tr>\n",
              "      <th>Decision Tree</th>\n",
              "      <td>0.770497</td>\n",
              "      <td>0.037284</td>\n",
              "    </tr>\n",
              "  </tbody>\n",
              "</table>\n",
              "</div>\n",
              "      <button class=\"colab-df-convert\" onclick=\"convertToInteractive('df-f1699440-b818-489e-9878-24b219ba4d24')\"\n",
              "              title=\"Convert this dataframe to an interactive table.\"\n",
              "              style=\"display:none;\">\n",
              "        \n",
              "  <svg xmlns=\"http://www.w3.org/2000/svg\" height=\"24px\"viewBox=\"0 0 24 24\"\n",
              "       width=\"24px\">\n",
              "    <path d=\"M0 0h24v24H0V0z\" fill=\"none\"/>\n",
              "    <path d=\"M18.56 5.44l.94 2.06.94-2.06 2.06-.94-2.06-.94-.94-2.06-.94 2.06-2.06.94zm-11 1L8.5 8.5l.94-2.06 2.06-.94-2.06-.94L8.5 2.5l-.94 2.06-2.06.94zm10 10l.94 2.06.94-2.06 2.06-.94-2.06-.94-.94-2.06-.94 2.06-2.06.94z\"/><path d=\"M17.41 7.96l-1.37-1.37c-.4-.4-.92-.59-1.43-.59-.52 0-1.04.2-1.43.59L10.3 9.45l-7.72 7.72c-.78.78-.78 2.05 0 2.83L4 21.41c.39.39.9.59 1.41.59.51 0 1.02-.2 1.41-.59l7.78-7.78 2.81-2.81c.8-.78.8-2.07 0-2.86zM5.41 20L4 18.59l7.72-7.72 1.47 1.35L5.41 20z\"/>\n",
              "  </svg>\n",
              "      </button>\n",
              "      \n",
              "  <style>\n",
              "    .colab-df-container {\n",
              "      display:flex;\n",
              "      flex-wrap:wrap;\n",
              "      gap: 12px;\n",
              "    }\n",
              "\n",
              "    .colab-df-convert {\n",
              "      background-color: #E8F0FE;\n",
              "      border: none;\n",
              "      border-radius: 50%;\n",
              "      cursor: pointer;\n",
              "      display: none;\n",
              "      fill: #1967D2;\n",
              "      height: 32px;\n",
              "      padding: 0 0 0 0;\n",
              "      width: 32px;\n",
              "    }\n",
              "\n",
              "    .colab-df-convert:hover {\n",
              "      background-color: #E2EBFA;\n",
              "      box-shadow: 0px 1px 2px rgba(60, 64, 67, 0.3), 0px 1px 3px 1px rgba(60, 64, 67, 0.15);\n",
              "      fill: #174EA6;\n",
              "    }\n",
              "\n",
              "    [theme=dark] .colab-df-convert {\n",
              "      background-color: #3B4455;\n",
              "      fill: #D2E3FC;\n",
              "    }\n",
              "\n",
              "    [theme=dark] .colab-df-convert:hover {\n",
              "      background-color: #434B5C;\n",
              "      box-shadow: 0px 1px 3px 1px rgba(0, 0, 0, 0.15);\n",
              "      filter: drop-shadow(0px 1px 2px rgba(0, 0, 0, 0.3));\n",
              "      fill: #FFFFFF;\n",
              "    }\n",
              "  </style>\n",
              "\n",
              "      <script>\n",
              "        const buttonEl =\n",
              "          document.querySelector('#df-f1699440-b818-489e-9878-24b219ba4d24 button.colab-df-convert');\n",
              "        buttonEl.style.display =\n",
              "          google.colab.kernel.accessAllowed ? 'block' : 'none';\n",
              "\n",
              "        async function convertToInteractive(key) {\n",
              "          const element = document.querySelector('#df-f1699440-b818-489e-9878-24b219ba4d24');\n",
              "          const dataTable =\n",
              "            await google.colab.kernel.invokeFunction('convertToInteractive',\n",
              "                                                     [key], {});\n",
              "          if (!dataTable) return;\n",
              "\n",
              "          const docLinkHtml = 'Like what you see? Visit the ' +\n",
              "            '<a target=\"_blank\" href=https://colab.research.google.com/notebooks/data_table.ipynb>data table notebook</a>'\n",
              "            + ' to learn more about interactive tables.';\n",
              "          element.innerHTML = '';\n",
              "          dataTable['output_type'] = 'display_data';\n",
              "          await google.colab.output.renderOutput(dataTable, element);\n",
              "          const docLink = document.createElement('div');\n",
              "          docLink.innerHTML = docLinkHtml;\n",
              "          element.appendChild(docLink);\n",
              "        }\n",
              "      </script>\n",
              "    </div>\n",
              "  </div>\n",
              "  "
            ]
          },
          "metadata": {},
          "execution_count": 31
        }
      ]
    },
    {
      "cell_type": "markdown",
      "source": [
        "Kita sudah melakukan percobaan kepada beberapa metode, dengan menggunakan default hyperparameter. Tabel diatas memperlihatkan bahwa metode **Cat Boost Classifier (CatBoost) dan  Light GBM (LightGBM)memiliki skor ROC AUC tertinggi** dibandingkan dengan metode-metode yang lain. "
      ],
      "metadata": {
        "id": "S7fm-9b7-tel"
      }
    },
    {
      "cell_type": "markdown",
      "source": [
        "### **Model Benchmarking : Data Testing**"
      ],
      "metadata": {
        "id": "31BTUpA3a5I8"
      }
    },
    {
      "cell_type": "code",
      "source": [
        "roc_auc = []\n",
        "recall = []\n",
        "confus_matrix = []\n",
        "fpr = []\n",
        "\n",
        "for i, a in enumerate(model):    \n",
        "    pipeline_model = Pipeline([('preprocess', preprocessor),('model', a)])\n",
        "    \n",
        "    pipeline_model.fit(x_train, y_train)\n",
        "    \n",
        "    y_pred = pipeline_model.predict(x_test)\n",
        "    y_pred_proba = pipeline_model.predict_proba(x_test)[:,1]\n",
        "    confmat_var = confusion_matrix(y_test, y_pred)\n",
        "    \n",
        "    roc_auc.append(roc_auc_score(y_test, y_pred_proba))\n",
        "    recall.append(recall_score(y_test, y_pred))\n",
        "    confus_matrix.append(confmat_var)\n",
        "    fpr.append(confmat_var[0][1]/(confmat_var[0][1]+confmat_var[0][0]))\n",
        "    print(a,'\\n', classification_report(y_test,y_pred))\n",
        "    \n",
        "pd.DataFrame(data={'Model': algo,\n",
        "                   'ROC AUC Score': roc_auc,\n",
        "                   'Recall Score': recall,\n",
        "                   'FPR': fpr,}).set_index('Model').sort_values(by='ROC AUC Score',ascending=False)"
      ],
      "metadata": {
        "colab": {
          "base_uri": "https://localhost:8080/",
          "height": 1000
        },
        "id": "HITMz6VUa7RC",
        "outputId": "705d4de8-5d4c-4f79-ba21-4c38af446c78"
      },
      "execution_count": null,
      "outputs": [
        {
          "output_type": "stream",
          "name": "stdout",
          "text": [
            "LogisticRegression() \n",
            "               precision    recall  f1-score   support\n",
            "\n",
            "           0       0.90      0.95      0.93       547\n",
            "           1       0.66      0.45      0.53       107\n",
            "\n",
            "    accuracy                           0.87       654\n",
            "   macro avg       0.78      0.70      0.73       654\n",
            "weighted avg       0.86      0.87      0.86       654\n",
            "\n",
            "KNeighborsClassifier() \n",
            "               precision    recall  f1-score   support\n",
            "\n",
            "           0       0.90      0.96      0.93       547\n",
            "           1       0.68      0.44      0.53       107\n",
            "\n",
            "    accuracy                           0.87       654\n",
            "   macro avg       0.79      0.70      0.73       654\n",
            "weighted avg       0.86      0.87      0.86       654\n",
            "\n",
            "DecisionTreeClassifier() \n",
            "               precision    recall  f1-score   support\n",
            "\n",
            "           0       0.94      0.90      0.92       547\n",
            "           1       0.59      0.69      0.64       107\n",
            "\n",
            "    accuracy                           0.87       654\n",
            "   macro avg       0.76      0.80      0.78       654\n",
            "weighted avg       0.88      0.87      0.87       654\n",
            "\n",
            "RandomForestClassifier() \n",
            "               precision    recall  f1-score   support\n",
            "\n",
            "           0       0.92      0.97      0.94       547\n",
            "           1       0.78      0.59      0.67       107\n",
            "\n",
            "    accuracy                           0.91       654\n",
            "   macro avg       0.85      0.78      0.81       654\n",
            "weighted avg       0.90      0.91      0.90       654\n",
            "\n",
            "XGBClassifier(silent=True, verbosity=0) \n",
            "               precision    recall  f1-score   support\n",
            "\n",
            "           0       0.92      0.96      0.94       547\n",
            "           1       0.74      0.55      0.63       107\n",
            "\n",
            "    accuracy                           0.89       654\n",
            "   macro avg       0.83      0.76      0.78       654\n",
            "weighted avg       0.89      0.89      0.89       654\n",
            "\n",
            "LGBMClassifier() \n",
            "               precision    recall  f1-score   support\n",
            "\n",
            "           0       0.94      0.97      0.96       547\n",
            "           1       0.82      0.69      0.75       107\n",
            "\n",
            "    accuracy                           0.93       654\n",
            "   macro avg       0.88      0.83      0.85       654\n",
            "weighted avg       0.92      0.93      0.92       654\n",
            "\n",
            "<catboost.core.CatBoostClassifier object at 0x7f8abe37f150> \n",
            "               precision    recall  f1-score   support\n",
            "\n",
            "           0       0.94      0.96      0.95       547\n",
            "           1       0.79      0.69      0.74       107\n",
            "\n",
            "    accuracy                           0.92       654\n",
            "   macro avg       0.86      0.83      0.84       654\n",
            "weighted avg       0.92      0.92      0.92       654\n",
            "\n",
            "AdaBoostClassifier() \n",
            "               precision    recall  f1-score   support\n",
            "\n",
            "           0       0.91      0.95      0.93       547\n",
            "           1       0.68      0.50      0.58       107\n",
            "\n",
            "    accuracy                           0.88       654\n",
            "   macro avg       0.79      0.73      0.75       654\n",
            "weighted avg       0.87      0.88      0.87       654\n",
            "\n"
          ]
        },
        {
          "output_type": "execute_result",
          "data": {
            "text/plain": [
              "                     ROC AUC Score  Recall Score       FPR\n",
              "Model                                                     \n",
              "Catboost                  0.944421      0.691589  0.036563\n",
              "LightGBM                  0.941089      0.691589  0.029250\n",
              "RF                        0.933794      0.588785  0.032907\n",
              "XGBoost                   0.916383      0.551402  0.038391\n",
              "Adaboost                  0.887381      0.504673  0.047532\n",
              "Logistic Regression       0.871431      0.448598  0.045704\n",
              "KNN                       0.812187      0.439252  0.040219\n",
              "Decision Tree             0.798262      0.691589  0.095064"
            ],
            "text/html": [
              "\n",
              "  <div id=\"df-6a4bcc02-5f0d-486d-bbd2-d8d22fbfebc3\">\n",
              "    <div class=\"colab-df-container\">\n",
              "      <div>\n",
              "<style scoped>\n",
              "    .dataframe tbody tr th:only-of-type {\n",
              "        vertical-align: middle;\n",
              "    }\n",
              "\n",
              "    .dataframe tbody tr th {\n",
              "        vertical-align: top;\n",
              "    }\n",
              "\n",
              "    .dataframe thead th {\n",
              "        text-align: right;\n",
              "    }\n",
              "</style>\n",
              "<table border=\"1\" class=\"dataframe\">\n",
              "  <thead>\n",
              "    <tr style=\"text-align: right;\">\n",
              "      <th></th>\n",
              "      <th>ROC AUC Score</th>\n",
              "      <th>Recall Score</th>\n",
              "      <th>FPR</th>\n",
              "    </tr>\n",
              "    <tr>\n",
              "      <th>Model</th>\n",
              "      <th></th>\n",
              "      <th></th>\n",
              "      <th></th>\n",
              "    </tr>\n",
              "  </thead>\n",
              "  <tbody>\n",
              "    <tr>\n",
              "      <th>Catboost</th>\n",
              "      <td>0.944421</td>\n",
              "      <td>0.691589</td>\n",
              "      <td>0.036563</td>\n",
              "    </tr>\n",
              "    <tr>\n",
              "      <th>LightGBM</th>\n",
              "      <td>0.941089</td>\n",
              "      <td>0.691589</td>\n",
              "      <td>0.029250</td>\n",
              "    </tr>\n",
              "    <tr>\n",
              "      <th>RF</th>\n",
              "      <td>0.933794</td>\n",
              "      <td>0.588785</td>\n",
              "      <td>0.032907</td>\n",
              "    </tr>\n",
              "    <tr>\n",
              "      <th>XGBoost</th>\n",
              "      <td>0.916383</td>\n",
              "      <td>0.551402</td>\n",
              "      <td>0.038391</td>\n",
              "    </tr>\n",
              "    <tr>\n",
              "      <th>Adaboost</th>\n",
              "      <td>0.887381</td>\n",
              "      <td>0.504673</td>\n",
              "      <td>0.047532</td>\n",
              "    </tr>\n",
              "    <tr>\n",
              "      <th>Logistic Regression</th>\n",
              "      <td>0.871431</td>\n",
              "      <td>0.448598</td>\n",
              "      <td>0.045704</td>\n",
              "    </tr>\n",
              "    <tr>\n",
              "      <th>KNN</th>\n",
              "      <td>0.812187</td>\n",
              "      <td>0.439252</td>\n",
              "      <td>0.040219</td>\n",
              "    </tr>\n",
              "    <tr>\n",
              "      <th>Decision Tree</th>\n",
              "      <td>0.798262</td>\n",
              "      <td>0.691589</td>\n",
              "      <td>0.095064</td>\n",
              "    </tr>\n",
              "  </tbody>\n",
              "</table>\n",
              "</div>\n",
              "      <button class=\"colab-df-convert\" onclick=\"convertToInteractive('df-6a4bcc02-5f0d-486d-bbd2-d8d22fbfebc3')\"\n",
              "              title=\"Convert this dataframe to an interactive table.\"\n",
              "              style=\"display:none;\">\n",
              "        \n",
              "  <svg xmlns=\"http://www.w3.org/2000/svg\" height=\"24px\"viewBox=\"0 0 24 24\"\n",
              "       width=\"24px\">\n",
              "    <path d=\"M0 0h24v24H0V0z\" fill=\"none\"/>\n",
              "    <path d=\"M18.56 5.44l.94 2.06.94-2.06 2.06-.94-2.06-.94-.94-2.06-.94 2.06-2.06.94zm-11 1L8.5 8.5l.94-2.06 2.06-.94-2.06-.94L8.5 2.5l-.94 2.06-2.06.94zm10 10l.94 2.06.94-2.06 2.06-.94-2.06-.94-.94-2.06-.94 2.06-2.06.94z\"/><path d=\"M17.41 7.96l-1.37-1.37c-.4-.4-.92-.59-1.43-.59-.52 0-1.04.2-1.43.59L10.3 9.45l-7.72 7.72c-.78.78-.78 2.05 0 2.83L4 21.41c.39.39.9.59 1.41.59.51 0 1.02-.2 1.41-.59l7.78-7.78 2.81-2.81c.8-.78.8-2.07 0-2.86zM5.41 20L4 18.59l7.72-7.72 1.47 1.35L5.41 20z\"/>\n",
              "  </svg>\n",
              "      </button>\n",
              "      \n",
              "  <style>\n",
              "    .colab-df-container {\n",
              "      display:flex;\n",
              "      flex-wrap:wrap;\n",
              "      gap: 12px;\n",
              "    }\n",
              "\n",
              "    .colab-df-convert {\n",
              "      background-color: #E8F0FE;\n",
              "      border: none;\n",
              "      border-radius: 50%;\n",
              "      cursor: pointer;\n",
              "      display: none;\n",
              "      fill: #1967D2;\n",
              "      height: 32px;\n",
              "      padding: 0 0 0 0;\n",
              "      width: 32px;\n",
              "    }\n",
              "\n",
              "    .colab-df-convert:hover {\n",
              "      background-color: #E2EBFA;\n",
              "      box-shadow: 0px 1px 2px rgba(60, 64, 67, 0.3), 0px 1px 3px 1px rgba(60, 64, 67, 0.15);\n",
              "      fill: #174EA6;\n",
              "    }\n",
              "\n",
              "    [theme=dark] .colab-df-convert {\n",
              "      background-color: #3B4455;\n",
              "      fill: #D2E3FC;\n",
              "    }\n",
              "\n",
              "    [theme=dark] .colab-df-convert:hover {\n",
              "      background-color: #434B5C;\n",
              "      box-shadow: 0px 1px 3px 1px rgba(0, 0, 0, 0.15);\n",
              "      filter: drop-shadow(0px 1px 2px rgba(0, 0, 0, 0.3));\n",
              "      fill: #FFFFFF;\n",
              "    }\n",
              "  </style>\n",
              "\n",
              "      <script>\n",
              "        const buttonEl =\n",
              "          document.querySelector('#df-6a4bcc02-5f0d-486d-bbd2-d8d22fbfebc3 button.colab-df-convert');\n",
              "        buttonEl.style.display =\n",
              "          google.colab.kernel.accessAllowed ? 'block' : 'none';\n",
              "\n",
              "        async function convertToInteractive(key) {\n",
              "          const element = document.querySelector('#df-6a4bcc02-5f0d-486d-bbd2-d8d22fbfebc3');\n",
              "          const dataTable =\n",
              "            await google.colab.kernel.invokeFunction('convertToInteractive',\n",
              "                                                     [key], {});\n",
              "          if (!dataTable) return;\n",
              "\n",
              "          const docLinkHtml = 'Like what you see? Visit the ' +\n",
              "            '<a target=\"_blank\" href=https://colab.research.google.com/notebooks/data_table.ipynb>data table notebook</a>'\n",
              "            + ' to learn more about interactive tables.';\n",
              "          element.innerHTML = '';\n",
              "          dataTable['output_type'] = 'display_data';\n",
              "          await google.colab.output.renderOutput(dataTable, element);\n",
              "          const docLink = document.createElement('div');\n",
              "          docLink.innerHTML = docLinkHtml;\n",
              "          element.appendChild(docLink);\n",
              "        }\n",
              "      </script>\n",
              "    </div>\n",
              "  </div>\n",
              "  "
            ]
          },
          "metadata": {},
          "execution_count": 32
        }
      ]
    },
    {
      "cell_type": "markdown",
      "source": [
        "Kita sudah melakukan Testing Dataset dan terlihat lagi bahwa metode dengan menggunakan Random Forest Classifier (RF) memiliki performa terbaik dibandingkan dengan metode yang lain pada test data. \n",
        "\n",
        "Namun perlu dilihat juga bahwa metode Random Forest Classifier (RF) & Cat Boost Classifier (CatBoost) memiliki nilai False Positive Rate (FPR) yang sama sama tinggi yaitu 3,6%. Sedangkan metode Light GBM (LightGBM)  dengan nilai False Positive Rate (FPR) sebesar 2,9% merupakan yang terendah diantara metode yang lainnya.\n",
        "\n",
        "Jika kita bandingkan ketiga metode tersebut (RF, CatBoost, LightGBM) maka metode dengan menggunakan **Light GBM merupakan yang paling baik karena memiliki False Positive Rate (FPR) terendah (2,9%) tapi memiliki nilai ROC AUC yang juga tinggi, tidak terlalu jauh dengan metode Random Forest Classifier (RF) & Cat Boost Classifier (CatBoost). Dimana ketiga metode tersebut memiliki nilai ROC AUC sebesar 94% (RF = 94,9%, CatBoost = 94,4%, LightGBM = 94,1%)**. Tidak lupa juga bahwa nilai Racall metode LightGBM juga merupakan yang tertinggi (69,1%) bersama dengan CatBoost.\n",
        "\n",
        "Sehingga metode pembuatan model dengan LightGBM adalah yang paling baik diantara metode yang lainnya. Selanjutnya kita akan melakukan test oversampling untuk metode Light GBM (LighGBM) guna melihat apakah kita akan mendapatkan hasil yang lebih baik."
      ],
      "metadata": {
        "id": "Gscw-oQB_mxQ"
      }
    },
    {
      "cell_type": "markdown",
      "source": [
        "### **Oversampling Test**"
      ],
      "metadata": {
        "id": "MX_lNu-fs5he"
      }
    },
    {
      "cell_type": "markdown",
      "source": [
        "Sebelumnya kita mengetahui bahwa dataset (churn) memiliki indikasi imbalanced, sehingga model akan cenderung memprediksi kearah tidak churn (0). Kemudian dikarenakan total data yang dimiliki sedikit, sekitar 3000 data, maka metode yang tepat adalah oversampling.\n",
        "\n",
        "Kita akan membagi terlebih dahulu dataset yang kita miliki menjadi 2 bagian yaitu data untuk training dan juga data untuk testing. Selanjutnya kita akan melakukan Oversampling pada data training dan testing. Metode uji coba sampling yang akan digunakan adalah **SMOTENC**."
      ],
      "metadata": {
        "id": "wGH5qcxW_xbu"
      }
    },
    {
      "cell_type": "code",
      "source": [
        "print(f'Ukuran dataset: {df.shape}')\n",
        "display(df['Churn'].value_counts())\n",
        "display((df['Churn'].value_counts()/df.shape[0])*100)"
      ],
      "metadata": {
        "colab": {
          "base_uri": "https://localhost:8080/",
          "height": 139
        },
        "id": "rzCvJGSds-vM",
        "outputId": "3a8a0197-529e-4479-8314-f7ea8427342e"
      },
      "execution_count": null,
      "outputs": [
        {
          "output_type": "stream",
          "name": "stdout",
          "text": [
            "Ukuran dataset: (3270, 11)\n"
          ]
        },
        {
          "output_type": "display_data",
          "data": {
            "text/plain": [
              "0    2736\n",
              "1     534\n",
              "Name: Churn, dtype: int64"
            ]
          },
          "metadata": {}
        },
        {
          "output_type": "display_data",
          "data": {
            "text/plain": [
              "0    83.669725\n",
              "1    16.330275\n",
              "Name: Churn, dtype: float64"
            ]
          },
          "metadata": {}
        }
      ]
    },
    {
      "cell_type": "code",
      "source": [
        "x_no_misval = df_no_misval.drop(columns=['Churn'])\n",
        "y_no_misval = df_no_misval['Churn']\n",
        "\n",
        "x_sampling, x_test_sampling, y_sampling, y_test_sampling = train_test_split(x_no_misval,\n",
        "                                                                        y_no_misval, \n",
        "                                                                        stratify=y_no_misval,\n",
        "                                                                        test_size=0.2,\n",
        "                                                                        random_state=2022)"
      ],
      "metadata": {
        "id": "9eeen3cHQ4qs"
      },
      "execution_count": null,
      "outputs": []
    },
    {
      "cell_type": "code",
      "source": [
        "\n",
        "# training\n",
        "score = []\n",
        "score_avg = []\n",
        "std = []\n",
        "\n",
        "sampling = SMOTENC(categorical_features=[3, 5], random_state=42)\n",
        "\n",
        "x_train_sampling, y_train_sampling = sampling.fit_resample(x_sampling, y_sampling)\n",
        "\n",
        "# Training w/ balanced dataset\n",
        "for a in model:\n",
        "    sk_fold = StratifiedKFold(n_splits=5)\n",
        "    pipeline_model = Pipeline([('preprocess', preprocessor),('model', a)])\n",
        "\n",
        "    model_cv=cross_val_score(pipeline_model, \n",
        "                              x_train_sampling,\n",
        "                              y_train_sampling,\n",
        "                              cv=sk_fold,\n",
        "                              scoring='roc_auc')\n",
        "\n",
        "    score.append([round(i, 2) for i in model_cv])\n",
        "    score_avg.append(model_cv.mean())\n",
        "    std.append(model_cv.std())\n",
        "\n",
        "print(f'Ukuran data training: {y_train_sampling.shape}')\n",
        "display(y_train_sampling.value_counts())\n",
        "display((y_train_sampling.value_counts()/y_train_sampling.shape[0])*100)\n",
        "pd.DataFrame(data={'Model': algo,\n",
        "                   'Mean ROC AUC': score_avg,\n",
        "                   'Std ROC AUC': std,}).set_index('Model').sort_values(by='Mean ROC AUC',ascending=False)"
      ],
      "metadata": {
        "colab": {
          "base_uri": "https://localhost:8080/",
          "height": 453
        },
        "id": "oz0Nt63vQB6j",
        "outputId": "58c34ee5-6131-4b98-aa3d-fed7b0c3b16a"
      },
      "execution_count": null,
      "outputs": [
        {
          "output_type": "stream",
          "name": "stdout",
          "text": [
            "Ukuran data training: (4378,)\n"
          ]
        },
        {
          "output_type": "display_data",
          "data": {
            "text/plain": [
              "0    2189\n",
              "1    2189\n",
              "Name: Churn, dtype: int64"
            ]
          },
          "metadata": {}
        },
        {
          "output_type": "display_data",
          "data": {
            "text/plain": [
              "0    50.0\n",
              "1    50.0\n",
              "Name: Churn, dtype: float64"
            ]
          },
          "metadata": {}
        },
        {
          "output_type": "execute_result",
          "data": {
            "text/plain": [
              "                     Mean ROC AUC  Std ROC AUC\n",
              "Model                                         \n",
              "LightGBM                 0.982370     0.017067\n",
              "Catboost                 0.979885     0.019710\n",
              "RF                       0.974335     0.017531\n",
              "XGBoost                  0.953444     0.024239\n",
              "KNN                      0.941304     0.013699\n",
              "Adaboost                 0.925405     0.027381\n",
              "Decision Tree            0.880094     0.036259\n",
              "Logistic Regression      0.869908     0.016499"
            ],
            "text/html": [
              "\n",
              "  <div id=\"df-3405611c-deaa-4191-b856-24f70be8dc9a\">\n",
              "    <div class=\"colab-df-container\">\n",
              "      <div>\n",
              "<style scoped>\n",
              "    .dataframe tbody tr th:only-of-type {\n",
              "        vertical-align: middle;\n",
              "    }\n",
              "\n",
              "    .dataframe tbody tr th {\n",
              "        vertical-align: top;\n",
              "    }\n",
              "\n",
              "    .dataframe thead th {\n",
              "        text-align: right;\n",
              "    }\n",
              "</style>\n",
              "<table border=\"1\" class=\"dataframe\">\n",
              "  <thead>\n",
              "    <tr style=\"text-align: right;\">\n",
              "      <th></th>\n",
              "      <th>Mean ROC AUC</th>\n",
              "      <th>Std ROC AUC</th>\n",
              "    </tr>\n",
              "    <tr>\n",
              "      <th>Model</th>\n",
              "      <th></th>\n",
              "      <th></th>\n",
              "    </tr>\n",
              "  </thead>\n",
              "  <tbody>\n",
              "    <tr>\n",
              "      <th>LightGBM</th>\n",
              "      <td>0.982370</td>\n",
              "      <td>0.017067</td>\n",
              "    </tr>\n",
              "    <tr>\n",
              "      <th>Catboost</th>\n",
              "      <td>0.979885</td>\n",
              "      <td>0.019710</td>\n",
              "    </tr>\n",
              "    <tr>\n",
              "      <th>RF</th>\n",
              "      <td>0.974335</td>\n",
              "      <td>0.017531</td>\n",
              "    </tr>\n",
              "    <tr>\n",
              "      <th>XGBoost</th>\n",
              "      <td>0.953444</td>\n",
              "      <td>0.024239</td>\n",
              "    </tr>\n",
              "    <tr>\n",
              "      <th>KNN</th>\n",
              "      <td>0.941304</td>\n",
              "      <td>0.013699</td>\n",
              "    </tr>\n",
              "    <tr>\n",
              "      <th>Adaboost</th>\n",
              "      <td>0.925405</td>\n",
              "      <td>0.027381</td>\n",
              "    </tr>\n",
              "    <tr>\n",
              "      <th>Decision Tree</th>\n",
              "      <td>0.880094</td>\n",
              "      <td>0.036259</td>\n",
              "    </tr>\n",
              "    <tr>\n",
              "      <th>Logistic Regression</th>\n",
              "      <td>0.869908</td>\n",
              "      <td>0.016499</td>\n",
              "    </tr>\n",
              "  </tbody>\n",
              "</table>\n",
              "</div>\n",
              "      <button class=\"colab-df-convert\" onclick=\"convertToInteractive('df-3405611c-deaa-4191-b856-24f70be8dc9a')\"\n",
              "              title=\"Convert this dataframe to an interactive table.\"\n",
              "              style=\"display:none;\">\n",
              "        \n",
              "  <svg xmlns=\"http://www.w3.org/2000/svg\" height=\"24px\"viewBox=\"0 0 24 24\"\n",
              "       width=\"24px\">\n",
              "    <path d=\"M0 0h24v24H0V0z\" fill=\"none\"/>\n",
              "    <path d=\"M18.56 5.44l.94 2.06.94-2.06 2.06-.94-2.06-.94-.94-2.06-.94 2.06-2.06.94zm-11 1L8.5 8.5l.94-2.06 2.06-.94-2.06-.94L8.5 2.5l-.94 2.06-2.06.94zm10 10l.94 2.06.94-2.06 2.06-.94-2.06-.94-.94-2.06-.94 2.06-2.06.94z\"/><path d=\"M17.41 7.96l-1.37-1.37c-.4-.4-.92-.59-1.43-.59-.52 0-1.04.2-1.43.59L10.3 9.45l-7.72 7.72c-.78.78-.78 2.05 0 2.83L4 21.41c.39.39.9.59 1.41.59.51 0 1.02-.2 1.41-.59l7.78-7.78 2.81-2.81c.8-.78.8-2.07 0-2.86zM5.41 20L4 18.59l7.72-7.72 1.47 1.35L5.41 20z\"/>\n",
              "  </svg>\n",
              "      </button>\n",
              "      \n",
              "  <style>\n",
              "    .colab-df-container {\n",
              "      display:flex;\n",
              "      flex-wrap:wrap;\n",
              "      gap: 12px;\n",
              "    }\n",
              "\n",
              "    .colab-df-convert {\n",
              "      background-color: #E8F0FE;\n",
              "      border: none;\n",
              "      border-radius: 50%;\n",
              "      cursor: pointer;\n",
              "      display: none;\n",
              "      fill: #1967D2;\n",
              "      height: 32px;\n",
              "      padding: 0 0 0 0;\n",
              "      width: 32px;\n",
              "    }\n",
              "\n",
              "    .colab-df-convert:hover {\n",
              "      background-color: #E2EBFA;\n",
              "      box-shadow: 0px 1px 2px rgba(60, 64, 67, 0.3), 0px 1px 3px 1px rgba(60, 64, 67, 0.15);\n",
              "      fill: #174EA6;\n",
              "    }\n",
              "\n",
              "    [theme=dark] .colab-df-convert {\n",
              "      background-color: #3B4455;\n",
              "      fill: #D2E3FC;\n",
              "    }\n",
              "\n",
              "    [theme=dark] .colab-df-convert:hover {\n",
              "      background-color: #434B5C;\n",
              "      box-shadow: 0px 1px 3px 1px rgba(0, 0, 0, 0.15);\n",
              "      filter: drop-shadow(0px 1px 2px rgba(0, 0, 0, 0.3));\n",
              "      fill: #FFFFFF;\n",
              "    }\n",
              "  </style>\n",
              "\n",
              "      <script>\n",
              "        const buttonEl =\n",
              "          document.querySelector('#df-3405611c-deaa-4191-b856-24f70be8dc9a button.colab-df-convert');\n",
              "        buttonEl.style.display =\n",
              "          google.colab.kernel.accessAllowed ? 'block' : 'none';\n",
              "\n",
              "        async function convertToInteractive(key) {\n",
              "          const element = document.querySelector('#df-3405611c-deaa-4191-b856-24f70be8dc9a');\n",
              "          const dataTable =\n",
              "            await google.colab.kernel.invokeFunction('convertToInteractive',\n",
              "                                                     [key], {});\n",
              "          if (!dataTable) return;\n",
              "\n",
              "          const docLinkHtml = 'Like what you see? Visit the ' +\n",
              "            '<a target=\"_blank\" href=https://colab.research.google.com/notebooks/data_table.ipynb>data table notebook</a>'\n",
              "            + ' to learn more about interactive tables.';\n",
              "          element.innerHTML = '';\n",
              "          dataTable['output_type'] = 'display_data';\n",
              "          await google.colab.output.renderOutput(dataTable, element);\n",
              "          const docLink = document.createElement('div');\n",
              "          docLink.innerHTML = docLinkHtml;\n",
              "          element.appendChild(docLink);\n",
              "        }\n",
              "      </script>\n",
              "    </div>\n",
              "  </div>\n",
              "  "
            ]
          },
          "metadata": {},
          "execution_count": 35
        }
      ]
    },
    {
      "cell_type": "code",
      "source": [
        "# testing\n",
        "recall = []\n",
        "fpr_test = []\n",
        "roc_auc_test = []\n",
        "confus_matrix_test = []\n",
        "\n",
        "# Testing\n",
        "for i, a in enumerate(model):\n",
        "    pipeline_model = Pipeline([('preprocess', preprocessor),('model', a)])\n",
        "\n",
        "    pipeline_model.fit(x_train_sampling, y_train_sampling)\n",
        "\n",
        "    y_pred = pipeline_model.predict(x_test_sampling)\n",
        "    y_pred_proba = pipeline_model.predict_proba(x_test_sampling)[:,1]\n",
        "    confus_matrix_var = confusion_matrix(y_test_sampling, y_pred)\n",
        "\n",
        "    recall.append(recall_score(y_test_sampling, y_pred))\n",
        "    fpr_test.append(confus_matrix_var[0][1]/(confus_matrix_var[0][1]+confus_matrix_var[0][0]))\n",
        "    roc_auc_test.append(roc_auc_score(y_test_sampling, y_pred_proba))\n",
        "    confus_matrix_test.append(confus_matrix_var)\n",
        "    print(a,'\\n', classification_report(y_test,y_pred))\n",
        "\n",
        "print(f'Ukuran data testing: {y_test_sampling.shape}')\n",
        "display(y_test_sampling.value_counts())\n",
        "display((y_test_sampling.value_counts()/y_test_sampling.shape[0])*100)\n",
        "\n",
        "pd.DataFrame(data={'Model': algo,\n",
        "                   'ROC AUC Score': roc_auc_test,\n",
        "                   'Recall Score': recall,\n",
        "                   'FPR': fpr_test,}).set_index('Model').sort_values(by='ROC AUC Score',ascending=False)"
      ],
      "metadata": {
        "colab": {
          "base_uri": "https://localhost:8080/",
          "height": 1000
        },
        "id": "w7yZQN2lRahP",
        "outputId": "7283ceef-6200-4ad1-cb3c-dfe5d201fcba"
      },
      "execution_count": null,
      "outputs": [
        {
          "output_type": "stream",
          "name": "stdout",
          "text": [
            "LogisticRegression() \n",
            "               precision    recall  f1-score   support\n",
            "\n",
            "           0       0.95      0.76      0.84       547\n",
            "           1       0.39      0.81      0.53       107\n",
            "\n",
            "    accuracy                           0.76       654\n",
            "   macro avg       0.67      0.78      0.69       654\n",
            "weighted avg       0.86      0.76      0.79       654\n",
            "\n",
            "KNeighborsClassifier() \n",
            "               precision    recall  f1-score   support\n",
            "\n",
            "           0       0.95      0.76      0.84       547\n",
            "           1       0.39      0.79      0.52       107\n",
            "\n",
            "    accuracy                           0.76       654\n",
            "   macro avg       0.67      0.77      0.68       654\n",
            "weighted avg       0.86      0.76      0.79       654\n",
            "\n",
            "DecisionTreeClassifier() \n",
            "               precision    recall  f1-score   support\n",
            "\n",
            "           0       0.94      0.88      0.91       547\n",
            "           1       0.54      0.73      0.62       107\n",
            "\n",
            "    accuracy                           0.85       654\n",
            "   macro avg       0.74      0.80      0.77       654\n",
            "weighted avg       0.88      0.85      0.86       654\n",
            "\n",
            "RandomForestClassifier() \n",
            "               precision    recall  f1-score   support\n",
            "\n",
            "           0       0.95      0.92      0.94       547\n",
            "           1       0.66      0.77      0.71       107\n",
            "\n",
            "    accuracy                           0.90       654\n",
            "   macro avg       0.80      0.84      0.82       654\n",
            "weighted avg       0.90      0.90      0.90       654\n",
            "\n",
            "XGBClassifier(silent=True, verbosity=0) \n",
            "               precision    recall  f1-score   support\n",
            "\n",
            "           0       0.94      0.89      0.91       547\n",
            "           1       0.55      0.72      0.63       107\n",
            "\n",
            "    accuracy                           0.86       654\n",
            "   macro avg       0.75      0.80      0.77       654\n",
            "weighted avg       0.88      0.86      0.87       654\n",
            "\n",
            "LGBMClassifier() \n",
            "               precision    recall  f1-score   support\n",
            "\n",
            "           0       0.95      0.94      0.94       547\n",
            "           1       0.70      0.75      0.72       107\n",
            "\n",
            "    accuracy                           0.91       654\n",
            "   macro avg       0.82      0.84      0.83       654\n",
            "weighted avg       0.91      0.91      0.91       654\n",
            "\n",
            "<catboost.core.CatBoostClassifier object at 0x7f8abe37f150> \n",
            "               precision    recall  f1-score   support\n",
            "\n",
            "           0       0.95      0.94      0.94       547\n",
            "           1       0.70      0.76      0.73       107\n",
            "\n",
            "    accuracy                           0.91       654\n",
            "   macro avg       0.82      0.85      0.84       654\n",
            "weighted avg       0.91      0.91      0.91       654\n",
            "\n",
            "AdaBoostClassifier() \n",
            "               precision    recall  f1-score   support\n",
            "\n",
            "           0       0.94      0.82      0.87       547\n",
            "           1       0.44      0.74      0.55       107\n",
            "\n",
            "    accuracy                           0.80       654\n",
            "   macro avg       0.69      0.78      0.71       654\n",
            "weighted avg       0.86      0.80      0.82       654\n",
            "\n",
            "Ukuran data testing: (654,)\n"
          ]
        },
        {
          "output_type": "display_data",
          "data": {
            "text/plain": [
              "0    547\n",
              "1    107\n",
              "Name: Churn, dtype: int64"
            ]
          },
          "metadata": {}
        },
        {
          "output_type": "display_data",
          "data": {
            "text/plain": [
              "0    83.639144\n",
              "1    16.360856\n",
              "Name: Churn, dtype: float64"
            ]
          },
          "metadata": {}
        },
        {
          "output_type": "execute_result",
          "data": {
            "text/plain": [
              "                     ROC AUC Score  Recall Score       FPR\n",
              "Model                                                     \n",
              "LightGBM                  0.930581      0.747664  0.063985\n",
              "Catboost                  0.929351      0.757009  0.063985\n",
              "RF                        0.927771      0.766355  0.078611\n",
              "XGBoost                   0.898922      0.719626  0.113346\n",
              "Adaboost                  0.872636      0.738318  0.184644\n",
              "Logistic Regression       0.845530      0.813084  0.244973\n",
              "KNN                       0.833382      0.785047  0.241316\n",
              "Decision Tree             0.804157      0.728972  0.120658"
            ],
            "text/html": [
              "\n",
              "  <div id=\"df-4285c9b6-5b89-429c-bfa3-a19a406ec52d\">\n",
              "    <div class=\"colab-df-container\">\n",
              "      <div>\n",
              "<style scoped>\n",
              "    .dataframe tbody tr th:only-of-type {\n",
              "        vertical-align: middle;\n",
              "    }\n",
              "\n",
              "    .dataframe tbody tr th {\n",
              "        vertical-align: top;\n",
              "    }\n",
              "\n",
              "    .dataframe thead th {\n",
              "        text-align: right;\n",
              "    }\n",
              "</style>\n",
              "<table border=\"1\" class=\"dataframe\">\n",
              "  <thead>\n",
              "    <tr style=\"text-align: right;\">\n",
              "      <th></th>\n",
              "      <th>ROC AUC Score</th>\n",
              "      <th>Recall Score</th>\n",
              "      <th>FPR</th>\n",
              "    </tr>\n",
              "    <tr>\n",
              "      <th>Model</th>\n",
              "      <th></th>\n",
              "      <th></th>\n",
              "      <th></th>\n",
              "    </tr>\n",
              "  </thead>\n",
              "  <tbody>\n",
              "    <tr>\n",
              "      <th>LightGBM</th>\n",
              "      <td>0.930581</td>\n",
              "      <td>0.747664</td>\n",
              "      <td>0.063985</td>\n",
              "    </tr>\n",
              "    <tr>\n",
              "      <th>Catboost</th>\n",
              "      <td>0.929351</td>\n",
              "      <td>0.757009</td>\n",
              "      <td>0.063985</td>\n",
              "    </tr>\n",
              "    <tr>\n",
              "      <th>RF</th>\n",
              "      <td>0.927771</td>\n",
              "      <td>0.766355</td>\n",
              "      <td>0.078611</td>\n",
              "    </tr>\n",
              "    <tr>\n",
              "      <th>XGBoost</th>\n",
              "      <td>0.898922</td>\n",
              "      <td>0.719626</td>\n",
              "      <td>0.113346</td>\n",
              "    </tr>\n",
              "    <tr>\n",
              "      <th>Adaboost</th>\n",
              "      <td>0.872636</td>\n",
              "      <td>0.738318</td>\n",
              "      <td>0.184644</td>\n",
              "    </tr>\n",
              "    <tr>\n",
              "      <th>Logistic Regression</th>\n",
              "      <td>0.845530</td>\n",
              "      <td>0.813084</td>\n",
              "      <td>0.244973</td>\n",
              "    </tr>\n",
              "    <tr>\n",
              "      <th>KNN</th>\n",
              "      <td>0.833382</td>\n",
              "      <td>0.785047</td>\n",
              "      <td>0.241316</td>\n",
              "    </tr>\n",
              "    <tr>\n",
              "      <th>Decision Tree</th>\n",
              "      <td>0.804157</td>\n",
              "      <td>0.728972</td>\n",
              "      <td>0.120658</td>\n",
              "    </tr>\n",
              "  </tbody>\n",
              "</table>\n",
              "</div>\n",
              "      <button class=\"colab-df-convert\" onclick=\"convertToInteractive('df-4285c9b6-5b89-429c-bfa3-a19a406ec52d')\"\n",
              "              title=\"Convert this dataframe to an interactive table.\"\n",
              "              style=\"display:none;\">\n",
              "        \n",
              "  <svg xmlns=\"http://www.w3.org/2000/svg\" height=\"24px\"viewBox=\"0 0 24 24\"\n",
              "       width=\"24px\">\n",
              "    <path d=\"M0 0h24v24H0V0z\" fill=\"none\"/>\n",
              "    <path d=\"M18.56 5.44l.94 2.06.94-2.06 2.06-.94-2.06-.94-.94-2.06-.94 2.06-2.06.94zm-11 1L8.5 8.5l.94-2.06 2.06-.94-2.06-.94L8.5 2.5l-.94 2.06-2.06.94zm10 10l.94 2.06.94-2.06 2.06-.94-2.06-.94-.94-2.06-.94 2.06-2.06.94z\"/><path d=\"M17.41 7.96l-1.37-1.37c-.4-.4-.92-.59-1.43-.59-.52 0-1.04.2-1.43.59L10.3 9.45l-7.72 7.72c-.78.78-.78 2.05 0 2.83L4 21.41c.39.39.9.59 1.41.59.51 0 1.02-.2 1.41-.59l7.78-7.78 2.81-2.81c.8-.78.8-2.07 0-2.86zM5.41 20L4 18.59l7.72-7.72 1.47 1.35L5.41 20z\"/>\n",
              "  </svg>\n",
              "      </button>\n",
              "      \n",
              "  <style>\n",
              "    .colab-df-container {\n",
              "      display:flex;\n",
              "      flex-wrap:wrap;\n",
              "      gap: 12px;\n",
              "    }\n",
              "\n",
              "    .colab-df-convert {\n",
              "      background-color: #E8F0FE;\n",
              "      border: none;\n",
              "      border-radius: 50%;\n",
              "      cursor: pointer;\n",
              "      display: none;\n",
              "      fill: #1967D2;\n",
              "      height: 32px;\n",
              "      padding: 0 0 0 0;\n",
              "      width: 32px;\n",
              "    }\n",
              "\n",
              "    .colab-df-convert:hover {\n",
              "      background-color: #E2EBFA;\n",
              "      box-shadow: 0px 1px 2px rgba(60, 64, 67, 0.3), 0px 1px 3px 1px rgba(60, 64, 67, 0.15);\n",
              "      fill: #174EA6;\n",
              "    }\n",
              "\n",
              "    [theme=dark] .colab-df-convert {\n",
              "      background-color: #3B4455;\n",
              "      fill: #D2E3FC;\n",
              "    }\n",
              "\n",
              "    [theme=dark] .colab-df-convert:hover {\n",
              "      background-color: #434B5C;\n",
              "      box-shadow: 0px 1px 3px 1px rgba(0, 0, 0, 0.15);\n",
              "      filter: drop-shadow(0px 1px 2px rgba(0, 0, 0, 0.3));\n",
              "      fill: #FFFFFF;\n",
              "    }\n",
              "  </style>\n",
              "\n",
              "      <script>\n",
              "        const buttonEl =\n",
              "          document.querySelector('#df-4285c9b6-5b89-429c-bfa3-a19a406ec52d button.colab-df-convert');\n",
              "        buttonEl.style.display =\n",
              "          google.colab.kernel.accessAllowed ? 'block' : 'none';\n",
              "\n",
              "        async function convertToInteractive(key) {\n",
              "          const element = document.querySelector('#df-4285c9b6-5b89-429c-bfa3-a19a406ec52d');\n",
              "          const dataTable =\n",
              "            await google.colab.kernel.invokeFunction('convertToInteractive',\n",
              "                                                     [key], {});\n",
              "          if (!dataTable) return;\n",
              "\n",
              "          const docLinkHtml = 'Like what you see? Visit the ' +\n",
              "            '<a target=\"_blank\" href=https://colab.research.google.com/notebooks/data_table.ipynb>data table notebook</a>'\n",
              "            + ' to learn more about interactive tables.';\n",
              "          element.innerHTML = '';\n",
              "          dataTable['output_type'] = 'display_data';\n",
              "          await google.colab.output.renderOutput(dataTable, element);\n",
              "          const docLink = document.createElement('div');\n",
              "          docLink.innerHTML = docLinkHtml;\n",
              "          element.appendChild(docLink);\n",
              "        }\n",
              "      </script>\n",
              "    </div>\n",
              "  </div>\n",
              "  "
            ]
          },
          "metadata": {},
          "execution_count": 36
        }
      ]
    },
    {
      "cell_type": "markdown",
      "source": [
        "Setelah dilakukan uji coba Oversampling, model yang telah dibuat memiliki indikasi Overfitting karena perbedaan hasil training dan testing yang telah dilakukan terlalu jauh. \n",
        "\n",
        "Kita akan mencoba melakukan uji coba Undersampling lalu akan kita lihat perbedaan dari hasil uji coba Oversampling dengan uji coba Undersampling."
      ],
      "metadata": {
        "id": "p62pODBIU1HS"
      }
    },
    {
      "cell_type": "markdown",
      "source": [
        "### **Undersampling Test**"
      ],
      "metadata": {
        "id": "pVBPxfQUNYO4"
      }
    },
    {
      "cell_type": "code",
      "source": [
        "\n",
        "# training\n",
        "score = []\n",
        "score_avg = []\n",
        "std = []\n",
        "\n",
        "sampling = RandomUnderSampler(sampling_strategy='majority')\n",
        "\n",
        "x_train_sampling, y_train_sampling = sampling.fit_resample(x_sampling, y_sampling)\n",
        "\n",
        "# Training w/ balanced dataset\n",
        "for a in model:\n",
        "    sk_fold = StratifiedKFold(n_splits=5)\n",
        "    pipeline_model = Pipeline([('preprocess', preprocessor),('model', a)])\n",
        "\n",
        "    model_cv=cross_val_score(pipeline_model, \n",
        "                              x_train_sampling,\n",
        "                              y_train_sampling,\n",
        "                              cv=sk_fold,\n",
        "                              scoring='roc_auc')\n",
        "\n",
        "    score.append([round(i, 2) for i in model_cv])\n",
        "    score_avg.append(model_cv.mean())\n",
        "    std.append(model_cv.std())\n",
        "\n",
        "print(f'Ukuran data training: {y_train_sampling.shape}')\n",
        "display(y_train_sampling.value_counts())\n",
        "display((y_train_sampling.value_counts()/y_train_sampling.shape[0])*100)\n",
        "pd.DataFrame(data={'Model': algo,\n",
        "                   'Mean ROC AUC': score_avg,\n",
        "                   'Std ROC AUC': std,}).set_index('Model').sort_values(by='Mean ROC AUC',ascending=False)"
      ],
      "metadata": {
        "colab": {
          "base_uri": "https://localhost:8080/",
          "height": 453
        },
        "id": "6i360uPqOwH4",
        "outputId": "03fc4453-eab6-40fa-ae2a-9b808fa6001a"
      },
      "execution_count": null,
      "outputs": [
        {
          "output_type": "stream",
          "name": "stdout",
          "text": [
            "Ukuran data training: (854,)\n"
          ]
        },
        {
          "output_type": "display_data",
          "data": {
            "text/plain": [
              "0    427\n",
              "1    427\n",
              "Name: Churn, dtype: int64"
            ]
          },
          "metadata": {}
        },
        {
          "output_type": "display_data",
          "data": {
            "text/plain": [
              "0    50.0\n",
              "1    50.0\n",
              "Name: Churn, dtype: float64"
            ]
          },
          "metadata": {}
        },
        {
          "output_type": "execute_result",
          "data": {
            "text/plain": [
              "                     Mean ROC AUC  Std ROC AUC\n",
              "Model                                         \n",
              "Catboost                 0.925490     0.016584\n",
              "LightGBM                 0.919197     0.021362\n",
              "RF                       0.918846     0.020448\n",
              "XGBoost                  0.911586     0.015130\n",
              "Adaboost                 0.894470     0.017117\n",
              "Logistic Regression      0.870843     0.017544\n",
              "Decision Tree            0.812695     0.024774\n",
              "KNN                      0.781209     0.019491"
            ],
            "text/html": [
              "\n",
              "  <div id=\"df-800a964d-345e-4859-903c-46b3477c2343\">\n",
              "    <div class=\"colab-df-container\">\n",
              "      <div>\n",
              "<style scoped>\n",
              "    .dataframe tbody tr th:only-of-type {\n",
              "        vertical-align: middle;\n",
              "    }\n",
              "\n",
              "    .dataframe tbody tr th {\n",
              "        vertical-align: top;\n",
              "    }\n",
              "\n",
              "    .dataframe thead th {\n",
              "        text-align: right;\n",
              "    }\n",
              "</style>\n",
              "<table border=\"1\" class=\"dataframe\">\n",
              "  <thead>\n",
              "    <tr style=\"text-align: right;\">\n",
              "      <th></th>\n",
              "      <th>Mean ROC AUC</th>\n",
              "      <th>Std ROC AUC</th>\n",
              "    </tr>\n",
              "    <tr>\n",
              "      <th>Model</th>\n",
              "      <th></th>\n",
              "      <th></th>\n",
              "    </tr>\n",
              "  </thead>\n",
              "  <tbody>\n",
              "    <tr>\n",
              "      <th>Catboost</th>\n",
              "      <td>0.925490</td>\n",
              "      <td>0.016584</td>\n",
              "    </tr>\n",
              "    <tr>\n",
              "      <th>LightGBM</th>\n",
              "      <td>0.919197</td>\n",
              "      <td>0.021362</td>\n",
              "    </tr>\n",
              "    <tr>\n",
              "      <th>RF</th>\n",
              "      <td>0.918846</td>\n",
              "      <td>0.020448</td>\n",
              "    </tr>\n",
              "    <tr>\n",
              "      <th>XGBoost</th>\n",
              "      <td>0.911586</td>\n",
              "      <td>0.015130</td>\n",
              "    </tr>\n",
              "    <tr>\n",
              "      <th>Adaboost</th>\n",
              "      <td>0.894470</td>\n",
              "      <td>0.017117</td>\n",
              "    </tr>\n",
              "    <tr>\n",
              "      <th>Logistic Regression</th>\n",
              "      <td>0.870843</td>\n",
              "      <td>0.017544</td>\n",
              "    </tr>\n",
              "    <tr>\n",
              "      <th>Decision Tree</th>\n",
              "      <td>0.812695</td>\n",
              "      <td>0.024774</td>\n",
              "    </tr>\n",
              "    <tr>\n",
              "      <th>KNN</th>\n",
              "      <td>0.781209</td>\n",
              "      <td>0.019491</td>\n",
              "    </tr>\n",
              "  </tbody>\n",
              "</table>\n",
              "</div>\n",
              "      <button class=\"colab-df-convert\" onclick=\"convertToInteractive('df-800a964d-345e-4859-903c-46b3477c2343')\"\n",
              "              title=\"Convert this dataframe to an interactive table.\"\n",
              "              style=\"display:none;\">\n",
              "        \n",
              "  <svg xmlns=\"http://www.w3.org/2000/svg\" height=\"24px\"viewBox=\"0 0 24 24\"\n",
              "       width=\"24px\">\n",
              "    <path d=\"M0 0h24v24H0V0z\" fill=\"none\"/>\n",
              "    <path d=\"M18.56 5.44l.94 2.06.94-2.06 2.06-.94-2.06-.94-.94-2.06-.94 2.06-2.06.94zm-11 1L8.5 8.5l.94-2.06 2.06-.94-2.06-.94L8.5 2.5l-.94 2.06-2.06.94zm10 10l.94 2.06.94-2.06 2.06-.94-2.06-.94-.94-2.06-.94 2.06-2.06.94z\"/><path d=\"M17.41 7.96l-1.37-1.37c-.4-.4-.92-.59-1.43-.59-.52 0-1.04.2-1.43.59L10.3 9.45l-7.72 7.72c-.78.78-.78 2.05 0 2.83L4 21.41c.39.39.9.59 1.41.59.51 0 1.02-.2 1.41-.59l7.78-7.78 2.81-2.81c.8-.78.8-2.07 0-2.86zM5.41 20L4 18.59l7.72-7.72 1.47 1.35L5.41 20z\"/>\n",
              "  </svg>\n",
              "      </button>\n",
              "      \n",
              "  <style>\n",
              "    .colab-df-container {\n",
              "      display:flex;\n",
              "      flex-wrap:wrap;\n",
              "      gap: 12px;\n",
              "    }\n",
              "\n",
              "    .colab-df-convert {\n",
              "      background-color: #E8F0FE;\n",
              "      border: none;\n",
              "      border-radius: 50%;\n",
              "      cursor: pointer;\n",
              "      display: none;\n",
              "      fill: #1967D2;\n",
              "      height: 32px;\n",
              "      padding: 0 0 0 0;\n",
              "      width: 32px;\n",
              "    }\n",
              "\n",
              "    .colab-df-convert:hover {\n",
              "      background-color: #E2EBFA;\n",
              "      box-shadow: 0px 1px 2px rgba(60, 64, 67, 0.3), 0px 1px 3px 1px rgba(60, 64, 67, 0.15);\n",
              "      fill: #174EA6;\n",
              "    }\n",
              "\n",
              "    [theme=dark] .colab-df-convert {\n",
              "      background-color: #3B4455;\n",
              "      fill: #D2E3FC;\n",
              "    }\n",
              "\n",
              "    [theme=dark] .colab-df-convert:hover {\n",
              "      background-color: #434B5C;\n",
              "      box-shadow: 0px 1px 3px 1px rgba(0, 0, 0, 0.15);\n",
              "      filter: drop-shadow(0px 1px 2px rgba(0, 0, 0, 0.3));\n",
              "      fill: #FFFFFF;\n",
              "    }\n",
              "  </style>\n",
              "\n",
              "      <script>\n",
              "        const buttonEl =\n",
              "          document.querySelector('#df-800a964d-345e-4859-903c-46b3477c2343 button.colab-df-convert');\n",
              "        buttonEl.style.display =\n",
              "          google.colab.kernel.accessAllowed ? 'block' : 'none';\n",
              "\n",
              "        async function convertToInteractive(key) {\n",
              "          const element = document.querySelector('#df-800a964d-345e-4859-903c-46b3477c2343');\n",
              "          const dataTable =\n",
              "            await google.colab.kernel.invokeFunction('convertToInteractive',\n",
              "                                                     [key], {});\n",
              "          if (!dataTable) return;\n",
              "\n",
              "          const docLinkHtml = 'Like what you see? Visit the ' +\n",
              "            '<a target=\"_blank\" href=https://colab.research.google.com/notebooks/data_table.ipynb>data table notebook</a>'\n",
              "            + ' to learn more about interactive tables.';\n",
              "          element.innerHTML = '';\n",
              "          dataTable['output_type'] = 'display_data';\n",
              "          await google.colab.output.renderOutput(dataTable, element);\n",
              "          const docLink = document.createElement('div');\n",
              "          docLink.innerHTML = docLinkHtml;\n",
              "          element.appendChild(docLink);\n",
              "        }\n",
              "      </script>\n",
              "    </div>\n",
              "  </div>\n",
              "  "
            ]
          },
          "metadata": {},
          "execution_count": 37
        }
      ]
    },
    {
      "cell_type": "code",
      "source": [
        "# testing\n",
        "recall = []\n",
        "fpr_test = []\n",
        "roc_auc_test = []\n",
        "confus_matrix_test = []\n",
        "\n",
        "# Testing\n",
        "for i, a in enumerate(model):\n",
        "    pipeline_model = Pipeline([('preprocess', preprocessor),('model', a)])\n",
        "\n",
        "    pipeline_model.fit(x_train_sampling, y_train_sampling)\n",
        "\n",
        "    y_pred = pipeline_model.predict(x_test_sampling)\n",
        "    y_pred_proba = pipeline_model.predict_proba(x_test_sampling)[:,1]\n",
        "    confus_matrix_var = confusion_matrix(y_test_sampling, y_pred)\n",
        "\n",
        "    recall.append(recall_score(y_test_sampling, y_pred))\n",
        "    fpr_test.append(confus_matrix_var[0][1]/(confus_matrix_var[0][1]+confus_matrix_var[0][0]))\n",
        "    roc_auc_test.append(roc_auc_score(y_test_sampling, y_pred_proba))\n",
        "    confus_matrix_test.append(confus_matrix_var)\n",
        "    print(a,'\\n', classification_report(y_test,y_pred))\n",
        "\n",
        "print(f'Ukuran data testing: {y_test_sampling.shape}')\n",
        "display(y_test_sampling.value_counts())\n",
        "display((y_test_sampling.value_counts()/y_test_sampling.shape[0])*100)\n",
        "\n",
        "pd.DataFrame(data={'Model': algo,\n",
        "                   'ROC AUC Score': roc_auc_test,\n",
        "                   'Recall Score': recall,\n",
        "                   'FPR': fpr_test,}).set_index('Model').sort_values(by='ROC AUC Score',ascending=False)"
      ],
      "metadata": {
        "colab": {
          "base_uri": "https://localhost:8080/",
          "height": 1000
        },
        "id": "wLfVglh6O8iy",
        "outputId": "07e55a48-2807-4d70-e373-320a0c3c5c69"
      },
      "execution_count": null,
      "outputs": [
        {
          "output_type": "stream",
          "name": "stdout",
          "text": [
            "LogisticRegression() \n",
            "               precision    recall  f1-score   support\n",
            "\n",
            "           0       0.96      0.77      0.85       547\n",
            "           1       0.41      0.82      0.55       107\n",
            "\n",
            "    accuracy                           0.78       654\n",
            "   macro avg       0.69      0.80      0.70       654\n",
            "weighted avg       0.87      0.78      0.80       654\n",
            "\n",
            "KNeighborsClassifier() \n",
            "               precision    recall  f1-score   support\n",
            "\n",
            "           0       0.94      0.76      0.84       547\n",
            "           1       0.38      0.76      0.50       107\n",
            "\n",
            "    accuracy                           0.76       654\n",
            "   macro avg       0.66      0.76      0.67       654\n",
            "weighted avg       0.85      0.76      0.78       654\n",
            "\n",
            "DecisionTreeClassifier() \n",
            "               precision    recall  f1-score   support\n",
            "\n",
            "           0       0.96      0.76      0.85       547\n",
            "           1       0.41      0.86      0.55       107\n",
            "\n",
            "    accuracy                           0.77       654\n",
            "   macro avg       0.69      0.81      0.70       654\n",
            "weighted avg       0.87      0.77      0.80       654\n",
            "\n",
            "RandomForestClassifier() \n",
            "               precision    recall  f1-score   support\n",
            "\n",
            "           0       0.97      0.81      0.88       547\n",
            "           1       0.47      0.87      0.61       107\n",
            "\n",
            "    accuracy                           0.82       654\n",
            "   macro avg       0.72      0.84      0.75       654\n",
            "weighted avg       0.89      0.82      0.84       654\n",
            "\n",
            "XGBClassifier(silent=True, verbosity=0) \n",
            "               precision    recall  f1-score   support\n",
            "\n",
            "           0       0.96      0.82      0.89       547\n",
            "           1       0.48      0.84      0.61       107\n",
            "\n",
            "    accuracy                           0.83       654\n",
            "   macro avg       0.72      0.83      0.75       654\n",
            "weighted avg       0.88      0.83      0.84       654\n",
            "\n",
            "LGBMClassifier() \n",
            "               precision    recall  f1-score   support\n",
            "\n",
            "           0       0.97      0.83      0.89       547\n",
            "           1       0.50      0.88      0.64       107\n",
            "\n",
            "    accuracy                           0.84       654\n",
            "   macro avg       0.74      0.85      0.77       654\n",
            "weighted avg       0.89      0.84      0.85       654\n",
            "\n",
            "<catboost.core.CatBoostClassifier object at 0x7f8abe37f150> \n",
            "               precision    recall  f1-score   support\n",
            "\n",
            "           0       0.97      0.84      0.90       547\n",
            "           1       0.50      0.85      0.63       107\n",
            "\n",
            "    accuracy                           0.84       654\n",
            "   macro avg       0.73      0.84      0.76       654\n",
            "weighted avg       0.89      0.84      0.85       654\n",
            "\n",
            "AdaBoostClassifier() \n",
            "               precision    recall  f1-score   support\n",
            "\n",
            "           0       0.96      0.78      0.86       547\n",
            "           1       0.42      0.81      0.55       107\n",
            "\n",
            "    accuracy                           0.78       654\n",
            "   macro avg       0.69      0.80      0.71       654\n",
            "weighted avg       0.87      0.78      0.81       654\n",
            "\n",
            "Ukuran data testing: (654,)\n"
          ]
        },
        {
          "output_type": "display_data",
          "data": {
            "text/plain": [
              "0    547\n",
              "1    107\n",
              "Name: Churn, dtype: int64"
            ]
          },
          "metadata": {}
        },
        {
          "output_type": "display_data",
          "data": {
            "text/plain": [
              "0    83.639144\n",
              "1    16.360856\n",
              "Name: Churn, dtype: float64"
            ]
          },
          "metadata": {}
        },
        {
          "output_type": "execute_result",
          "data": {
            "text/plain": [
              "                     ROC AUC Score  Recall Score       FPR\n",
              "Model                                                     \n",
              "Catboost                  0.925456      0.850467  0.164534\n",
              "LightGBM                  0.918596      0.878505  0.171846\n",
              "RF                        0.918254      0.869159  0.190128\n",
              "XGBoost                   0.911702      0.841121  0.177331\n",
              "Adaboost                  0.879359      0.813084  0.221207\n",
              "Logistic Regression       0.870133      0.822430  0.228519\n",
              "Decision Tree             0.807420      0.859813  0.244973\n",
              "KNN                       0.793624      0.757009  0.244973"
            ],
            "text/html": [
              "\n",
              "  <div id=\"df-335b2e11-c66e-4347-b939-a47c3d98eb2a\">\n",
              "    <div class=\"colab-df-container\">\n",
              "      <div>\n",
              "<style scoped>\n",
              "    .dataframe tbody tr th:only-of-type {\n",
              "        vertical-align: middle;\n",
              "    }\n",
              "\n",
              "    .dataframe tbody tr th {\n",
              "        vertical-align: top;\n",
              "    }\n",
              "\n",
              "    .dataframe thead th {\n",
              "        text-align: right;\n",
              "    }\n",
              "</style>\n",
              "<table border=\"1\" class=\"dataframe\">\n",
              "  <thead>\n",
              "    <tr style=\"text-align: right;\">\n",
              "      <th></th>\n",
              "      <th>ROC AUC Score</th>\n",
              "      <th>Recall Score</th>\n",
              "      <th>FPR</th>\n",
              "    </tr>\n",
              "    <tr>\n",
              "      <th>Model</th>\n",
              "      <th></th>\n",
              "      <th></th>\n",
              "      <th></th>\n",
              "    </tr>\n",
              "  </thead>\n",
              "  <tbody>\n",
              "    <tr>\n",
              "      <th>Catboost</th>\n",
              "      <td>0.925456</td>\n",
              "      <td>0.850467</td>\n",
              "      <td>0.164534</td>\n",
              "    </tr>\n",
              "    <tr>\n",
              "      <th>LightGBM</th>\n",
              "      <td>0.918596</td>\n",
              "      <td>0.878505</td>\n",
              "      <td>0.171846</td>\n",
              "    </tr>\n",
              "    <tr>\n",
              "      <th>RF</th>\n",
              "      <td>0.918254</td>\n",
              "      <td>0.869159</td>\n",
              "      <td>0.190128</td>\n",
              "    </tr>\n",
              "    <tr>\n",
              "      <th>XGBoost</th>\n",
              "      <td>0.911702</td>\n",
              "      <td>0.841121</td>\n",
              "      <td>0.177331</td>\n",
              "    </tr>\n",
              "    <tr>\n",
              "      <th>Adaboost</th>\n",
              "      <td>0.879359</td>\n",
              "      <td>0.813084</td>\n",
              "      <td>0.221207</td>\n",
              "    </tr>\n",
              "    <tr>\n",
              "      <th>Logistic Regression</th>\n",
              "      <td>0.870133</td>\n",
              "      <td>0.822430</td>\n",
              "      <td>0.228519</td>\n",
              "    </tr>\n",
              "    <tr>\n",
              "      <th>Decision Tree</th>\n",
              "      <td>0.807420</td>\n",
              "      <td>0.859813</td>\n",
              "      <td>0.244973</td>\n",
              "    </tr>\n",
              "    <tr>\n",
              "      <th>KNN</th>\n",
              "      <td>0.793624</td>\n",
              "      <td>0.757009</td>\n",
              "      <td>0.244973</td>\n",
              "    </tr>\n",
              "  </tbody>\n",
              "</table>\n",
              "</div>\n",
              "      <button class=\"colab-df-convert\" onclick=\"convertToInteractive('df-335b2e11-c66e-4347-b939-a47c3d98eb2a')\"\n",
              "              title=\"Convert this dataframe to an interactive table.\"\n",
              "              style=\"display:none;\">\n",
              "        \n",
              "  <svg xmlns=\"http://www.w3.org/2000/svg\" height=\"24px\"viewBox=\"0 0 24 24\"\n",
              "       width=\"24px\">\n",
              "    <path d=\"M0 0h24v24H0V0z\" fill=\"none\"/>\n",
              "    <path d=\"M18.56 5.44l.94 2.06.94-2.06 2.06-.94-2.06-.94-.94-2.06-.94 2.06-2.06.94zm-11 1L8.5 8.5l.94-2.06 2.06-.94-2.06-.94L8.5 2.5l-.94 2.06-2.06.94zm10 10l.94 2.06.94-2.06 2.06-.94-2.06-.94-.94-2.06-.94 2.06-2.06.94z\"/><path d=\"M17.41 7.96l-1.37-1.37c-.4-.4-.92-.59-1.43-.59-.52 0-1.04.2-1.43.59L10.3 9.45l-7.72 7.72c-.78.78-.78 2.05 0 2.83L4 21.41c.39.39.9.59 1.41.59.51 0 1.02-.2 1.41-.59l7.78-7.78 2.81-2.81c.8-.78.8-2.07 0-2.86zM5.41 20L4 18.59l7.72-7.72 1.47 1.35L5.41 20z\"/>\n",
              "  </svg>\n",
              "      </button>\n",
              "      \n",
              "  <style>\n",
              "    .colab-df-container {\n",
              "      display:flex;\n",
              "      flex-wrap:wrap;\n",
              "      gap: 12px;\n",
              "    }\n",
              "\n",
              "    .colab-df-convert {\n",
              "      background-color: #E8F0FE;\n",
              "      border: none;\n",
              "      border-radius: 50%;\n",
              "      cursor: pointer;\n",
              "      display: none;\n",
              "      fill: #1967D2;\n",
              "      height: 32px;\n",
              "      padding: 0 0 0 0;\n",
              "      width: 32px;\n",
              "    }\n",
              "\n",
              "    .colab-df-convert:hover {\n",
              "      background-color: #E2EBFA;\n",
              "      box-shadow: 0px 1px 2px rgba(60, 64, 67, 0.3), 0px 1px 3px 1px rgba(60, 64, 67, 0.15);\n",
              "      fill: #174EA6;\n",
              "    }\n",
              "\n",
              "    [theme=dark] .colab-df-convert {\n",
              "      background-color: #3B4455;\n",
              "      fill: #D2E3FC;\n",
              "    }\n",
              "\n",
              "    [theme=dark] .colab-df-convert:hover {\n",
              "      background-color: #434B5C;\n",
              "      box-shadow: 0px 1px 3px 1px rgba(0, 0, 0, 0.15);\n",
              "      filter: drop-shadow(0px 1px 2px rgba(0, 0, 0, 0.3));\n",
              "      fill: #FFFFFF;\n",
              "    }\n",
              "  </style>\n",
              "\n",
              "      <script>\n",
              "        const buttonEl =\n",
              "          document.querySelector('#df-335b2e11-c66e-4347-b939-a47c3d98eb2a button.colab-df-convert');\n",
              "        buttonEl.style.display =\n",
              "          google.colab.kernel.accessAllowed ? 'block' : 'none';\n",
              "\n",
              "        async function convertToInteractive(key) {\n",
              "          const element = document.querySelector('#df-335b2e11-c66e-4347-b939-a47c3d98eb2a');\n",
              "          const dataTable =\n",
              "            await google.colab.kernel.invokeFunction('convertToInteractive',\n",
              "                                                     [key], {});\n",
              "          if (!dataTable) return;\n",
              "\n",
              "          const docLinkHtml = 'Like what you see? Visit the ' +\n",
              "            '<a target=\"_blank\" href=https://colab.research.google.com/notebooks/data_table.ipynb>data table notebook</a>'\n",
              "            + ' to learn more about interactive tables.';\n",
              "          element.innerHTML = '';\n",
              "          dataTable['output_type'] = 'display_data';\n",
              "          await google.colab.output.renderOutput(dataTable, element);\n",
              "          const docLink = document.createElement('div');\n",
              "          docLink.innerHTML = docLinkHtml;\n",
              "          element.appendChild(docLink);\n",
              "        }\n",
              "      </script>\n",
              "    </div>\n",
              "  </div>\n",
              "  "
            ]
          },
          "metadata": {},
          "execution_count": 38
        }
      ]
    },
    {
      "cell_type": "markdown",
      "source": [
        "Setelah kita lakukan uji coba Undersampling dan uji coba Oversampling, ternyata uji coba Undersampling memiliki performa yang lebih baik jika dibandingkan dengan uji coba Oversampling. Model tidak memiliki indikasi Overfitting karena hasil dari training dan testing tidak memiliki perbedaan nilai yang signifikan.\n",
        "\n",
        "Dikarenakan metode yang terbaik saat Oversampling dan Undersampling secara berturut-turut adalah Light GBM (LightGBM) dan Cat Boost Classifier (CatBoost) maka kita akan mencoba untuk menggunakan 2 metode tersebut untuk membuat model. Selanjutnya kita akan membandingkan dari kedua model tersebut untuk menentukan model terbaiknya."
      ],
      "metadata": {
        "id": "CoE7b_L9Wdk5"
      }
    },
    {
      "cell_type": "markdown",
      "source": [
        "### **Hyperparameter Tuning**"
      ],
      "metadata": {
        "id": "MsH6dS-RBaxf"
      }
    },
    {
      "cell_type": "markdown",
      "source": [
        "#### **Light GBM**"
      ],
      "metadata": {
        "id": "7px872veABCJ"
      }
    },
    {
      "cell_type": "code",
      "source": [
        "model_lgbm = lgb.LGBMClassifier()\n",
        "\n",
        "hyperparam_space_lgbm=[{\n",
        "    'model__max_bin': [255, 275, 300, 230],\n",
        "    'model__num_leaves':[31, 21, 41, 51],\n",
        "    'model__min_data_in_leaf': [20, 15, 30, 40],\n",
        "    'model__num_iterations':[100,75, 125, 150],\n",
        "    'model__learning_rate': [0.1, 0.075, 0.125, 0.05],\n",
        "    'model__random_state': [42]}]"
      ],
      "metadata": {
        "id": "5d3g0AAaajn6"
      },
      "execution_count": null,
      "outputs": []
    },
    {
      "cell_type": "code",
      "source": [
        "# rus = SMOTENC(categorical_features=[3, 5], random_state=42)\n",
        "# x_train_fin, y_train_fin = rus.fit_resample(x_train, y_train)\n",
        "\n",
        "# estimator = Pipeline([\n",
        "#     ('preprocess', preprocessor),\n",
        "#     ('model', model)])\n",
        "\n",
        "rus = RandomUnderSampler(sampling_strategy='majority', random_state=2022)\n",
        "x_train_fin, y_train_fin = rus.fit_resample(x_train, y_train)\n",
        "\n",
        "estimator = Pipeline([\n",
        "    ('preprocess', preprocessor),\n",
        "    ('model', model_lgbm)])"
      ],
      "metadata": {
        "id": "WBVtqdYmbR8x"
      },
      "execution_count": null,
      "outputs": []
    },
    {
      "cell_type": "code",
      "source": [
        "grid = GridSearchCV(estimator, \n",
        "                    n_jobs=-1, \n",
        "                    param_grid=hyperparam_space_lgbm, \n",
        "                    scoring='roc_auc', \n",
        "                    cv=StratifiedKFold(n_splits=10, shuffle=True, random_state=42))\n",
        "\n",
        "grid.fit(x_train_fin, y_train_fin)\n",
        "print(f'Best score: {grid.best_score_}')\n",
        "print(f'Best params: {grid.best_params_}')"
      ],
      "metadata": {
        "colab": {
          "base_uri": "https://localhost:8080/"
        },
        "id": "-9gbf9rObeBO",
        "outputId": "087b3b6d-b7a9-4caf-f167-d44165c6871d"
      },
      "execution_count": null,
      "outputs": [
        {
          "output_type": "stream",
          "name": "stdout",
          "text": [
            "Best score: 0.9230201653403384\n",
            "Best params: {'model__learning_rate': 0.125, 'model__max_bin': 230, 'model__min_data_in_leaf': 15, 'model__num_iterations': 100, 'model__num_leaves': 31, 'model__random_state': 42}\n"
          ]
        }
      ]
    },
    {
      "cell_type": "code",
      "source": [
        "default_model = Pipeline([\n",
        "    ('preprocess', preprocessor),\n",
        "    ('model', model_lgbm)\n",
        "])\n",
        "default_model.fit(x_train_fin, y_train_fin)"
      ],
      "metadata": {
        "colab": {
          "base_uri": "https://localhost:8080/"
        },
        "id": "VRJH0jxCgia9",
        "outputId": "84908e3f-bee1-45bc-c012-34c21911eb73"
      },
      "execution_count": null,
      "outputs": [
        {
          "output_type": "execute_result",
          "data": {
            "text/plain": [
              "Pipeline(steps=[('preprocess',\n",
              "                 ColumnTransformer(remainder='passthrough',\n",
              "                                   transformers=[('misval', SimpleImputer(),\n",
              "                                                  ['Tenure', 'WarehouseToHome',\n",
              "                                                   'DaySinceLastOrder']),\n",
              "                                                 ('encode',\n",
              "                                                  OneHotEncoder(drop='first'),\n",
              "                                                  ['PreferedOrderCat',\n",
              "                                                   'MaritalStatus'])])),\n",
              "                ('model', LGBMClassifier())])"
            ]
          },
          "metadata": {},
          "execution_count": 42
        }
      ]
    },
    {
      "cell_type": "code",
      "source": [
        "best_model = grid.best_estimator_\n",
        "best_model.fit(x_train_fin, y_train_fin)"
      ],
      "metadata": {
        "colab": {
          "base_uri": "https://localhost:8080/"
        },
        "id": "E4NSJlkifVhP",
        "outputId": "b0e2990a-5b4f-41d6-f740-3468eddea539"
      },
      "execution_count": null,
      "outputs": [
        {
          "output_type": "execute_result",
          "data": {
            "text/plain": [
              "Pipeline(steps=[('preprocess',\n",
              "                 ColumnTransformer(remainder='passthrough',\n",
              "                                   transformers=[('misval', SimpleImputer(),\n",
              "                                                  ['Tenure', 'WarehouseToHome',\n",
              "                                                   'DaySinceLastOrder']),\n",
              "                                                 ('encode',\n",
              "                                                  OneHotEncoder(drop='first'),\n",
              "                                                  ['PreferedOrderCat',\n",
              "                                                   'MaritalStatus'])])),\n",
              "                ('model',\n",
              "                 LGBMClassifier(learning_rate=0.125, max_bin=230,\n",
              "                                min_data_in_leaf=15, num_iterations=100,\n",
              "                                random_state=42))])"
            ]
          },
          "metadata": {},
          "execution_count": 43
        }
      ]
    },
    {
      "cell_type": "code",
      "source": [
        "# Testing\n",
        "y_pred_default = default_model.predict(x_test)\n",
        "y_pred_proba_default = default_model.predict_proba(x_test)\n",
        "\n",
        "y_pred_tuned = best_model.predict(x_test)\n",
        "y_pred_proba_tuned = best_model.predict_proba(x_test)\n",
        "\n",
        "roc_auc_default = roc_auc_score(y_test, y_pred_proba_default[:,1])\n",
        "roc_auc_tuned = roc_auc_score(y_test, y_pred_proba_tuned[:,1])\n",
        "\n",
        "recall_default = recall_score(y_test, y_pred_default)\n",
        "recall_tuned = recall_score(y_test, y_pred_tuned)\n",
        "\n",
        "con_mat_default = confusion_matrix(y_test, y_pred_default)\n",
        "con_mat_tuned = confusion_matrix(y_test, y_pred_tuned)\n",
        "\n",
        "fpr_default = con_mat_default[0][1]/(con_mat_default[0][1]+con_mat_default[0][0])\n",
        "fpr_tuned = con_mat_tuned[0][1]/(con_mat_tuned[0][1]+con_mat_tuned[0][0])\n",
        "\n",
        "display(pd.DataFrame(data={'Recall': [recall_default, recall_tuned],\n",
        "                           'FPR': [fpr_default, fpr_tuned],\n",
        "                           'ROC AUC': [roc_auc_default, roc_auc_tuned]},\n",
        "                     index=['Default Model', 'Tuned Model']))\n",
        "\n",
        "print('ROC AUC Score Default: \\n', con_mat_default)\n",
        "print('\\nROC AUC Score Tuned: \\n', con_mat_tuned)"
      ],
      "metadata": {
        "colab": {
          "base_uri": "https://localhost:8080/"
        },
        "id": "LBB6uE6Lf5Cf",
        "outputId": "94556254-688e-4a09-83bc-1260a71c8a23"
      },
      "execution_count": null,
      "outputs": [
        {
          "output_type": "display_data",
          "data": {
            "text/plain": [
              "                 Recall       FPR   ROC AUC\n",
              "Default Model  0.850467  0.160878  0.905773\n",
              "Tuned Model    0.859813  0.166362  0.913120"
            ],
            "text/html": [
              "\n",
              "  <div id=\"df-3e0b5a08-2d11-4f48-b921-2f6491391157\">\n",
              "    <div class=\"colab-df-container\">\n",
              "      <div>\n",
              "<style scoped>\n",
              "    .dataframe tbody tr th:only-of-type {\n",
              "        vertical-align: middle;\n",
              "    }\n",
              "\n",
              "    .dataframe tbody tr th {\n",
              "        vertical-align: top;\n",
              "    }\n",
              "\n",
              "    .dataframe thead th {\n",
              "        text-align: right;\n",
              "    }\n",
              "</style>\n",
              "<table border=\"1\" class=\"dataframe\">\n",
              "  <thead>\n",
              "    <tr style=\"text-align: right;\">\n",
              "      <th></th>\n",
              "      <th>Recall</th>\n",
              "      <th>FPR</th>\n",
              "      <th>ROC AUC</th>\n",
              "    </tr>\n",
              "  </thead>\n",
              "  <tbody>\n",
              "    <tr>\n",
              "      <th>Default Model</th>\n",
              "      <td>0.850467</td>\n",
              "      <td>0.160878</td>\n",
              "      <td>0.905773</td>\n",
              "    </tr>\n",
              "    <tr>\n",
              "      <th>Tuned Model</th>\n",
              "      <td>0.859813</td>\n",
              "      <td>0.166362</td>\n",
              "      <td>0.913120</td>\n",
              "    </tr>\n",
              "  </tbody>\n",
              "</table>\n",
              "</div>\n",
              "      <button class=\"colab-df-convert\" onclick=\"convertToInteractive('df-3e0b5a08-2d11-4f48-b921-2f6491391157')\"\n",
              "              title=\"Convert this dataframe to an interactive table.\"\n",
              "              style=\"display:none;\">\n",
              "        \n",
              "  <svg xmlns=\"http://www.w3.org/2000/svg\" height=\"24px\"viewBox=\"0 0 24 24\"\n",
              "       width=\"24px\">\n",
              "    <path d=\"M0 0h24v24H0V0z\" fill=\"none\"/>\n",
              "    <path d=\"M18.56 5.44l.94 2.06.94-2.06 2.06-.94-2.06-.94-.94-2.06-.94 2.06-2.06.94zm-11 1L8.5 8.5l.94-2.06 2.06-.94-2.06-.94L8.5 2.5l-.94 2.06-2.06.94zm10 10l.94 2.06.94-2.06 2.06-.94-2.06-.94-.94-2.06-.94 2.06-2.06.94z\"/><path d=\"M17.41 7.96l-1.37-1.37c-.4-.4-.92-.59-1.43-.59-.52 0-1.04.2-1.43.59L10.3 9.45l-7.72 7.72c-.78.78-.78 2.05 0 2.83L4 21.41c.39.39.9.59 1.41.59.51 0 1.02-.2 1.41-.59l7.78-7.78 2.81-2.81c.8-.78.8-2.07 0-2.86zM5.41 20L4 18.59l7.72-7.72 1.47 1.35L5.41 20z\"/>\n",
              "  </svg>\n",
              "      </button>\n",
              "      \n",
              "  <style>\n",
              "    .colab-df-container {\n",
              "      display:flex;\n",
              "      flex-wrap:wrap;\n",
              "      gap: 12px;\n",
              "    }\n",
              "\n",
              "    .colab-df-convert {\n",
              "      background-color: #E8F0FE;\n",
              "      border: none;\n",
              "      border-radius: 50%;\n",
              "      cursor: pointer;\n",
              "      display: none;\n",
              "      fill: #1967D2;\n",
              "      height: 32px;\n",
              "      padding: 0 0 0 0;\n",
              "      width: 32px;\n",
              "    }\n",
              "\n",
              "    .colab-df-convert:hover {\n",
              "      background-color: #E2EBFA;\n",
              "      box-shadow: 0px 1px 2px rgba(60, 64, 67, 0.3), 0px 1px 3px 1px rgba(60, 64, 67, 0.15);\n",
              "      fill: #174EA6;\n",
              "    }\n",
              "\n",
              "    [theme=dark] .colab-df-convert {\n",
              "      background-color: #3B4455;\n",
              "      fill: #D2E3FC;\n",
              "    }\n",
              "\n",
              "    [theme=dark] .colab-df-convert:hover {\n",
              "      background-color: #434B5C;\n",
              "      box-shadow: 0px 1px 3px 1px rgba(0, 0, 0, 0.15);\n",
              "      filter: drop-shadow(0px 1px 2px rgba(0, 0, 0, 0.3));\n",
              "      fill: #FFFFFF;\n",
              "    }\n",
              "  </style>\n",
              "\n",
              "      <script>\n",
              "        const buttonEl =\n",
              "          document.querySelector('#df-3e0b5a08-2d11-4f48-b921-2f6491391157 button.colab-df-convert');\n",
              "        buttonEl.style.display =\n",
              "          google.colab.kernel.accessAllowed ? 'block' : 'none';\n",
              "\n",
              "        async function convertToInteractive(key) {\n",
              "          const element = document.querySelector('#df-3e0b5a08-2d11-4f48-b921-2f6491391157');\n",
              "          const dataTable =\n",
              "            await google.colab.kernel.invokeFunction('convertToInteractive',\n",
              "                                                     [key], {});\n",
              "          if (!dataTable) return;\n",
              "\n",
              "          const docLinkHtml = 'Like what you see? Visit the ' +\n",
              "            '<a target=\"_blank\" href=https://colab.research.google.com/notebooks/data_table.ipynb>data table notebook</a>'\n",
              "            + ' to learn more about interactive tables.';\n",
              "          element.innerHTML = '';\n",
              "          dataTable['output_type'] = 'display_data';\n",
              "          await google.colab.output.renderOutput(dataTable, element);\n",
              "          const docLink = document.createElement('div');\n",
              "          docLink.innerHTML = docLinkHtml;\n",
              "          element.appendChild(docLink);\n",
              "        }\n",
              "      </script>\n",
              "    </div>\n",
              "  </div>\n",
              "  "
            ]
          },
          "metadata": {}
        },
        {
          "output_type": "stream",
          "name": "stdout",
          "text": [
            "ROC AUC Score Default: \n",
            " [[459  88]\n",
            " [ 16  91]]\n",
            "\n",
            "ROC AUC Score Tuned: \n",
            " [[456  91]\n",
            " [ 15  92]]\n"
          ]
        }
      ]
    },
    {
      "cell_type": "code",
      "source": [
        "report_default = classification_report(y_test, y_pred_default)\n",
        "report_tuned = classification_report(y_test, y_pred_tuned)\n",
        "\n",
        "print('Classification Report Default Model: \\n', report_default)\n",
        "print('Classification Report Tuned Model: \\n', report_tuned)"
      ],
      "metadata": {
        "colab": {
          "base_uri": "https://localhost:8080/"
        },
        "id": "6ElM5sdpka2C",
        "outputId": "7d9c222e-6d60-41a7-efd9-5ad81d06f10a"
      },
      "execution_count": null,
      "outputs": [
        {
          "output_type": "stream",
          "name": "stdout",
          "text": [
            "Classification Report Default Model: \n",
            "               precision    recall  f1-score   support\n",
            "\n",
            "           0       0.97      0.84      0.90       547\n",
            "           1       0.51      0.85      0.64       107\n",
            "\n",
            "    accuracy                           0.84       654\n",
            "   macro avg       0.74      0.84      0.77       654\n",
            "weighted avg       0.89      0.84      0.86       654\n",
            "\n",
            "Classification Report Tuned Model: \n",
            "               precision    recall  f1-score   support\n",
            "\n",
            "           0       0.97      0.83      0.90       547\n",
            "           1       0.50      0.86      0.63       107\n",
            "\n",
            "    accuracy                           0.84       654\n",
            "   macro avg       0.74      0.85      0.77       654\n",
            "weighted avg       0.89      0.84      0.85       654\n",
            "\n"
          ]
        }
      ]
    },
    {
      "cell_type": "code",
      "source": [
        "def plot_auc(y_test, y_pred_proba, titles):\n",
        "    \n",
        "    fpr, tpr, threshold = roc_curve(y_test, y_pred_proba[::,1])\n",
        "    \n",
        "    plt.subplots(1, figsize=(6,6))\n",
        "    plt.plot(fpr, tpr)\n",
        "    plt.plot([0, 1], ls=\"--\")\n",
        "    plt.plot([0, 0], [1, 0] , c=\".7\"), plt.plot([1, 1] , c=\".7\")\n",
        "    plt.title(titles)\n",
        "    plt.ylabel('True Positive Rate')\n",
        "    plt.xlabel('False Positive Rate')\n",
        "    plt.show()\n",
        "    \n",
        "plot_auc(y_test, y_pred_proba_default, 'ROC Default Model')\n",
        "plot_auc(y_test, y_pred_proba_tuned, 'ROC Tuned Model')"
      ],
      "metadata": {
        "colab": {
          "base_uri": "https://localhost:8080/",
          "height": 791
        },
        "id": "-_kcYf2LktDF",
        "outputId": "e0d2a266-3b79-40ba-e03c-14622be171e3"
      },
      "execution_count": null,
      "outputs": [
        {
          "output_type": "display_data",
          "data": {
            "text/plain": [
              "<Figure size 432x432 with 1 Axes>"
            ],
            "image/png": "[encoded data removed]"
          },
          "metadata": {
            "needs_background": "light"
          }
        },
        {
          "output_type": "display_data",
          "data": {
            "text/plain": [
              "<Figure size 432x432 with 1 Axes>"
            ],
            "image/png": "[encoded data removed]"
          },
          "metadata": {
            "needs_background": "light"
          }
        }
      ]
    },
    {
      "cell_type": "markdown",
      "source": [
        "#### **Cat Boost Classifier**"
      ],
      "metadata": {
        "id": "UDJfbReBYrL1"
      }
    },
    {
      "cell_type": "code",
      "source": [
        "model_catboost = CatBoostClassifier(silent=True)\n",
        "hyperparam_space_catboost=[{\n",
        "    'model__n_estimators' : [100, 200, 300, 400, 500],\n",
        "    'model__max_depth': [i for i in range(1, 11)],\n",
        "    'model__learning_rate': [0.001, 0.01, 0.1, 0.2, 0.3, 0.4, 0.5],}]"
      ],
      "metadata": {
        "id": "JJKgFJ8MYtq9"
      },
      "execution_count": null,
      "outputs": []
    },
    {
      "cell_type": "code",
      "source": [
        "rus = RandomUnderSampler(sampling_strategy='majority', random_state=2022)\n",
        "x_train_fin, y_train_fin = rus.fit_resample(x_train, y_train)\n",
        "\n",
        "estimator = Pipeline([\n",
        "    ('preprocess', preprocessor),\n",
        "    ('model', model_catboost)])"
      ],
      "metadata": {
        "id": "cF6p23jJY3wT"
      },
      "execution_count": null,
      "outputs": []
    },
    {
      "cell_type": "code",
      "source": [
        "grid = GridSearchCV(estimator, \n",
        "                    n_jobs=-1, \n",
        "                    param_grid=hyperparam_space_catboost, \n",
        "                    scoring='roc_auc', \n",
        "                    cv=StratifiedKFold(n_splits=10, shuffle=True, random_state=42))\n",
        "\n",
        "grid.fit(x_train_fin, y_train_fin)\n",
        "print(f'Best score: {grid.best_score_}')\n",
        "print(f'Best params: {grid.best_params_}')"
      ],
      "metadata": {
        "id": "P1JceM5IY77c",
        "colab": {
          "base_uri": "https://localhost:8080/"
        },
        "outputId": "b4a2eb80-bf5d-4d8a-b643-2188a7fadd23"
      },
      "execution_count": null,
      "outputs": [
        {
          "output_type": "stream",
          "name": "stdout",
          "text": [
            "Best score: 0.924381261428314\n",
            "Best params: {'model__learning_rate': 0.1, 'model__max_depth': 9, 'model__n_estimators': 500}\n"
          ]
        }
      ]
    },
    {
      "cell_type": "code",
      "source": [
        "default_model = Pipeline([\n",
        "    ('preprocess', preprocessor),\n",
        "    ('model', model_catboost)\n",
        "])\n",
        "default_model.fit(x_train_fin, y_train_fin)"
      ],
      "metadata": {
        "id": "BwwKcteDZAzJ",
        "colab": {
          "base_uri": "https://localhost:8080/"
        },
        "outputId": "2d7963f1-ec21-4f8a-915d-f03b2798d790"
      },
      "execution_count": null,
      "outputs": [
        {
          "output_type": "execute_result",
          "data": {
            "text/plain": [
              "Pipeline(steps=[('preprocess',\n",
              "                 ColumnTransformer(remainder='passthrough',\n",
              "                                   transformers=[('misval', SimpleImputer(),\n",
              "                                                  ['Tenure', 'WarehouseToHome',\n",
              "                                                   'DaySinceLastOrder']),\n",
              "                                                 ('encode',\n",
              "                                                  OneHotEncoder(drop='first'),\n",
              "                                                  ['PreferedOrderCat',\n",
              "                                                   'MaritalStatus'])])),\n",
              "                ('model',\n",
              "                 <catboost.core.CatBoostClassifier object at 0x7f8abdffcb90>)])"
            ]
          },
          "metadata": {},
          "execution_count": 50
        }
      ]
    },
    {
      "cell_type": "code",
      "source": [
        "best_model = grid.best_estimator_\n",
        "best_model.fit(x_train_fin, y_train_fin)"
      ],
      "metadata": {
        "id": "-6qHwoZzZEf0",
        "colab": {
          "base_uri": "https://localhost:8080/"
        },
        "outputId": "a32ee533-fbae-4375-9c02-e2335fb35987"
      },
      "execution_count": null,
      "outputs": [
        {
          "output_type": "execute_result",
          "data": {
            "text/plain": [
              "Pipeline(steps=[('preprocess',\n",
              "                 ColumnTransformer(remainder='passthrough',\n",
              "                                   transformers=[('misval', SimpleImputer(),\n",
              "                                                  ['Tenure', 'WarehouseToHome',\n",
              "                                                   'DaySinceLastOrder']),\n",
              "                                                 ('encode',\n",
              "                                                  OneHotEncoder(drop='first'),\n",
              "                                                  ['PreferedOrderCat',\n",
              "                                                   'MaritalStatus'])])),\n",
              "                ('model',\n",
              "                 <catboost.core.CatBoostClassifier object at 0x7f8abe292650>)])"
            ]
          },
          "metadata": {},
          "execution_count": 51
        }
      ]
    },
    {
      "cell_type": "code",
      "source": [
        "# Testing\n",
        "y_pred_default = default_model.predict(x_test)\n",
        "y_pred_proba_default = default_model.predict_proba(x_test)\n",
        "\n",
        "y_pred_tuned = best_model.predict(x_test)\n",
        "y_pred_proba_tuned = best_model.predict_proba(x_test)\n",
        "\n",
        "roc_auc_default = roc_auc_score(y_test, y_pred_proba_default[:,1])\n",
        "roc_auc_tuned = roc_auc_score(y_test, y_pred_proba_tuned[:,1])\n",
        "\n",
        "recall_default = recall_score(y_test, y_pred_default)\n",
        "recall_tuned = recall_score(y_test, y_pred_tuned)\n",
        "\n",
        "con_mat_default = confusion_matrix(y_test, y_pred_default)\n",
        "con_mat_tuned = confusion_matrix(y_test, y_pred_tuned)\n",
        "\n",
        "fpr_default = con_mat_default[0][1]/(con_mat_default[0][1]+con_mat_default[0][0])\n",
        "fpr_tuned = con_mat_tuned[0][1]/(con_mat_tuned[0][1]+con_mat_tuned[0][0])\n",
        "\n",
        "display(pd.DataFrame(data={'Recall': [recall_default, recall_tuned],\n",
        "                           'FPR': [fpr_default, fpr_tuned],\n",
        "                           'ROC AUC': [roc_auc_default, roc_auc_tuned]},\n",
        "                     index=['Default Model', 'Tuned Model']))\n",
        "\n",
        "print('ROC AUC Score Default: \\n', con_mat_default)\n",
        "print('\\nROC AUC Score Tuned: \\n', con_mat_tuned)"
      ],
      "metadata": {
        "id": "9TuM3hPsZI13",
        "colab": {
          "base_uri": "https://localhost:8080/",
          "height": 234
        },
        "outputId": "6a07066d-ac69-404c-9a41-eb849ecabde7"
      },
      "execution_count": null,
      "outputs": [
        {
          "output_type": "display_data",
          "data": {
            "text/plain": [
              "                 Recall       FPR   ROC AUC\n",
              "Default Model  0.841121  0.155393  0.926054\n",
              "Tuned Model    0.897196  0.157221  0.931675"
            ],
            "text/html": [
              "\n",
              "  <div id=\"df-2944e620-a361-43a7-bdb6-ac3d06f04814\">\n",
              "    <div class=\"colab-df-container\">\n",
              "      <div>\n",
              "<style scoped>\n",
              "    .dataframe tbody tr th:only-of-type {\n",
              "        vertical-align: middle;\n",
              "    }\n",
              "\n",
              "    .dataframe tbody tr th {\n",
              "        vertical-align: top;\n",
              "    }\n",
              "\n",
              "    .dataframe thead th {\n",
              "        text-align: right;\n",
              "    }\n",
              "</style>\n",
              "<table border=\"1\" class=\"dataframe\">\n",
              "  <thead>\n",
              "    <tr style=\"text-align: right;\">\n",
              "      <th></th>\n",
              "      <th>Recall</th>\n",
              "      <th>FPR</th>\n",
              "      <th>ROC AUC</th>\n",
              "    </tr>\n",
              "  </thead>\n",
              "  <tbody>\n",
              "    <tr>\n",
              "      <th>Default Model</th>\n",
              "      <td>0.841121</td>\n",
              "      <td>0.155393</td>\n",
              "      <td>0.926054</td>\n",
              "    </tr>\n",
              "    <tr>\n",
              "      <th>Tuned Model</th>\n",
              "      <td>0.897196</td>\n",
              "      <td>0.157221</td>\n",
              "      <td>0.931675</td>\n",
              "    </tr>\n",
              "  </tbody>\n",
              "</table>\n",
              "</div>\n",
              "      <button class=\"colab-df-convert\" onclick=\"convertToInteractive('df-2944e620-a361-43a7-bdb6-ac3d06f04814')\"\n",
              "              title=\"Convert this dataframe to an interactive table.\"\n",
              "              style=\"display:none;\">\n",
              "        \n",
              "  <svg xmlns=\"http://www.w3.org/2000/svg\" height=\"24px\"viewBox=\"0 0 24 24\"\n",
              "       width=\"24px\">\n",
              "    <path d=\"M0 0h24v24H0V0z\" fill=\"none\"/>\n",
              "    <path d=\"M18.56 5.44l.94 2.06.94-2.06 2.06-.94-2.06-.94-.94-2.06-.94 2.06-2.06.94zm-11 1L8.5 8.5l.94-2.06 2.06-.94-2.06-.94L8.5 2.5l-.94 2.06-2.06.94zm10 10l.94 2.06.94-2.06 2.06-.94-2.06-.94-.94-2.06-.94 2.06-2.06.94z\"/><path d=\"M17.41 7.96l-1.37-1.37c-.4-.4-.92-.59-1.43-.59-.52 0-1.04.2-1.43.59L10.3 9.45l-7.72 7.72c-.78.78-.78 2.05 0 2.83L4 21.41c.39.39.9.59 1.41.59.51 0 1.02-.2 1.41-.59l7.78-7.78 2.81-2.81c.8-.78.8-2.07 0-2.86zM5.41 20L4 18.59l7.72-7.72 1.47 1.35L5.41 20z\"/>\n",
              "  </svg>\n",
              "      </button>\n",
              "      \n",
              "  <style>\n",
              "    .colab-df-container {\n",
              "      display:flex;\n",
              "      flex-wrap:wrap;\n",
              "      gap: 12px;\n",
              "    }\n",
              "\n",
              "    .colab-df-convert {\n",
              "      background-color: #E8F0FE;\n",
              "      border: none;\n",
              "      border-radius: 50%;\n",
              "      cursor: pointer;\n",
              "      display: none;\n",
              "      fill: #1967D2;\n",
              "      height: 32px;\n",
              "      padding: 0 0 0 0;\n",
              "      width: 32px;\n",
              "    }\n",
              "\n",
              "    .colab-df-convert:hover {\n",
              "      background-color: #E2EBFA;\n",
              "      box-shadow: 0px 1px 2px rgba(60, 64, 67, 0.3), 0px 1px 3px 1px rgba(60, 64, 67, 0.15);\n",
              "      fill: #174EA6;\n",
              "    }\n",
              "\n",
              "    [theme=dark] .colab-df-convert {\n",
              "      background-color: #3B4455;\n",
              "      fill: #D2E3FC;\n",
              "    }\n",
              "\n",
              "    [theme=dark] .colab-df-convert:hover {\n",
              "      background-color: #434B5C;\n",
              "      box-shadow: 0px 1px 3px 1px rgba(0, 0, 0, 0.15);\n",
              "      filter: drop-shadow(0px 1px 2px rgba(0, 0, 0, 0.3));\n",
              "      fill: #FFFFFF;\n",
              "    }\n",
              "  </style>\n",
              "\n",
              "      <script>\n",
              "        const buttonEl =\n",
              "          document.querySelector('#df-2944e620-a361-43a7-bdb6-ac3d06f04814 button.colab-df-convert');\n",
              "        buttonEl.style.display =\n",
              "          google.colab.kernel.accessAllowed ? 'block' : 'none';\n",
              "\n",
              "        async function convertToInteractive(key) {\n",
              "          const element = document.querySelector('#df-2944e620-a361-43a7-bdb6-ac3d06f04814');\n",
              "          const dataTable =\n",
              "            await google.colab.kernel.invokeFunction('convertToInteractive',\n",
              "                                                     [key], {});\n",
              "          if (!dataTable) return;\n",
              "\n",
              "          const docLinkHtml = 'Like what you see? Visit the ' +\n",
              "            '<a target=\"_blank\" href=https://colab.research.google.com/notebooks/data_table.ipynb>data table notebook</a>'\n",
              "            + ' to learn more about interactive tables.';\n",
              "          element.innerHTML = '';\n",
              "          dataTable['output_type'] = 'display_data';\n",
              "          await google.colab.output.renderOutput(dataTable, element);\n",
              "          const docLink = document.createElement('div');\n",
              "          docLink.innerHTML = docLinkHtml;\n",
              "          element.appendChild(docLink);\n",
              "        }\n",
              "      </script>\n",
              "    </div>\n",
              "  </div>\n",
              "  "
            ]
          },
          "metadata": {}
        },
        {
          "output_type": "stream",
          "name": "stdout",
          "text": [
            "ROC AUC Score Default: \n",
            " [[462  85]\n",
            " [ 17  90]]\n",
            "\n",
            "ROC AUC Score Tuned: \n",
            " [[461  86]\n",
            " [ 11  96]]\n"
          ]
        }
      ]
    },
    {
      "cell_type": "code",
      "source": [
        "report_default = classification_report(y_test, y_pred_default)\n",
        "report_tuned = classification_report(y_test, y_pred_tuned)\n",
        "\n",
        "print('Classification Report Default Model: \\n', report_default)\n",
        "print('Classification Report Tuned Model: \\n', report_tuned)"
      ],
      "metadata": {
        "id": "dt9tJS8LZORh",
        "colab": {
          "base_uri": "https://localhost:8080/"
        },
        "outputId": "f179b311-0a53-41f0-f145-6d9f9ac020a1"
      },
      "execution_count": null,
      "outputs": [
        {
          "output_type": "stream",
          "name": "stdout",
          "text": [
            "Classification Report Default Model: \n",
            "               precision    recall  f1-score   support\n",
            "\n",
            "           0       0.96      0.84      0.90       547\n",
            "           1       0.51      0.84      0.64       107\n",
            "\n",
            "    accuracy                           0.84       654\n",
            "   macro avg       0.74      0.84      0.77       654\n",
            "weighted avg       0.89      0.84      0.86       654\n",
            "\n",
            "Classification Report Tuned Model: \n",
            "               precision    recall  f1-score   support\n",
            "\n",
            "           0       0.98      0.84      0.90       547\n",
            "           1       0.53      0.90      0.66       107\n",
            "\n",
            "    accuracy                           0.85       654\n",
            "   macro avg       0.75      0.87      0.78       654\n",
            "weighted avg       0.90      0.85      0.87       654\n",
            "\n"
          ]
        }
      ]
    },
    {
      "cell_type": "code",
      "source": [
        "def plot_auc(y_test, y_pred_proba, titles):\n",
        "    \n",
        "    fpr, tpr, threshold = roc_curve(y_test, y_pred_proba[::,1])\n",
        "    \n",
        "    plt.subplots(1, figsize=(6,6))\n",
        "    plt.plot(fpr, tpr)\n",
        "    plt.plot([0, 1], ls=\"--\")\n",
        "    plt.plot([0, 0], [1, 0] , c=\".7\"), plt.plot([1, 1] , c=\".7\")\n",
        "    plt.title(titles)\n",
        "    plt.ylabel('True Positive Rate')\n",
        "    plt.xlabel('False Positive Rate')\n",
        "    plt.show()\n",
        "    \n",
        "plot_auc(y_test, y_pred_proba_default, 'ROC Default Model')\n",
        "plot_auc(y_test, y_pred_proba_tuned, 'ROC Tuned Model')"
      ],
      "metadata": {
        "id": "yaFH7wCgBp9B",
        "colab": {
          "base_uri": "https://localhost:8080/",
          "height": 791
        },
        "outputId": "b6e8cac3-b3bb-42cf-e5d3-700957841a5b"
      },
      "execution_count": null,
      "outputs": [
        {
          "output_type": "display_data",
          "data": {
            "text/plain": [
              "<Figure size 432x432 with 1 Axes>"
            ],
            "image/png": "[encoded data removed]"
          },
          "metadata": {
            "needs_background": "light"
          }
        },
        {
          "output_type": "display_data",
          "data": {
            "text/plain": [
              "<Figure size 432x432 with 1 Axes>"
            ],
            "image/png": "[encoded data removed]"
          },
          "metadata": {
            "needs_background": "light"
          }
        }
      ]
    },
    {
      "cell_type": "markdown",
      "source": [
        "#### **Summary**"
      ],
      "metadata": {
        "id": "y1ZZhfckAOAj"
      }
    },
    {
      "cell_type": "markdown",
      "source": [
        "> Light GBM\n",
        "\n",
        "![image.png](data:image/png;base64,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)"
      ],
      "metadata": {
        "id": "Qd7LtZakATyv"
      }
    },
    {
      "cell_type": "markdown",
      "source": [
        "> Cat Boost Classifier\n",
        "\n",
        "![image.png](data:image/png;base64,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)"
      ],
      "metadata": {
        "id": "kjGle9qRARE0"
      }
    },
    {
      "cell_type": "markdown",
      "source": [
        "Setelah melakukan hyperparameter tuning kepada 2 model dengan metode yang berbeda tersebut, bisa dilihat bahwa **model dengan menggunakan metode Cat Boost Classifier memiliki performa yang lebih** baik dari pada model dengan metode Light GBM. "
      ],
      "metadata": {
        "id": "PLojBvh2A7lQ"
      }
    },
    {
      "cell_type": "markdown",
      "source": [
        "## Feature Importances"
      ],
      "metadata": {
        "id": "O-1urLWak7jy"
      }
    },
    {
      "cell_type": "code",
      "source": [
        "feature_final = misval_kolom + pipeline_model['preprocess'].transformers_[1][1].get_feature_names().tolist() + ['NumberOfDeviceRegistered', 'SatisfactionScore', 'NumberOfAddress', 'Complain', 'CashbackAmount']\n",
        "\n",
        "feat_imp = pd.Series(best_model['model'].feature_importances_, feature_final).sort_values(ascending = False).head(10)\n",
        "feat_imp.plot(kind='barh', title='Feature Importances')\n",
        "plt.show()"
      ],
      "metadata": {
        "id": "fz1NdquIlBQD",
        "colab": {
          "base_uri": "https://localhost:8080/",
          "height": 281
        },
        "outputId": "71f1ffb9-63c2-426c-c329-7e975ccaa7d0"
      },
      "execution_count": null,
      "outputs": [
        {
          "output_type": "display_data",
          "data": {
            "text/plain": [
              "<Figure size 432x288 with 1 Axes>"
            ],
            "image/png": "[encoded data removed]"
          },
          "metadata": {
            "needs_background": "light"
          }
        }
      ]
    },
    {
      "cell_type": "markdown",
      "source": [
        "Selanjutnya, kita melakukan pencarian Feature Importances. Terlihat pada plot diatas, fitur **Tenure** merupakan fitur yang paling penting pada model yang dibuat dan selanjutnya fitur **Complain** pada urutan kedua.\n",
        "\n",
        "Sebelumnya kita juga sudah memprediksi fitur apa saja yang dapat menjadi prediktor yang baik yaitu: \n",
        "* Tenure\n",
        "* NumberOfDeciveRegistered\n",
        "* SatisfactionScore\n",
        "* Complain\n",
        "* CashbackAmount"
      ],
      "metadata": {
        "id": "X-1SiK12B4Gc"
      }
    },
    {
      "cell_type": "markdown",
      "source": [
        "## Conclution & Recomendation"
      ],
      "metadata": {
        "id": "e0meglr_4eP7"
      }
    },
    {
      "cell_type": "code",
      "source": [
        "print('Classification Report Model Tuned: \\n', report_tuned)"
      ],
      "metadata": {
        "id": "b-g0RiQEnUrt",
        "colab": {
          "base_uri": "https://localhost:8080/"
        },
        "outputId": "76482827-5337-4a65-c87b-9853b3547b6d"
      },
      "execution_count": null,
      "outputs": [
        {
          "output_type": "stream",
          "name": "stdout",
          "text": [
            "Classification Report Model Tuned: \n",
            "               precision    recall  f1-score   support\n",
            "\n",
            "           0       0.98      0.84      0.90       547\n",
            "           1       0.53      0.90      0.66       107\n",
            "\n",
            "    accuracy                           0.85       654\n",
            "   macro avg       0.75      0.87      0.78       654\n",
            "weighted avg       0.90      0.85      0.87       654\n",
            "\n"
          ]
        }
      ]
    },
    {
      "cell_type": "markdown",
      "source": [
        "### Conclusion\n",
        "\n",
        "Berdasarkan model yang telah dibuat, apabila model ini akan diimplementasikan (deploy), model akan:\n",
        "1. **Mendapatkan 84% pelanggan benar-benar tidak akan melakukan churn dari seluruh pelanggan yang terindikasi tidak churn**, sebagai contoh apabila ada 100 orang yang dianggap tidak akan churn maka kemungkinan masih ada 16 orang (100 - 84) yang akan melakukan churn.\n",
        "1. **Mendapatkan 90% pelanggan benar-benar akan melakukan churn dari seluruh pelanggan yang terindikasi churn**, sebagai contoh apabila ada 100 orang yang dianggap akan churn maka kemungkinan masih ada 10 orang (100 - 90) yang tidak akan churn.\n",
        "1. **Memprediksi 98% seorang pelanggan tidak akan churn dengan benar**, maksudnya adalah apabila seorang pelanggan dianggap tidak akan melakukan churn maka kemungkinan pelanggan tersebut tidak akan churn sebesar 98%.\n",
        "1. **Memprediksi 53% seorang pelanggan akan churn dengan benar**, maksudnya adalah apabila seorang pelanggan dianggap akan melakukan churn maka kemungkinan pelanggan tersebut akan churn sebesar 53%\n",
        "\n",
        "kita akan mencoba mengukur apakah model yang telah dibuat akan berdampak pada perusahaan atau tidak. Apabila seandainya ada 200 data pelnggan (100 pelanggan kategori chrun, 100 pelanggan kategori tidak churn) dan setiap orang memiliki jatah diskon (promosi) sebesar 1 juta, maka perhitungan biaya promosi adalah sebagai berikut:\n",
        "\n",
        "1. Tanpa Model (semua pelanggan mendapatkan diskon)\n",
        "  * Total biaya promosi => **200 juta** (didapat dari 200 pelanggan dikali 1 juta)\n",
        "  * Total biaya terbuang => **200 juta** (didapat dari 200 pelanggan dikali 1 juta karena baik pelanggan dalam kategori churn maupun tidak akan tetap menggunakan promo tersebut)\n",
        "\n",
        "1. Dengan model (hanya kandidat yang terindikasi churn akan kita berikan diskon tersebut yaitu 100 org dengan jumlah total 100 juta)\n",
        "  * Total pelanggan churn => **16 pelanggan** (didapat dari 16 orang yang sebenarnya akan churn tapi masuk kedalam kategori pelanggan tidak churn)\n",
        "  * Total pelanggan berpikir ulang untuk churn => **90 pelanggan** (didapat dari 90 orang dikategori churn yang akan churn, mereka akan berpikir ulang untuk melakukan churn)\n",
        "  * Total Biaya Terbuang => **10 juta** (didapat dari 10 pelanggan dikategori churn bukan pelanggan churn)\n",
        "  * Total penghematan => **100 juta** (karena biaya promosi hanya diberikan pada pelanggan dengan kategori churn)\n",
        "\n",
        "Berdasarkan contoh hitungan tersebut, terlihat bahwa dengan menggunakan model kita, maka perusahaan akan menghemat biaya yang cukup besar untuk promosi (diskon) pada pelanggan dan dapat menjaga pelanggan agar tidak melakukan churn."
      ],
      "metadata": {
        "id": "30Vmcl9rEDxc"
      }
    },
    {
      "cell_type": "markdown",
      "source": [
        "### Recomendation\n",
        "\n",
        "Rekomendasi pada kegiatan ini adalah:\n",
        "1. Mencoba algorithm ML yang lain dan juga mencoba hyperparameter tuning kembali.\n",
        "1. Menambahkan fitur-fitur atau kolom-kolom baru yang kemungkinan dapat menjadi feature importance dalam model.\n",
        "1. Menambah data-data baru, khususnya data pelanggan yang melakukan churn harus selalu ditambah agar model dapat berkembang dan menjadi lebih baik."
      ],
      "metadata": {
        "id": "ImGokiT-WDMo"
      }
    },
    {
      "cell_type": "markdown",
      "source": [
        "## Export Model"
      ],
      "metadata": {
        "id": "UE9jbfRr4ou1"
      }
    },
    {
      "cell_type": "code",
      "source": [
        "file_name = 'model.sav'\n",
        "pickle.dump(best_model, open(file_name, 'wb'))"
      ],
      "metadata": {
        "id": "aMpZJE_hgFIE"
      },
      "execution_count": null,
      "outputs": []
    },
    {
      "cell_type": "markdown",
      "source": [
        "## Thank You & Good Luck Everyone"
      ],
      "metadata": {
        "id": "3MIFsnlv4rEc"
      }
    }
  ]
}